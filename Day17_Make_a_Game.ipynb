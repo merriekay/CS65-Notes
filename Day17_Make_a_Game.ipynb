{
  "cells": [
    {
      "cell_type": "markdown",
      "metadata": {
        "id": "view-in-github",
        "colab_type": "text"
      },
      "source": [
        "<a href=\"https://colab.research.google.com/github/merriekay/CS65-Notes/blob/main/Day17_Make_a_Game.ipynb\" target=\"_parent\"><img src=\"https://colab.research.google.com/assets/colab-badge.svg\" alt=\"Open In Colab\"/></a>"
      ]
    },
    {
      "cell_type": "markdown",
      "metadata": {
        "id": "Pci2qgGAzWOz"
      },
      "source": [
        "# Day 17: Make a Game 🎲🎲 \n",
        "#### CS65: Introduction to Computer Science 1\n",
        "\n",
        "Monday, November 7th, 2022\n",
        "\n",
        "[⏮ Go back to Day16](https://github.com/merriekay/CS65-Notes/blob/main/Day16_Nested_Loops_Practice.ipynb) "
      ]
    },
    {
      "cell_type": "markdown",
      "metadata": {
        "id": "lp8QyQr_zWO1"
      },
      "source": [
        "## Admin Stuff:\n",
        "\n",
        "Attendance Q\n",
        "\n",
        "Lab #13 released today, details are in these notes. Due Thursday 11/10 by 6:00pm. \n"
      ]
    },
    {
      "cell_type": "markdown",
      "metadata": {
        "id": "EFmP1IzKzWO2"
      },
      "source": [
        "## In Class Lab 13: Make a Dice Game 🎲\n",
        "\n",
        "Now that we have quite a few tools in our CS toolbox, let's put them together to make something fun. \n",
        "\n",
        "Let's use the `roll_die()` function below to build a dice game of your choice--you can even make one up if you'd like to. Here are some ideas:\n",
        "- [Yahtzee Rules](https://cardgames.io/yahtzee/#rules)\n",
        "- [Bunco Rules](https://www.dicegamedepot.com/bunco-rules/)\n",
        "- [Farkle Rules](https://cardgames.io/farkle/#rules)\n",
        "\n",
        "It doesn't have to be as complicated as the rules above, feel free to simplify it.\n"
      ]
    },
    {
      "cell_type": "markdown",
      "metadata": {
        "id": "5_jZts0SzWO2"
      },
      "source": [
        "### More Details:\n",
        "\n",
        "I have a game night friend group who meet most Thursdays. I'm going to let them judge your games, and the winner will win either something silly from the dollar store, or help 3D printing something of their choice. \n",
        "\n",
        "This means that this lab will be due to CodePost (Lab 13 Make a Diece Game) on __Thursday, November 10th, by 6:00pm__ (before this week's game night). \n",
        "\n",
        "Feel free to work in pairs, just make sure that both you and your partner's name is on the final submission. \n",
        "\n",
        "For full points, include __at least 4 of the following criteria__:\n",
        "- at least 1 list\n",
        "- nested if-statement\n",
        "- a single for loop (separate from a nested for loop)\n",
        "- a nested for loop\n",
        "- a while loop\n",
        "- use the `range()` function\n",
        "- at least 2 functions (other than `roll_die`)\n",
        "\n",
        "At the top of your code be sure to include the following:\n",
        "- the names of everyone in your group (CodePost is set up to accept group work, so you should only need to submit once).\n",
        "- a list of which of the criteria your project hits\n",
        "- a description of how to play your game\n"
      ]
    },
    {
      "cell_type": "code",
      "execution_count": null,
      "metadata": {
        "id": "vf8NJhIBzWO3"
      },
      "outputs": [],
      "source": [
        "import random\n",
        "\n",
        "def roll_die(num_sides):\n",
        "    \"\"\"\n",
        "    Will return a random number between 1 and num_sides, as a dice would.\n",
        "    \n",
        "    Parameters:\n",
        "        num_sides: the upper bound on the random number\n",
        "    Return:\n",
        "        a random number between 1 and num_sides, inclusive.\n",
        "    \"\"\"\n",
        "    return random.randint(1,num_sides)"
      ]
    },
    {
      "cell_type": "code",
      "execution_count": null,
      "metadata": {
        "id": "bMBi5QGbzWO4",
        "outputId": "c45becbb-af73-42ce-db55-9c52c83c7b30"
      },
      "outputs": [
        {
          "name": "stdout",
          "output_type": "stream",
          "text": [
            "P1:  6\n",
            "P2:  3\n",
            "Player 1 wins!\n"
          ]
        }
      ],
      "source": [
        "#super simple example game\n",
        "\n",
        "player1_roll = roll_die(6)\n",
        "player2_roll = roll_die(6)\n",
        "\n",
        "print(\"P1: \", player1_roll)\n",
        "print(\"P2: \", player2_roll)\n",
        "\n",
        "if player1_roll > player2_roll:\n",
        "    print(\"Player 1 wins!\")\n",
        "elif player1_roll == player2_roll:\n",
        "    print(\"It's a tie!\")\n",
        "else:\n",
        "    print(\"Player 2 wins!\")"
      ]
    },
    {
      "cell_type": "code",
      "execution_count": null,
      "metadata": {
        "id": "Ys-XWBFazWO5",
        "outputId": "8b0705a8-c1bc-4a12-f16f-28baa1b1f756"
      },
      "outputs": [
        {
          "name": "stdout",
          "output_type": "stream",
          "text": [
            "P1:  [1, 3, 3, 5]\n",
            "P2:  [3, 5, 3, 2]\n"
          ]
        }
      ],
      "source": [
        "# Want to roll multiple dice at once?\n",
        "p1_roll = []\n",
        "p2_roll = []\n",
        "\n",
        "for x in range(4):\n",
        "    p1_roll.append(roll_die(6))\n",
        "    p2_roll.append(roll_die(6))\n",
        "    \n",
        "print(\"P1: \", p1_roll)\n",
        "print(\"P2: \", p2_roll)"
      ]
    },
    {
      "cell_type": "markdown",
      "metadata": {
        "id": "GmcaOTV1zWO5"
      },
      "source": [
        "## Have at it!\n",
        "\n",
        "Have some fun and see what you can come up with! Submit your game to __CodePost__ by Thursday at 6:00pm. "
      ]
    }
  ],
  "metadata": {
    "celltoolbar": "Slideshow",
    "kernelspec": {
      "display_name": "Python 3",
      "language": "python",
      "name": "python3"
    },
    "language_info": {
      "codemirror_mode": {
        "name": "ipython",
        "version": 3
      },
      "file_extension": ".py",
      "mimetype": "text/x-python",
      "name": "python",
      "nbconvert_exporter": "python",
      "pygments_lexer": "ipython3",
      "version": "3.8.3"
    },
    "colab": {
      "provenance": [],
      "include_colab_link": true
    }
  },
  "nbformat": 4,
  "nbformat_minor": 0
}