{
  "cells": [
    {
      "cell_type": "markdown",
      "metadata": {
        "id": "view-in-github",
        "colab_type": "text"
      },
      "source": [
        "<a href=\"https://colab.research.google.com/github/merriekay/CS65-Notes/blob/main/Day07_Notes_Lists.ipynb\" target=\"_parent\"><img src=\"https://colab.research.google.com/assets/colab-badge.svg\" alt=\"Open In Colab\"/></a>"
      ]
    },
    {
      "cell_type": "markdown",
      "metadata": {
        "id": "M6BO3JQrw8e7"
      },
      "source": [
        "# Day 07 Notes: Lists\n",
        "#### CS65: Introduction to Computer Science I\n",
        "\n",
        "Wednesday, September 28th, 2022"
      ]
    },
    {
      "cell_type": "markdown",
      "metadata": {
        "id": "FqBH0oMLw8e9"
      },
      "source": [
        "## Administrative Stuff\n",
        "\n",
        "You should be working on:\n",
        "- [Lab #5: Letter Grade](https://github.com/merriekay/CS65-Labs/blob/main/Lab05_ChainedConditionalLogicalOperatorPractice.ipynb), due Wednesday night (tonight) by 11:59 pm. \n",
        "    - Remember to submit your work early and often to troubleshoot\n",
        "- [Lab #6: Rainfall Search](https://github.com/merriekay/CS65-Labs/blob/main/Lab06_ListPractice.ipynb), released today, due Monday October 3rd, by 11:59 pm.\n"
      ]
    },
    {
      "cell_type": "markdown",
      "metadata": {
        "id": "_iZuWrL9w8e9"
      },
      "source": [
        "## Announcements\n",
        "\n",
        "Math and Computer Science Colloquium (research talk):\n",
        "- **Who**: Dr. Andrei Migunov\n",
        "- **What**: Analog and Chemical Computation\n",
        "- **When**: Friday, September 30th, 9:00-10:00am\n",
        "- Where: [Zoom link](https://drake-edu.zoom.us/i/81253737151) | Collier-Scripps 335"
      ]
    },
    {
      "cell_type": "markdown",
      "metadata": {
        "id": "ySQJFPU0w8e-"
      },
      "source": [
        "## Review: Chained Conditionals, Logical Operators, and String Comparison Review\n",
        "\n",
        "### Conditionals\n",
        "So far we've talked about:\n",
        "- `if` __statements__: branch your code based on one condition\n",
        "- `if-else` __statements__: Check one condition, if it is true do one thing, otherwise, do what's in the `else` block.\n",
        "- `if-elif-else` __statements__: Check if condition first, then the next elif, and the next elif. At most one conditional block will run."
      ]
    },
    {
      "cell_type": "markdown",
      "metadata": {
        "id": "pLqT10j5w8e-"
      },
      "source": [
        "### String Comparison\n",
        "Remember, `M` and `m` are not the same. We can use `ord('M')` and `ord('m')` to prove this. They have different ASCII codes. "
      ]
    },
    {
      "cell_type": "code",
      "execution_count": null,
      "metadata": {
        "id": "skchOf2Ew8e_",
        "outputId": "7e06e8ab-42f3-4791-f879-3ee017b78d97"
      },
      "outputs": [
        {
          "name": "stdout",
          "output_type": "stream",
          "text": [
            "ord('M'):  77\n",
            "ord('m'):  109\n",
            "False\n"
          ]
        }
      ],
      "source": [
        "print(\"ord('M'): \",ord('M'))\n",
        "print(\"ord('m'): \",ord('m'))\n",
        "print('M' == 'm')"
      ]
    },
    {
      "cell_type": "markdown",
      "metadata": {
        "id": "3bMR53CZw8fA"
      },
      "source": [
        "### String Functions\n",
        "We learned a few helpful functions for strings:\n",
        "- `lower()`, `upper()`, and `strip()`."
      ]
    },
    {
      "cell_type": "code",
      "execution_count": null,
      "metadata": {
        "id": "XYmaSUkrw8fB",
        "outputId": "99faa19a-9c3c-49da-bf85-b35ab6b7caeb"
      },
      "outputs": [
        {
          "name": "stdout",
          "output_type": "stream",
          "text": [
            "enter a fruit: kiwi\n",
            "lower(): kiwi\n",
            "upper(): KIWI\n",
            "strip(): kiwi\n",
            "user_input.lower().strip(): kiwi\n"
          ]
        }
      ],
      "source": [
        "user_input = input(\"enter a fruit: \")\n",
        "print(\"lower():\", user_input.lower())\n",
        "print(\"upper():\", user_input.upper())\n",
        "print(\"strip():\", user_input.strip())\n",
        "print(\"user_input.lower().strip():\", user_input.lower().strip())"
      ]
    },
    {
      "cell_type": "markdown",
      "metadata": {
        "id": "j1r-_fJqw8fB"
      },
      "source": [
        "## Accumulator Operator `+=`\n",
        "\n",
        "On the Quiz, this one tripped so many people up that I ended up giving everyone full credit:\n",
        "\n",
        "What is another way of writing the following statement? `x = x + 7`"
      ]
    },
    {
      "cell_type": "code",
      "execution_count": null,
      "metadata": {
        "id": "DYRnwbulw8fC",
        "outputId": "d5b7950a-0df6-43f8-fd12-781342b1993e"
      },
      "outputs": [
        {
          "name": "stdout",
          "output_type": "stream",
          "text": [
            "7\n"
          ]
        }
      ],
      "source": [
        "x = 0\n",
        "x += 7 \n",
        "print(x)"
      ]
    },
    {
      "cell_type": "markdown",
      "metadata": {
        "id": "tvOGA36Cw8fC"
      },
      "source": [
        "### PollEverywhere Q:"
      ]
    },
    {
      "cell_type": "code",
      "execution_count": null,
      "metadata": {
        "id": "lRIaqdH7w8fD",
        "outputId": "d46b4232-4d3a-4edf-de19-4aa675f40ade"
      },
      "outputs": [
        {
          "name": "stdout",
          "output_type": "stream",
          "text": [
            "Welcome to the fruit store, today we have: apple, strawberry, kiwi.\n",
            "Which fruit would you like? Kiwi\n",
            "Sorry, we don't sell that here\n"
          ]
        }
      ],
      "source": [
        "# PollEverywhere Question\n",
        "print(\"Welcome to the fruit store, today we have: apple, strawberry, kiwi.\")\n",
        "fruit = input(\"Which fruit would you like? \")\n",
        "cost = 0\n",
        "if fruit == 'apple':\n",
        "    cost += 0.75\n",
        "    print(\"Your total is: \", cost)\n",
        "elif fruit == 'strawberry':\n",
        "    cost += 1.50\n",
        "    print(\"Your total is: \", cost)\n",
        "elif fruit == 'kiwi':\n",
        "    cost += 2.00\n",
        "    print(\"Your total is: \", cost)\n",
        "else:\n",
        "    print(\"Sorry, we don't sell that here\")"
      ]
    },
    {
      "cell_type": "markdown",
      "metadata": {
        "id": "auPX77wIw8fD"
      },
      "source": [
        "### Logical Operators: \n",
        "- `and`, `or`, and `not`\n",
        "\n",
        "### A common error:\n",
        "Logical operators need to have __full boolean expressions__ on either side. "
      ]
    },
    {
      "cell_type": "code",
      "execution_count": null,
      "metadata": {
        "id": "N2zI8j2Rw8fE",
        "outputId": "66cb35e1-be62-4d10-aff8-e0bba7891286"
      },
      "outputs": [
        {
          "name": "stdout",
          "output_type": "stream",
          "text": [
            "Welcome to the fruit store, today we have: apple, strawberry, kiwi, and grapes.\n",
            "Which fruit would you like? strawberry\n",
            "Your total is:  0.75\n"
          ]
        }
      ],
      "source": [
        "# let's say the store also sold grapes for 0.75. \n",
        "print(\"Welcome to the fruit store, today we have: apple, strawberry, kiwi, and grapes.\")\n",
        "fruit = input(\"Which fruit would you like? \")\n",
        "cost = 0\n",
        "if fruit == 'apple' or 'grapes':\n",
        "    cost += 0.75\n",
        "    print(\"Your total is: \", cost)\n",
        "elif fruit == 'strawberry':\n",
        "    cost += 1.50\n",
        "    print(\"Your total is: \", cost)\n",
        "elif fruit == 'kiwi':\n",
        "    cost += 2.00\n",
        "    print(\"Your total is: \", cost)\n",
        "else:\n",
        "    print(\"Sorry, we don't sell that here\")"
      ]
    },
    {
      "cell_type": "markdown",
      "metadata": {
        "id": "68gD_gsww8fE"
      },
      "source": [
        "# New Material!\n",
        "## Containers\n",
        "\n",
        "Some types in Python are used for storing a collection of values. These types are called __containers__. \n",
        "\n",
        "__List:__ a container type that stores values in a ordered _sequence_"
      ]
    },
    {
      "cell_type": "code",
      "execution_count": null,
      "metadata": {
        "id": "LP1z71Tfw8fF"
      },
      "outputs": [],
      "source": [
        "doctor_who_actors = [\"McGann\",\"Eccleston\",\"Tennant\",\"Smith\",\"Capaldi\",\"Whittaker\"]\n",
        "rainfall_amounts = [0.0, 0.3, 0.71, 0.0, 0.32, 1.1, 0.4]\n",
        "dates = [\"March 14, 2020\",2021,\"4/1\"]\n",
        "empty_list = []"
      ]
    },
    {
      "cell_type": "markdown",
      "metadata": {
        "id": "ehNBkxsSw8fF"
      },
      "source": [
        "values in a list are called __items__ or __elements__, e.g., `\"Capaldi\"`, `0.3`\n",
        "\n",
        "Syntax: start with `[`, end with `]`, separate with `,`"
      ]
    },
    {
      "cell_type": "markdown",
      "metadata": {
        "id": "2IY9EgaCw8fF"
      },
      "source": [
        "## Accessing items in a list\n",
        "\n",
        "You can access individual items in a list using their __index__, which is their position in the list:\n",
        "- indices _start at 0_\n",
        "- Use `[ ]` at the end of the list to access the index\n",
        "- Between the brackets, you can put a number or a variable (of type int)\n"
      ]
    },
    {
      "cell_type": "code",
      "execution_count": null,
      "metadata": {
        "id": "tMSDKdY2w8fF",
        "outputId": "6e5f73a0-6b24-468b-d167-f333951b11f8"
      },
      "outputs": [
        {
          "name": "stdout",
          "output_type": "stream",
          "text": [
            "Capaldi\n"
          ]
        }
      ],
      "source": [
        "#           index:       0          1          2        3        4         5\n",
        "doctor_who_actors = [\"McGann\",\"Eccleston\",\"Tennant\",\"Smith\",\"Capaldi\",\"Whittaker\"]\n",
        "print(doctor_who_actors[4]) "
      ]
    },
    {
      "cell_type": "code",
      "execution_count": null,
      "metadata": {
        "id": "PROZUC0kw8fG",
        "outputId": "ddb54a57-31ef-4c0b-ba90-d16141f9d6c7"
      },
      "outputs": [
        {
          "name": "stdout",
          "output_type": "stream",
          "text": [
            "0.0\n"
          ]
        }
      ],
      "source": [
        "ndx = 0\n",
        "rainfall_amounts = [0.0, 0.3, 0.71, 0.0, 0.32, 1.1, 0.4]\n",
        "print(rainfall_amounts[ndx])"
      ]
    },
    {
      "cell_type": "markdown",
      "metadata": {
        "id": "8MBkW0KDw8fG"
      },
      "source": [
        "Using index notation, you can treat an item in a list like any other variable"
      ]
    },
    {
      "cell_type": "code",
      "execution_count": null,
      "metadata": {
        "id": "YTh9X4Iew8fG",
        "outputId": "09c5fef1-17a7-427d-d48d-e7158340d4a2"
      },
      "outputs": [
        {
          "data": {
            "text/plain": [
              "1.5"
            ]
          },
          "execution_count": 5,
          "metadata": {},
          "output_type": "execute_result"
        }
      ],
      "source": [
        "rainfall_amounts = [0.0, 0.3, 0.71, 0.0, 0.32, 1.1, 0.4]\n",
        "total_weekend_rainfall = rainfall_amounts[5] + rainfall_amounts[6] \n",
        "total_weekend_rainfall "
      ]
    },
    {
      "cell_type": "markdown",
      "metadata": {
        "id": "iNtnOa3Qw8fH"
      },
      "source": [
        "You will get an error if you try to access an item using an index that is too big for the list."
      ]
    },
    {
      "cell_type": "code",
      "execution_count": null,
      "metadata": {
        "id": "nE3wdYyXw8fH",
        "outputId": "2ee0bd26-4ea9-4311-fb24-50e9e6a55fe3"
      },
      "outputs": [
        {
          "ename": "IndexError",
          "evalue": "list index out of range",
          "output_type": "error",
          "traceback": [
            "\u001b[0;31m---------------------------------------------------------------------------\u001b[0m",
            "\u001b[0;31mIndexError\u001b[0m                                Traceback (most recent call last)",
            "\u001b[0;32m<ipython-input-6-91949d9bfcd0>\u001b[0m in \u001b[0;36m<module>\u001b[0;34m\u001b[0m\n\u001b[1;32m      1\u001b[0m \u001b[0mdoctor_who_actors\u001b[0m \u001b[0;34m=\u001b[0m \u001b[0;34m[\u001b[0m\u001b[0;34m\"McGann\"\u001b[0m\u001b[0;34m,\u001b[0m\u001b[0;34m\"Eccleston\"\u001b[0m\u001b[0;34m,\u001b[0m\u001b[0;34m\"Tennant\"\u001b[0m\u001b[0;34m,\u001b[0m\u001b[0;34m\"Smith\"\u001b[0m\u001b[0;34m,\u001b[0m\u001b[0;34m\"Capaldi\"\u001b[0m\u001b[0;34m,\u001b[0m\u001b[0;34m\"Whittaker\"\u001b[0m\u001b[0;34m]\u001b[0m\u001b[0;34m\u001b[0m\u001b[0;34m\u001b[0m\u001b[0m\n\u001b[0;32m----> 2\u001b[0;31m \u001b[0mprint\u001b[0m\u001b[0;34m(\u001b[0m\u001b[0mdoctor_who_actors\u001b[0m\u001b[0;34m[\u001b[0m\u001b[0;36m7\u001b[0m\u001b[0;34m]\u001b[0m\u001b[0;34m)\u001b[0m\u001b[0;34m\u001b[0m\u001b[0;34m\u001b[0m\u001b[0m\n\u001b[0m",
            "\u001b[0;31mIndexError\u001b[0m: list index out of range"
          ]
        }
      ],
      "source": [
        "doctor_who_actors = [\"McGann\",\"Eccleston\",\"Tennant\",\"Smith\",\"Capaldi\",\"Whittaker\"]\n",
        "print(doctor_who_actors[7])"
      ]
    },
    {
      "cell_type": "markdown",
      "metadata": {
        "id": "4H5ooh4lw8fH"
      },
      "source": [
        "But, if you use a negative index, it will count from the back of the list."
      ]
    },
    {
      "cell_type": "code",
      "execution_count": null,
      "metadata": {
        "id": "VbfqSyxLw8fH",
        "outputId": "0e13e8f9-db7d-40d8-fa73-6ed5fe621a55"
      },
      "outputs": [
        {
          "name": "stdout",
          "output_type": "stream",
          "text": [
            "Whittaker\n"
          ]
        }
      ],
      "source": [
        "doctor_who_actors = [\"McGann\",\"Eccleston\",\"Tennant\",\"Smith\",\"Capaldi\",\"Whittaker\"]\n",
        "print(doctor_who_actors[-1])"
      ]
    },
    {
      "cell_type": "markdown",
      "metadata": {
        "id": "al7pJpLcw8fH"
      },
      "source": [
        "## Updating items in a list\n",
        "\n",
        "You can also use list notation to change values in a list"
      ]
    },
    {
      "cell_type": "code",
      "execution_count": null,
      "metadata": {
        "id": "f6Cyn5_ow8fI",
        "outputId": "7e421cd6-95c9-456f-9821-4ae415cd7426"
      },
      "outputs": [
        {
          "name": "stdout",
          "output_type": "stream",
          "text": [
            "[0.0, 0.3, 0.65, 0.0, 0.32, 1.1, 0.4]\n"
          ]
        }
      ],
      "source": [
        "rainfall_amounts = [0.0, 0.3, 0.71, 0.0, 0.32, 1.1, 0.4]\n",
        "rainfall_amounts[2] = 0.65\n",
        "print(rainfall_amounts)"
      ]
    },
    {
      "cell_type": "markdown",
      "metadata": {
        "id": "uGE3rXuTw8fI"
      },
      "source": [
        "## Group Exercises:\n",
        "\n",
        "Fill in the blank:"
      ]
    },
    {
      "cell_type": "code",
      "execution_count": null,
      "metadata": {
        "id": "PG5iaUHCw8fI"
      },
      "outputs": [],
      "source": [
        "rainfall_amounts = [0.0, 0.3, 0.71, 0.0, 0.32, 1.1, 0.4]\n",
        "day_num = int(input(\"Enter the number of a day 0-6: \"))\n",
        "print(\"Day\",day_num,\"had\",         ,\"inches of rainfall\") #Fill in the blank"
      ]
    },
    {
      "cell_type": "markdown",
      "metadata": {
        "id": "7zBfrFyQw8fI"
      },
      "source": [
        "Add the line of code that will update the list with the new value."
      ]
    },
    {
      "cell_type": "code",
      "execution_count": null,
      "metadata": {
        "id": "bDbx3T3tw8fI"
      },
      "outputs": [],
      "source": [
        "rainfall_amounts = [0.0, 0.3, 0.71, 0.0, 0.32, 1.1, 0.4]\n",
        "day_num = int(input(\"Enter the number of a day 0-6: \"))\n",
        "new_amt = float(input(\"Enter an updated rainfall amount for that day: \"))\n",
        "#new line of code here"
      ]
    },
    {
      "cell_type": "markdown",
      "metadata": {
        "id": "bYH0m-e6w8fI"
      },
      "source": [
        "## Functions\n",
        "\n",
        "There are several useful functions that you can use on lists.\n",
        "\n",
        "Some of them require you to pass the list as an argument"
      ]
    },
    {
      "cell_type": "code",
      "execution_count": null,
      "metadata": {
        "id": "zJoZEH_5w8fI",
        "outputId": "90dd4cae-7ab8-4d30-cbab-7077f367200e"
      },
      "outputs": [
        {
          "data": {
            "text/plain": [
              "7"
            ]
          },
          "execution_count": 9,
          "metadata": {},
          "output_type": "execute_result"
        }
      ],
      "source": [
        "rainfall_amounts = [0.0, 0.3, 0.71, 0.0, 0.32, 1.1, 0.4]\n",
        "len(rainfall_amounts) #length of the list"
      ]
    },
    {
      "cell_type": "code",
      "execution_count": null,
      "metadata": {
        "id": "OJA5sfMnw8fJ",
        "outputId": "92c0d655-4380-4dec-9107-5e8ab7f805f9"
      },
      "outputs": [
        {
          "data": {
            "text/plain": [
              "1.1"
            ]
          },
          "execution_count": 10,
          "metadata": {},
          "output_type": "execute_result"
        }
      ],
      "source": [
        "max(rainfall_amounts) #largest value in the list"
      ]
    },
    {
      "cell_type": "markdown",
      "metadata": {
        "id": "phFmk_Lyw8fJ"
      },
      "source": [
        "Some of them require to use the dot notation. \n",
        "\n",
        "Whenever you use a function with dot notation, it is technically called a __method__. The distinction will become more important later, but for now, don't be confused if you see the word _method_ in documentation like here: https://docs.python.org/3/tutorial/datastructures.html"
      ]
    },
    {
      "cell_type": "code",
      "execution_count": null,
      "metadata": {
        "id": "aLeYEvJUw8fJ",
        "outputId": "79f5228c-562b-4fe2-d132-de945dd475fe"
      },
      "outputs": [
        {
          "data": {
            "text/plain": [
              "1"
            ]
          },
          "execution_count": 11,
          "metadata": {},
          "output_type": "execute_result"
        }
      ],
      "source": [
        "rainfall_amounts.index(0.3) #which index can I find 0.3 at?"
      ]
    },
    {
      "cell_type": "code",
      "execution_count": null,
      "metadata": {
        "id": "9Ab7Lg58w8fJ",
        "outputId": "b37ce59c-bd8e-4ffa-b0e3-9ad3ef5ee4da"
      },
      "outputs": [
        {
          "data": {
            "text/plain": [
              "2"
            ]
          },
          "execution_count": 12,
          "metadata": {},
          "output_type": "execute_result"
        }
      ],
      "source": [
        "rainfall_amounts.count(0.0) #how many times does 0.0 appear in the list?"
      ]
    },
    {
      "cell_type": "markdown",
      "metadata": {
        "id": "8zZxlv7uw8fJ"
      },
      "source": [
        "## Group Exercises:"
      ]
    },
    {
      "cell_type": "code",
      "execution_count": null,
      "metadata": {
        "id": "H-XElRe0w8fK"
      },
      "outputs": [],
      "source": [
        "doctor_who_actors = [\"McGann\",\"Eccleston\",\"Tennant\",\"Smith\",\"Capaldi\",\"Whittaker\"]\n",
        "print( len(doctor_who_actors) )\n",
        "print( max(doctor_who_actors) )\n",
        "\n",
        "rainfall_amounts = [0.0, 0.3, 0.71, 0.0, 0.32, 1.1, 0.4]\n",
        "print( min(rainfall_amounts) )\n",
        "print( sum(rainfall_amounts) )\n",
        "\n",
        "rainfall_amounts.reverse()\n",
        "print(rainfall_amounts)\n",
        "\n",
        "rainfall_amounts.sort()\n",
        "print(rainfall_amounts)"
      ]
    },
    {
      "cell_type": "markdown",
      "metadata": {
        "id": "8ab0sEzew8fK"
      },
      "source": [
        "Execute this code and answer the following questions:\n",
        "- What do the `min()` and `sum()` functions do? \n",
        "- What do the `reverse()` and `sort()` function do?\n",
        "- Can you apply `sum()` too the `doctor_who_actors` list?\n",
        "- Write the line of code that will tell you which index `\"Tennant\"` appears at in the `doctor_who_actors` list."
      ]
    },
    {
      "cell_type": "markdown",
      "metadata": {
        "id": "z2NQlD62w8fK"
      },
      "source": [
        "## Testing membership in a list\n",
        "\n",
        "You can test if a value is in a list using the `in` operator."
      ]
    },
    {
      "cell_type": "code",
      "execution_count": null,
      "metadata": {
        "id": "192lMDa5w8fK",
        "outputId": "c7a907ea-7146-4d6b-9120-6ddd1068aedd"
      },
      "outputs": [
        {
          "name": "stdout",
          "output_type": "stream",
          "text": [
            "False\n"
          ]
        }
      ],
      "source": [
        "doctor_who_actors = [\"McGann\",\"Eccleston\",\"Tennant\",\"Smith\",\"Capaldi\",\"Whittaker\"]\n",
        "print(\"Cushing\" in doctor_who_actors)"
      ]
    },
    {
      "cell_type": "code",
      "execution_count": null,
      "metadata": {
        "id": "teCAaDTBw8fK",
        "outputId": "35986001-b661-4c40-e06b-9e794455aa39"
      },
      "outputs": [
        {
          "name": "stdout",
          "output_type": "stream",
          "text": [
            "Enter a rainfall amount: 0.32\n",
            "that amount appears in the list\n"
          ]
        }
      ],
      "source": [
        "rainfall_amounts = [0.0, 0.3, 0.71, 0.0, 0.32, 1.1, 0.4]\n",
        "amt = float(input(\"Enter a rainfall amount: \"))\n",
        "if amt in rainfall_amounts:\n",
        "    print(\"that amount appears in the list\")"
      ]
    },
    {
      "cell_type": "markdown",
      "metadata": {
        "id": "PZpTDAb6w8fK"
      },
      "source": [
        "## Group Exercise\n",
        "\n",
        "Fill in the blank"
      ]
    },
    {
      "cell_type": "code",
      "execution_count": null,
      "metadata": {
        "id": "qF8-DaRow8fL"
      },
      "outputs": [],
      "source": [
        "doctor_who_actors = [\"McGann\",\"Eccleston\",\"Tennant\",\"Smith\",\"Capaldi\",\"Whittaker\"]\n",
        "actor = input(\"Enter the name of an actor: \")\n",
        "if             :   #fill in the blank\n",
        "    print(actor,\"has played Doctor Who.\")"
      ]
    },
    {
      "cell_type": "markdown",
      "metadata": {
        "hideCode": false,
        "hidePrompt": false,
        "id": "lFNquLLfw8fL"
      },
      "source": [
        "## Appending items to the end of a list\n",
        "\n",
        "Add new items to the end of a list using the `append()` list method."
      ]
    },
    {
      "cell_type": "code",
      "execution_count": null,
      "metadata": {
        "hideCode": false,
        "hidePrompt": false,
        "id": "EbkQO1Dqw8fL",
        "outputId": "31569064-f5cf-4445-811e-e91159a89cfa"
      },
      "outputs": [
        {
          "name": "stdout",
          "output_type": "stream",
          "text": [
            "[0.0, 0.3, 0.71, 0.0, 0.32, 1.1, 0.4, 0.1]\n"
          ]
        }
      ],
      "source": [
        "rainfall_amounts = [0.0, 0.3, 0.71, 0.0, 0.32, 1.1, 0.4]\n",
        "rainfall_amounts.append(0.1)\n",
        "print(rainfall_amounts)"
      ]
    },
    {
      "cell_type": "markdown",
      "metadata": {
        "hideCode": false,
        "hidePrompt": false,
        "id": "RluM7Efjw8fL"
      },
      "source": [
        "## Inserting new items into the beginning/middle of a list\n",
        "\n",
        "Add new items to the beginning or middlle of a list using the `insert()` method."
      ]
    },
    {
      "cell_type": "code",
      "execution_count": null,
      "metadata": {
        "hideCode": false,
        "hidePrompt": false,
        "id": "HxHLgk3Tw8fL",
        "outputId": "f4b8bf9f-2b28-46b4-8dc0-010b1cbc0ef0"
      },
      "outputs": [
        {
          "name": "stdout",
          "output_type": "stream",
          "text": [
            "['McGann', 'Hurt', 'Eccleston', 'Tennant', 'Smith', 'Capaldi', 'Whittaker']\n"
          ]
        }
      ],
      "source": [
        "doctor_who_actors = [\"McGann\",\"Eccleston\",\"Tennant\",\"Smith\",\"Capaldi\",\"Whittaker\"]\n",
        "doctor_who_actors.insert(1,\"Hurt\")\n",
        "print(doctor_who_actors)"
      ]
    },
    {
      "cell_type": "markdown",
      "metadata": {
        "id": "7O4sV8aQw8fL"
      },
      "source": [
        "## Group Exercise:\n",
        "\n",
        "A programmer wants to write a program that allows new rainfall amounts to appear at the beginning of the list. Here's the code they wrote for it, but they have an error in their code. Explain the problem and fix the code."
      ]
    },
    {
      "cell_type": "code",
      "execution_count": null,
      "metadata": {
        "id": "Kx6Kzgn0w8fL",
        "outputId": "91e13356-7a30-4580-c973-a8dc60347f4a"
      },
      "outputs": [
        {
          "name": "stdout",
          "output_type": "stream",
          "text": [
            "Enter a new amount: 0.5\n",
            "[0.0, 0.3, 0.71, 0.0, 0.32, 1.1, 0.4, 0.5]\n"
          ]
        }
      ],
      "source": [
        "rainfall_amounts = [0.0, 0.3, 0.71, 0.0, 0.32, 1.1, 0.4]\n",
        "new_val = float(input(\"Enter a new amount: \"))\n",
        "rainfall_amounts.append(new_val)\n",
        "print(rainfall_amounts)"
      ]
    },
    {
      "cell_type": "markdown",
      "metadata": {
        "hideCode": false,
        "hidePrompt": false,
        "id": "N9kv4aGVw8fM"
      },
      "source": [
        "## Removing items by value\n",
        "\n",
        "When you know the __value__ of the item you want to delete from the list, use the `remove()` method.\n",
        "\n",
        "This will only delete the first instance of the value.\n",
        "\n",
        "If the item isn't there, it will give an error."
      ]
    },
    {
      "cell_type": "code",
      "execution_count": null,
      "metadata": {
        "hideCode": false,
        "hidePrompt": false,
        "id": "EDGXi_uyw8fM",
        "outputId": "5986c2fe-390b-44b2-c41e-f92bfb1cf26d"
      },
      "outputs": [
        {
          "name": "stdout",
          "output_type": "stream",
          "text": [
            "[0.0, 0.3, 0.71, 0.0, 1.1, 0.4]\n"
          ]
        }
      ],
      "source": [
        "rainfall_amounts = [0.0, 0.3, 0.71, 0.0, 0.32, 1.1, 0.4]\n",
        "rainfall_amounts.remove(0.32)\n",
        "print(rainfall_amounts)"
      ]
    },
    {
      "cell_type": "markdown",
      "metadata": {
        "id": "5r5Hxs4gw8fM"
      },
      "source": [
        "## Removing items by index\n",
        "\n",
        "When you know the position of the item you want to delete, use the `pop()` method."
      ]
    },
    {
      "cell_type": "code",
      "execution_count": null,
      "metadata": {
        "id": "3vzzFIWgw8fM",
        "outputId": "7a9413fd-6a8e-4de2-db7a-6c05a10b9195"
      },
      "outputs": [
        {
          "name": "stdout",
          "output_type": "stream",
          "text": [
            "[0.0, 0.3, 0.71, 0.0, 0.32, 0.4]\n"
          ]
        }
      ],
      "source": [
        "rainfall_amounts = [0.0, 0.3, 0.71, 0.0, 0.32, 1.1, 0.4]\n",
        "rainfall_amounts.pop(5)\n",
        "print(rainfall_amounts)"
      ]
    },
    {
      "cell_type": "markdown",
      "metadata": {
        "id": "QI9JDeAGw8fM"
      },
      "source": [
        "## Group Exercise:\n",
        "\n",
        "A programmer wants to write a program that allows the user to enter a rain amount and then remove that if it is in the list. However, when they test this code, some of the tests cause the program to crash. Explain the problem and write the code that will fix it (_Hint: you might need to add an `if` statement_)."
      ]
    },
    {
      "cell_type": "code",
      "execution_count": null,
      "metadata": {
        "id": "Luv4AJ1Cw8fM"
      },
      "outputs": [],
      "source": [
        "rainfall_amounts = [0.0, 0.3, 0.71, 0.0, 0.32, 1.1, 0.4]\n",
        "val_to_remove = float(input(\"Enter a value to remove: \"))\n",
        "rainfall_amounts.remove(val_to_remove)\n",
        "print(rainfall_amounts)"
      ]
    }
  ],
  "metadata": {
    "celltoolbar": "Slideshow",
    "kernelspec": {
      "display_name": "Python 3",
      "language": "python",
      "name": "python3"
    },
    "language_info": {
      "codemirror_mode": {
        "name": "ipython",
        "version": 3
      },
      "file_extension": ".py",
      "mimetype": "text/x-python",
      "name": "python",
      "nbconvert_exporter": "python",
      "pygments_lexer": "ipython3",
      "version": "3.8.3"
    },
    "colab": {
      "provenance": [],
      "include_colab_link": true
    }
  },
  "nbformat": 4,
  "nbformat_minor": 0
}
