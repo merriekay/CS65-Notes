{
  "cells": [
    {
      "cell_type": "markdown",
      "metadata": {
        "id": "view-in-github",
        "colab_type": "text"
      },
      "source": [
        "<a href=\"https://colab.research.google.com/github/merriekay/CS65-Notes/blob/main/Day19_Classes_and_Objects.ipynb\" target=\"_parent\"><img src=\"https://colab.research.google.com/assets/colab-badge.svg\" alt=\"Open In Colab\"/></a>"
      ]
    },
    {
      "cell_type": "markdown",
      "metadata": {
        "id": "U0AH0Ut6Aabi"
      },
      "source": [
        "# Day 19: Intro to Objects and Classes\n",
        "\n",
        "#### CS65: Introduction to Computer Science 1\n",
        "\n",
        "Date: Monday, November 14th, 2022\n",
        "\n",
        "[⏮ Go back to Day18](https://github.com/merriekay/CS65-Notes/blob/main/Day18_Building_a_Program_from_Scratch.ipynb)"
      ]
    },
    {
      "cell_type": "markdown",
      "metadata": {
        "id": "WzYr4XppAabl"
      },
      "source": [
        "## Admin Stuff:\n",
        "- __Quiz #4__ is delayed until 11/28.\n",
        "- Dice Game Update\n",
        "- [Final Project Proposal](https://github.com/merriekay/CS65-Notes/blob/main/Final%20Project%20Proposal.md) due Monday, 11/21 by 11:59pm. "
      ]
    },
    {
      "cell_type": "markdown",
      "metadata": {
        "id": "AzY13m74Aabm"
      },
      "source": [
        "## Final Project Information:\n",
        "\n",
        "We have a few things left to cover throughout the semester:\n",
        "- Objects and Classes\n",
        "- Graphical User Interfaces\n",
        "- Dictionaries and JSON files\n",
        "- Accessibility"
      ]
    },
    {
      "cell_type": "markdown",
      "metadata": {
        "id": "-s5cpxeyAabm"
      },
      "source": [
        "Right now, here's what the schedule for the rest of the semester is looking like: \n",
        "\n",
        "\n",
        "| **Date** | **Day** | **Day of Class** | **Topic**                          | **Assigned**         | **Due**          |\n",
        "|----------|---------|------------------|:------------------------------------|:----------------------|:------------------|\n",
        "| 11/14    | M       | Day19            | Objects and Classes                | Project Proposal |                  |\n",
        "| 11/16    | W       | Day 20           | Class Design, Dictionaries and JSONs            |                      |       |\n",
        "| 11/21    | M       | Day21            | Intro to Graphical User Interfaces |                     | Project Proposal |\n",
        "| 11/23    | W       | --               | Thanksgiving Break                 |                      |              |\n",
        "| 11/28    | M       | Day22            |  GUIs Part II           |  Q4                    |                  |\n",
        "| 11/30    | W       | Day23            | Intro to Accessibility            |                      | Q4 (12/2)                |\n",
        "| 12/5     | M       | Day24            | Work on Projects in class          | Q5                   |                  |\n",
        "| 12/7     | W       | Day25            | Final Project Presentations        |                      | Q5 (12/9)        |"
      ]
    },
    {
      "cell_type": "markdown",
      "metadata": {
        "id": "IGY2BWxsAabn"
      },
      "source": [
        "## Quick Review:\n",
        "\n",
        "Last class we covered:\n",
        "### Tips on Building a Program from Scratch, in relation to the dice game\n",
        "1. Plan what you want your software to do\n",
        "2. break the project down into smaller units\n",
        "3. write your first line of code, and get stuck\n",
        "4. Get unstuck\n",
        "5. start simple and build to be more complicated"
      ]
    },
    {
      "cell_type": "markdown",
      "metadata": {
        "id": "RFG1p5XwAabn"
      },
      "source": [
        "## Group Exercise #1\n",
        "\n",
        "Imagine you want to build a tic-tac-toe game... how might you start to break this down into small, programmable pieces?\n",
        "- Start by writing some pseudocode\n",
        "- Come up with 3 functions that you might use, for example, `print_board(board)` \n"
      ]
    },
    {
      "cell_type": "code",
      "execution_count": null,
      "metadata": {
        "id": "SQBJjH6tAabo"
      },
      "outputs": [],
      "source": [
        "def print_board(board):\n",
        "    \n",
        "    \"\"\"\n",
        "    Takes in a list with 9 elements in it and prints out something like this such that\n",
        "    the elements with index 0-8 are printed like this:\n",
        "    0 | 1 | 2  \n",
        "    ----------\n",
        "    3 | 4 | 5 \n",
        "    ----------\n",
        "    6 | 7 | 8 \n",
        "    \"\"\""
      ]
    },
    {
      "cell_type": "markdown",
      "metadata": {
        "id": "3WwbBoKjAabp"
      },
      "source": [
        "# New Material: Objects and Classes\n",
        "\n"
      ]
    },
    {
      "cell_type": "markdown",
      "metadata": {
        "id": "wtam5P7PAabp"
      },
      "source": [
        "# Objects\n",
        "\n",
        "An __object__ is something that has _data_ and _methods_ (i.e., functions) associated with it.\n",
        "\n",
        "Almost everything in Python can be considered an object - anything you can use the _dot_ notation with to call a method is an object."
      ]
    },
    {
      "cell_type": "code",
      "execution_count": null,
      "metadata": {
        "id": "2gjAXdynAabq"
      },
      "outputs": [],
      "source": [
        "#lists are objects\n",
        "rainfall_amounts = [0.0, 0.3, 0.71, 0.0, 0.32, 1.1, 0.4]\n",
        "rainfall_amounts.index(0.3) #index() is a list method\n",
        "rainfall_amounts.sort() #sort() is a list method"
      ]
    },
    {
      "cell_type": "code",
      "execution_count": null,
      "metadata": {
        "id": "IdTxFAtuAabq",
        "outputId": "a1096bf9-b1df-450b-dc5b-2dd84f276a12"
      },
      "outputs": [
        {
          "name": "stdout",
          "output_type": "stream",
          "text": [
            "['Emma\\n', 'Olivia\\n', 'Sophia\\n', 'Isabella\\n', 'Ava\\n']\n"
          ]
        }
      ],
      "source": [
        "#strings are objects\n",
        "my_string = \"Hello\"\n",
        "my_string.lower()\n",
        "\n",
        "with open(\"top_female_baby_names_2010s.txt\") as namesfile:\n",
        "    name_list = namesfile.readlines()  #readlines() is a method you can use with files\n",
        "print(name_list[0:5])"
      ]
    },
    {
      "cell_type": "markdown",
      "metadata": {
        "id": "RVQimz_4Aabr"
      },
      "source": [
        "Some imported modules provide objects -- we'll see a lot of examples of these next class when we work with GUIs...\n",
        "\n",
        "Here's a sneak peek:"
      ]
    },
    {
      "cell_type": "code",
      "execution_count": null,
      "metadata": {
        "id": "bS839SdYAabr"
      },
      "outputs": [],
      "source": [
        "import tkinter\n",
        "\n",
        "class MinimalApp:\n",
        "    \n",
        "    def __init__(self):\n",
        "        \n",
        "        #create the main window\n",
        "        self.main_window = tkinter.Tk() # this is an object\n",
        "        \n",
        "        #enter the \"main loop\" to launch the window and interact with the user\n",
        "        tkinter.mainloop()\n",
        "        \n",
        "my_gui = MinimalApp()"
      ]
    },
    {
      "cell_type": "markdown",
      "metadata": {
        "id": "2TEmuEJTAabs"
      },
      "source": [
        "## Example: Date object\n",
        "\n",
        "Let's look at the `date` type, which is a type available in the `datetime` module."
      ]
    },
    {
      "cell_type": "code",
      "execution_count": null,
      "metadata": {
        "id": "pjYTwErTAabs",
        "outputId": "a964404c-2afe-426a-9a8d-c310c61e2eb4"
      },
      "outputs": [
        {
          "name": "stdout",
          "output_type": "stream",
          "text": [
            "<class 'datetime.date'>\n",
            "3\n"
          ]
        }
      ],
      "source": [
        "import datetime\n",
        "\n",
        "decl_ind_date = datetime.date(1776,7,4)\n",
        "\n",
        "#datetime.date is a type\n",
        "print( type(decl_ind_date) )\n",
        "\n",
        "#weekday method returns the number of the day of the week this date fell on (0 = Monday, 6 = Sunday)\n",
        "print( decl_ind_date.weekday() )"
      ]
    },
    {
      "cell_type": "markdown",
      "metadata": {
        "id": "Ug_FPJzZAabs"
      },
      "source": [
        "In addition to having methods, objects also have __attributes__, which are data values associated with the object.\n",
        "\n",
        "Attributes can be accessed with the dot notation too, but there's no parentheses:"
      ]
    },
    {
      "cell_type": "code",
      "execution_count": null,
      "metadata": {
        "id": "h9smWJH_Aabs",
        "outputId": "f79e1674-a681-4827-8b39-f2770e9c9a23"
      },
      "outputs": [
        {
          "name": "stdout",
          "output_type": "stream",
          "text": [
            "7\n",
            "4\n",
            "1776\n"
          ]
        }
      ],
      "source": [
        "print( decl_ind_date.month )\n",
        "print( decl_ind_date.day )\n",
        "print( decl_ind_date.year )"
      ]
    },
    {
      "cell_type": "markdown",
      "metadata": {
        "id": "LTOc_cMMAabt"
      },
      "source": [
        "## Group Exercise #2:\n",
        "\n",
        "Write a program that will ask the user for their birthday and then display what day of the week that was on. Here's a start..."
      ]
    },
    {
      "cell_type": "code",
      "execution_count": null,
      "metadata": {
        "id": "nYrKrl_pAabt"
      },
      "outputs": [],
      "source": [
        "day_names = [\"Monday\",\"Tuesday\",\"Wednesday\",\"Thursday\",\"Friday\",\"Saturday\",\"Sunday\"]\n",
        "bday_year = int(input(\"Enter your birth year: \"))\n",
        "bday_month = int(input(\"Enter your birth month (1-12): \"))\n",
        "bday_day = int(input(\"Enter the day of the month you were born (1-31): \"))\n",
        "\n",
        "#finish the rest of the program here\n"
      ]
    },
    {
      "cell_type": "markdown",
      "metadata": {
        "id": "zHGlGpU8Aabt"
      },
      "source": [
        "## Another example: Image objects also have attributes and methods"
      ]
    },
    {
      "cell_type": "code",
      "execution_count": null,
      "metadata": {
        "id": "YYICxuAfAabt",
        "outputId": "a370639f-dcb0-4134-a1e9-d1845cd9c743"
      },
      "outputs": [
        {
          "name": "stdout",
          "output_type": "stream",
          "text": [
            "<class 'PIL.JpegImagePlugin.JpegImageFile'>\n",
            "(732, 412)\n"
          ]
        }
      ],
      "source": [
        "from PIL import Image\n",
        "\n",
        "with Image.open(\"griff.jpg\") as griff_image:\n",
        "    \n",
        "    print( type(griff_image) )\n",
        "    \n",
        "    print(griff_image.size) #size is an attribute of the griff_image object\n",
        "\n",
        "    pixels = griff_image.load() #load() is a method"
      ]
    },
    {
      "cell_type": "markdown",
      "metadata": {
        "id": "9MRKlqlXAabu"
      },
      "source": [
        "## Creating your own types\n",
        "\n",
        "You can create your own type in Python using __classes__\n",
        "\n",
        "Classes allow you to _encapsulate_ data and actions-on-that-data together into one thing - this is an _abstraction_ technique - it's good programming.\n",
        "\n",
        "### ✨🔐 New Keyword Unlocked `class`\n",
        "\n",
        "A _class_ defines how objects behave - it is a blueprint that can be used to create many different objects of that type\n",
        "\n",
        "Syntax:\n",
        "* keyword `class`\n",
        "* a name you decide (by convention, start with uppercase letter)\n",
        "* a colon `:`\n",
        "* indented list of function definitions (i.e., _method_ definitions)\n",
        "    - each method has a parameter called `self` which refers to the particular object being used at that time\n",
        "\n"
      ]
    },
    {
      "cell_type": "code",
      "execution_count": null,
      "metadata": {
        "id": "oE05nM65Aabu",
        "outputId": "aec15c67-91d9-4c8d-de43-e64b79296550"
      },
      "outputs": [
        {
          "name": "stdout",
          "output_type": "stream",
          "text": [
            "<class '__main__.Motivator'>\n",
            "You can do it!\n"
          ]
        }
      ],
      "source": [
        "class Motivator:\n",
        "    \n",
        "    def message1(self):\n",
        "        print(\"You can do it!\")\n",
        "        \n",
        "    def message2(self):\n",
        "        print(\"I'm proud of you!\")\n",
        "        \n",
        "m = Motivator()\n",
        "\n",
        "print( type(m) )\n",
        "\n",
        "m.message1()\n"
      ]
    },
    {
      "cell_type": "markdown",
      "metadata": {
        "id": "8lmgYiMqAabu"
      },
      "source": [
        "## Objects can also have attributes\n",
        "\n",
        "Any attribute can be accessed in any of the class's methods using `self`. Each object of the class has a different set of all the attributes (just like different date objects represent different dates on the calendar)"
      ]
    },
    {
      "cell_type": "code",
      "execution_count": null,
      "metadata": {
        "id": "qEzBD5vyAabv",
        "outputId": "20ecb161-f133-41c0-ef66-f0b617b99a73"
      },
      "outputs": [
        {
          "name": "stdout",
          "output_type": "stream",
          "text": [
            "You can do it, Meredith\n",
            "You can do it, Tim\n"
          ]
        }
      ],
      "source": [
        "class Motivator:\n",
        "    \n",
        "    def message1(self):\n",
        "        print(\"You can do it,\",self.name)\n",
        "        \n",
        "    def message2(self):\n",
        "        print(\"I'm proud of you,\",self.name)\n",
        "        \n",
        "mer_motivator = Motivator()\n",
        "mer_motivator.name = \"Meredith\"\n",
        "mer_motivator.message1()\n",
        "\n",
        "tim_motivator = Motivator()\n",
        "tim_motivator.name = \"Tim\"\n",
        "tim_motivator.message1()"
      ]
    },
    {
      "cell_type": "markdown",
      "metadata": {
        "id": "EyxH6wB5Aabv"
      },
      "source": [
        "## Rectangle class example"
      ]
    },
    {
      "cell_type": "code",
      "execution_count": null,
      "metadata": {
        "id": "UgnnhlHBAabv",
        "outputId": "1a2cbcc5-0a19-4ccf-a03a-f49919800542"
      },
      "outputs": [
        {
          "name": "stdout",
          "output_type": "stream",
          "text": [
            "Rectangle 1's area: 50\n",
            "Rectangle 1's perimeter: 30\n",
            "Rectangle 2's area: 6\n",
            "Rectangle 2's perimeter: 10\n"
          ]
        }
      ],
      "source": [
        "class Rectangle:\n",
        "    \"\"\"\n",
        "    Used for representing rectangles\n",
        "    \n",
        "    attributes: length, width\n",
        "    \"\"\"\n",
        "    def area(self):\n",
        "        return self.length*self.width\n",
        "    \n",
        "    def perimeter(self):\n",
        "        return 2*self.length + 2*self.width\n",
        "    \n",
        "rec1 = Rectangle() #instantiates a new object of type Rectangle\n",
        "rec1.length = 5\n",
        "rec1.width = 10\n",
        "print(\"Rectangle 1's area:\", rec1.area() ) # self is rec1 here\n",
        "print(\"Rectangle 1's perimeter:\", rec1.perimeter() )\n",
        "\n",
        "\n",
        "rec2 = Rectangle() #instantiates a new object of type Rectangle\n",
        "rec2.length = 2\n",
        "rec2.width = 3\n",
        "print(\"Rectangle 2's area:\", rec2.area() ) # self is rec2 here\n",
        "print(\"Rectangle 2's perimeter:\", rec2.perimeter() )"
      ]
    },
    {
      "cell_type": "markdown",
      "metadata": {
        "id": "rTkZQPlYAabv"
      },
      "source": [
        "### Notice:\n",
        "\n",
        "I have multiple rectangle _objects_ but only _one_ class definition\n",
        "\n",
        "A class is a blueprint for creating many objects - it's like how you can build many houses in a neighborhood from one set of blueprints."
      ]
    },
    {
      "cell_type": "markdown",
      "metadata": {
        "id": "WYDt7zfxAabw"
      },
      "source": [
        "<p>\n",
        "<div>\n",
        "    <center>\n",
        "        <img src=\"attachment:Allendale-Ranch.png\" width=\"500\"/>\n",
        "    </center>\n",
        "</div>\n",
        "</p>"
      ]
    },
    {
      "cell_type": "markdown",
      "metadata": {
        "id": "1bfhBn7tAabw"
      },
      "source": [
        "__Object-oriented programming:__ a popular style of programming that centers on creating custom classes and objects instantiated from those classes."
      ]
    },
    {
      "cell_type": "markdown",
      "metadata": {
        "id": "CPerh247Aabw"
      },
      "source": [
        "## What if you don't define the attributes for your object?\n",
        "\n",
        "What happens if we never define the attributes like `rec1.length` or `rec1.width`?\n",
        "\n",
        "__Exercise:__ Try this code and discuss what happens in your group."
      ]
    },
    {
      "cell_type": "code",
      "execution_count": null,
      "metadata": {
        "id": "pXcKSySJAabw"
      },
      "outputs": [],
      "source": [
        "class Rectangle:\n",
        "    \"\"\"\n",
        "    Used for representing rectangles\n",
        "    \n",
        "    attributes: length, width\n",
        "    \"\"\"\n",
        "    def area(self):\n",
        "        return self.length*self.width\n",
        "    \n",
        "    def perimeter(self):\n",
        "        return 2*self.length + 2*self.width\n",
        "\n",
        "rec3 = Rectangle()\n",
        "print( rec3.area() )"
      ]
    },
    {
      "cell_type": "markdown",
      "metadata": {
        "id": "jFlr75GtAabw"
      },
      "source": [
        "Takeaway: you should never let this happen - we'll now see how to prevent it."
      ]
    },
    {
      "cell_type": "markdown",
      "metadata": {
        "id": "sjDOl5H2Aabx"
      },
      "source": [
        "## Initializer Method\n",
        "\n",
        "The __initializer method__ is a method with a special name: `__init__()` that gets called automatically when a new object for that class is created.\n",
        "\n",
        "Note: that's _two_ underscores before and _two_ underscores after `init`."
      ]
    },
    {
      "cell_type": "code",
      "execution_count": null,
      "metadata": {
        "id": "22siH5HgAabx",
        "outputId": "f02e0bea-08f0-49f0-fbe7-94f3d3d16224"
      },
      "outputs": [
        {
          "name": "stdout",
          "output_type": "stream",
          "text": [
            "0\n"
          ]
        }
      ],
      "source": [
        "class Rectangle:\n",
        "    \"\"\"\n",
        "    Used for representing rectangles\n",
        "    \n",
        "    attributes: length, width\n",
        "    \"\"\"\n",
        "    def __init__(self):\n",
        "        self.length = 0\n",
        "        self.width = 0\n",
        "        \n",
        "    def area(self):\n",
        "        return self.length*self.width\n",
        "    \n",
        "    def perimeter(self):\n",
        "        return 2*self.length + 2*self.width\n",
        "    \n",
        "rec4 = Rectangle() #this causes the __init__() method to run\n",
        "print( rec4.area() )"
      ]
    },
    {
      "cell_type": "code",
      "execution_count": null,
      "metadata": {
        "id": "b9s8sC4uAabx",
        "outputId": "ce9f2681-cc19-4d5a-a594-ad4f49f2feeb"
      },
      "outputs": [
        {
          "name": "stdout",
          "output_type": "stream",
          "text": [
            "100\n"
          ]
        }
      ],
      "source": [
        "rec4.length = 5\n",
        "rec4.width = 20\n",
        "print( rec4.area() )"
      ]
    },
    {
      "cell_type": "code",
      "execution_count": null,
      "metadata": {
        "id": "LgYNm6lHAabx",
        "outputId": "c829a022-4137-45d9-9910-0aa47fed3a86"
      },
      "outputs": [
        {
          "name": "stdout",
          "output_type": "stream",
          "text": [
            "50\n"
          ]
        }
      ],
      "source": [
        "print( rec4.perimeter() )"
      ]
    },
    {
      "cell_type": "markdown",
      "metadata": {
        "id": "rMajNh46Aaby"
      },
      "source": [
        "## Passing arguments to the initializer method\n",
        "\n",
        "You can set up any method with more parameters than just `self`.\n",
        "\n",
        "Now this works a lot more like the `date` class we used earlier."
      ]
    },
    {
      "cell_type": "code",
      "execution_count": null,
      "metadata": {
        "id": "pKP8r_jUAaby",
        "outputId": "f87f9a1f-d1b8-48e8-c6d6-e7d69e032783"
      },
      "outputs": [
        {
          "name": "stdout",
          "output_type": "stream",
          "text": [
            "35\n"
          ]
        }
      ],
      "source": [
        "class Rectangle:\n",
        "    \"\"\"\n",
        "    Used for representing rectangles\n",
        "    \n",
        "    attributes: length, width\n",
        "    \"\"\"\n",
        "    def __init__(self, starting_length, starting_width):\n",
        "        self.length = starting_length\n",
        "        self.width = starting_width\n",
        "        \n",
        "    def area(self):\n",
        "        return self.length*self.width\n",
        "    \n",
        "    def perimeter(self):\n",
        "        return 2*self.length + 2*self.width\n",
        "    \n",
        "#7 gets passed to starting_length\n",
        "#5 gets passed to starting_width\n",
        "rec5 = Rectangle(7,5) \n",
        "print( rec5.area() )"
      ]
    },
    {
      "cell_type": "markdown",
      "metadata": {
        "id": "BfgEz7nlAaby"
      },
      "source": [
        "## Group Exercises\n",
        "\n",
        "Using this version of the `Rectangle` class, do the following.\n",
        "\n",
        "__Exercise 1:__ Ask the user to give you the dimensions of two rectangles, and create `Rectangle` objects for each one. Then, tell the user which rectangle has a larger area.\n",
        "\n",
        "\n",
        "__Exercise 2:__ Add a new attribute to the `Rectangle` class called `color`. Create a new method that does something with this attribute.\n",
        "\n",
        "__Exercise 3:__ Create a `Cuboid` class for representing three-dimensional objects with a length, width, and height. Examples of real-world cuboids are things like six-sided dice, bricks, etc. Come up with at least two methods that would be useful for a `Cuboid` to have."
      ]
    },
    {
      "cell_type": "code",
      "execution_count": null,
      "metadata": {
        "id": "TiAy4FIFAaby"
      },
      "outputs": [],
      "source": []
    }
  ],
  "metadata": {
    "celltoolbar": "Slideshow",
    "kernelspec": {
      "display_name": "Python 3",
      "language": "python",
      "name": "python3"
    },
    "language_info": {
      "codemirror_mode": {
        "name": "ipython",
        "version": 3
      },
      "file_extension": ".py",
      "mimetype": "text/x-python",
      "name": "python",
      "nbconvert_exporter": "python",
      "pygments_lexer": "ipython3",
      "version": "3.8.3"
    },
    "colab": {
      "provenance": [],
      "include_colab_link": true
    }
  },
  "nbformat": 4,
  "nbformat_minor": 0
}