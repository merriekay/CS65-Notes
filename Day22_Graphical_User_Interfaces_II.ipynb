{
  "cells": [
    {
      "cell_type": "markdown",
      "metadata": {
        "id": "view-in-github",
        "colab_type": "text"
      },
      "source": [
        "<a href=\"https://colab.research.google.com/github/merriekay/CS65-Notes/blob/main/Day22_Graphical_User_Interfaces_II.ipynb\" target=\"_parent\"><img src=\"https://colab.research.google.com/assets/colab-badge.svg\" alt=\"Open In Colab\"/></a>"
      ]
    },
    {
      "cell_type": "markdown",
      "metadata": {
        "id": "PjVpmc_MHII1"
      },
      "source": [
        "# Day 22: Graphical User Interfaces II\n",
        "#### CS65: Introduction to Computer Science 1\n",
        "\n",
        "__Date__: Monday, November 28th, 2022\n",
        "\n",
        "[⏮ Go back to Day21](https://github.com/merriekay/CS65-Notes/blob/main/Day21_Intro_to_Graphics_and_Lab_14.ipynb)"
      ]
    },
    {
      "cell_type": "markdown",
      "metadata": {
        "id": "3SNTCdsFHII4"
      },
      "source": [
        "## Admin Stuff:\n",
        "\n",
        "### Grading:\n",
        "- Quiz #3 is graded\n",
        "- Project Proposals are graded\n",
        "- CodePost isn't cooperating with me for Dice Games, I'll give an update soon."
      ]
    },
    {
      "cell_type": "markdown",
      "metadata": {
        "id": "WewQmVsjHII4"
      },
      "source": [
        "### You should be working on:\n",
        "- [Final Projects](https://github.com/merriekay/CS65-Notes/blob/main/final_project.md) \n",
        "- [Lab #14](https://github.com/merriekay/CS65-Notes/blob/main/Day21_Intro_to_Graphics_and_Lab_14.ipynb) is due tonight by 11:59pmm. \n",
        "- Quiz #4 will be released next week-- it will essentially be a final exam, but you'll have the full week to work on it, and it will be weighted the same as the other quizzes."
      ]
    },
    {
      "cell_type": "markdown",
      "metadata": {
        "id": "L13VYE6mHII4"
      },
      "source": [
        "## PollEverywhere Review Q"
      ]
    },
    {
      "cell_type": "markdown",
      "metadata": {
        "id": "buhVCuTyHII5"
      },
      "source": [
        "## Teach Access Pre-Course Survey:\n",
        "\n",
        "Please take 5 minutes [to fill out this pre-course survey](https://teachaccess.qualtrics.com/jfe/form/SV_81CohabTO0n928m)\n",
        "\n",
        "Wednesday will be a lecture about Accessibility, and you'll take a post-course survey at the end of class.\n",
        "\n",
        "This is part of a Teach Access Faculty grant that I was awarded. Answers are anonymous."
      ]
    },
    {
      "cell_type": "markdown",
      "metadata": {
        "id": "5uI5p3vvHII5"
      },
      "source": [
        "## Quick Review:\n",
        "\n",
        "Last class we covered:\n",
        "- Graphical User Interfaces\n",
        "\n",
        "Lab #14 Review:"
      ]
    },
    {
      "cell_type": "code",
      "execution_count": null,
      "metadata": {
        "id": "H7zLqf2hHII6"
      },
      "outputs": [],
      "source": [
        "import random\n",
        "from graphics import *\n",
        "\n",
        "\n",
        "def draw_random_circle(win):\n",
        "\n",
        "    #a random color\n",
        "    r = random.randint(0,255)\n",
        "    g = random.randint(0,255)\n",
        "    b = random.randint(0,255)\n",
        "\n",
        "    color = color_rgb(r,g,b)\n",
        "\n",
        "    #a random location\n",
        "    x = random.randint(0,350)\n",
        "    y = random.randint(0,350)\n",
        "\n",
        "    #a random radius\n",
        "    radius = random.randint(10,50)\n",
        "\n",
        "    #a random circle\n",
        "    circ = Circle(Point(x,y), radius)\n",
        "    circ.setFill(color)\n",
        "    circ.draw(win)\n",
        "\n",
        "window = GraphWin(\"Random Circles\", 400, 400)\n",
        "\n",
        "for i in range(20):\n",
        "    draw_random_circle(window)"
      ]
    },
    {
      "cell_type": "code",
      "execution_count": null,
      "metadata": {
        "id": "YQpuooROHII7"
      },
      "outputs": [],
      "source": [
        "import random\n",
        "from graphics import *\n",
        "\n",
        "def draw_random_rect(win):\n",
        "\n",
        "    #a random color\n",
        "    r = random.randint(0,255)\n",
        "    g = random.randint(0,255)\n",
        "    b = random.randint(0,255)\n",
        "\n",
        "    color = color_rgb(r,g,b)\n",
        "\n",
        "    #first random location\n",
        "    x = random.randint(0,350)\n",
        "    y = random.randint(0,350)\n",
        "    \n",
        "    #second random location\n",
        "    x1 = random.randint(0,350)\n",
        "    y1 = random.randint(0,350)\n",
        "\n",
        "    #a random circle\n",
        "    rect = Rectangle(Point(x,y), Point(x1,y1))\n",
        "    rect.setFill(color)\n",
        "    rect.draw(win)\n",
        "\n",
        "window = GraphWin(\"Random Circles\", 400, 400)\n",
        "\n",
        "for i in range(20):\n",
        "    draw_random_rect(window)"
      ]
    },
    {
      "cell_type": "markdown",
      "metadata": {
        "id": "heVl59d-HII7"
      },
      "source": [
        "# Graphics Part II:\n",
        "\n",
        "Today we'll cover:\n",
        "- changing the coordinate system using `setCoords`\n",
        "- detecting mouse clicks `win.getMouse()`\n",
        "- using the `Polygon` class\n",
        "- getting key presses `win.key()`"
      ]
    },
    {
      "cell_type": "markdown",
      "metadata": {
        "id": "SSkcO6-9HII8"
      },
      "source": [
        "## Setting Different Coordinates\n",
        "\n",
        "Working with pixel values can be tedious. \n",
        "\n",
        "Sometimes it makes more sense to use a scale from 0 to 1, where 0 is the start of the window, and 1 is the end of the window. \n",
        "\n",
        "This is included in the `graphics.py` file, as the `setCoords` method."
      ]
    },
    {
      "cell_type": "code",
      "execution_count": null,
      "metadata": {
        "id": "deMq9J2PHII8"
      },
      "outputs": [],
      "source": [
        "from graphics import *\n",
        "\n",
        "win = GraphWin(\"hello\", 400, 400)\n",
        "win.setCoords(0,0,1,1) #change coordinate systems\n",
        "\n",
        "rect = Rectangle(Point(0.1,0.1), Point(0.5,0.5)) \n",
        "rect.setfill(\"black\")\n",
        "rect.draw(win)"
      ]
    },
    {
      "cell_type": "markdown",
      "metadata": {
        "id": "zgZ230c1HII8"
      },
      "source": [
        "## Getting Mouse Clicks\n",
        "\n",
        "We can use the `getMouse()` method, which returns the `Point` that was clicked like so: "
      ]
    },
    {
      "cell_type": "code",
      "execution_count": null,
      "metadata": {
        "id": "4wVvSM9bHII9",
        "outputId": "85c6fe8d-630a-44ae-8026-9d8c8ca8182a"
      },
      "outputs": [
        {
          "name": "stdout",
          "output_type": "stream",
          "text": [
            "Point(537.0, 258.0)\n"
          ]
        }
      ],
      "source": [
        "from graphics import *\n",
        "win = GraphWin(\"detect clicks\", 640, 640)\n",
        "p = win.getMouse() #stores the point where the user clicked\n",
        "print(p)"
      ]
    },
    {
      "cell_type": "markdown",
      "metadata": {
        "id": "g60FfxLRHII9"
      },
      "source": [
        "## Group Exercise #1:\n",
        "\n",
        "__Part I__: How can you draw a triangle? \n",
        "> __Hint__: [take a look at the API](https://mcsp.wartburg.edu/zelle/python/graphics/graphics/index.html), there's no 'Triangle' object, but what else might work?\n",
        "\n",
        "\n",
        "__Part II__: Write a program that will capture three points when the user clicks on the window. Draw a blue triangle between these three points.\n",
        "\n",
        "When you're done with Part II, try these next steps:\n",
        "- Can you make it a random color?\n",
        "- Can you allow the user to make 10 different triangles?"
      ]
    },
    {
      "cell_type": "markdown",
      "metadata": {
        "id": "1WWhta2cHII-"
      },
      "source": [
        "## Getting Key Presses `win.key()`"
      ]
    },
    {
      "cell_type": "code",
      "execution_count": null,
      "metadata": {
        "id": "kNGOqzejHII-"
      },
      "outputs": [],
      "source": [
        "win = GraphWin(\"Moving a Circle\", 500, 500)\n",
        "win.setCoords(0,0,1,1)\n",
        "\n",
        "#creates a red circle on the window\n",
        "circ = Circle(Point(0.25,0.25), 0.1)\n",
        "circ.setFill(\"red\")\n",
        "circ.draw(win)\n",
        "\n",
        "#while the user doesn't close the window... \n",
        "while win.isOpen():\n",
        "    \n",
        "    #check if the user just pressed an arrow key\n",
        "    # and if so, move the circle in that direction.\n",
        "    key = win.getKey()\n",
        "    \n",
        "    if key == 'Up':\n",
        "        circ.move(-0,0.5)\n",
        "    elif key == 'Down':\n",
        "        circ.move(0,-0.05)\n",
        "    elif key == 'Right':\n",
        "        circ.move(0.05,0)\n",
        "    elif key == 'Left':\n",
        "        circ.move(-0.05,0)"
      ]
    },
    {
      "cell_type": "markdown",
      "metadata": {
        "id": "hicW-eLbHII-"
      },
      "source": [
        "## Group Exercise #2:\n",
        "\n",
        "Can you chnage the code from the previous slide so that it works not just with the arrow keys, but alos the `w`, `a`, `s`, `d` keys as well?\n",
        "\n",
        "If you're done with that:\n",
        "- try making it so that the circle can't go outside of the borders.\n",
        "- add another shape... can you make something happen (change the color, display some text, etc) when the red circle hits this other shape?"
      ]
    },
    {
      "cell_type": "markdown",
      "metadata": {
        "id": "CztDCxi9HII-"
      },
      "source": [
        "## Final Project Prep\n",
        "\n",
        "Here are some potentially helpful snippets/review for your final projects:\n",
        "- Reading from `dictionary.txt` file\n",
        "- building a `Ball` class\n",
        "- Moving an object with arrow keys\n",
        "- displaying dice in graphics"
      ]
    },
    {
      "cell_type": "markdown",
      "metadata": {
        "id": "kHXzhY_2HII_"
      },
      "source": [
        "## Reading from a File"
      ]
    },
    {
      "cell_type": "code",
      "execution_count": null,
      "metadata": {
        "id": "WOvc0mvRHII_",
        "outputId": "af6157cc-58a3-41b1-e3d7-2c993130b11f"
      },
      "outputs": [
        {
          "name": "stdout",
          "output_type": "stream",
          "text": [
            "Here are the first 10 words:\n",
            "['AA', 'AAH', 'AAHED', 'AAHING', 'AAHS', 'AAL', 'AALII', 'AALIIS', 'AALS', 'AARDVARK']\n",
            "Now let's choose a random one:\n",
            "STRINGS\n"
          ]
        }
      ],
      "source": [
        "import random\n",
        "infile = open('dictionary.txt', 'r')\n",
        "word_list = infile.read().splitlines()\n",
        "print(\"Here are the first 10 words:\")\n",
        "print(word_list[:10])\n",
        "\n",
        "print(\"Now let's choose a random one:\")\n",
        "print(random.choice(word_list))"
      ]
    },
    {
      "cell_type": "markdown",
      "metadata": {
        "id": "tjThiIXxHII_"
      },
      "source": [
        "## Possible next steps:\n",
        "\n",
        "If you are doing Worlde or Hangman, your next steps might include:\n",
        "- looping through `word_list` and making a new list that includes only 5-letter words. "
      ]
    },
    {
      "cell_type": "markdown",
      "metadata": {
        "id": "Muv-u2jbHII_"
      },
      "source": [
        "## Building a `Ball` class:\n",
        "\n",
        "The following code creates a custom class for a `Ball` object."
      ]
    },
    {
      "cell_type": "code",
      "execution_count": null,
      "metadata": {
        "id": "pfRINngmHII_"
      },
      "outputs": [],
      "source": [
        "from graphics import *\n",
        "\n",
        "class Ball:\n",
        "    \n",
        "    def __init__(self, window):\n",
        "        \"\"\"\n",
        "        init function: establishes attributes of the Ball class \n",
        "        \"\"\"\n",
        "        self.window = window\n",
        "        self.circ = Circle(Point(50, 60), 10)\n",
        "        self.circ.setFill(\"red\")\n",
        "        self.xspeed = 3\n",
        "        self.yspeed = 0\n",
        "        self.circ.draw(self.window)\n",
        "\n",
        "        \n",
        "    def update(self):\n",
        "        \"\"\"\n",
        "        handles moving of the ball\n",
        "        \"\"\"\n",
        "        self.circ.move(self.xspeed, self.yspeed)\n",
        "        \n",
        "def main():\n",
        "    # create window and the ball\n",
        "    win = GraphWin(\"Awesome Game\", 500, 500, autoflush=False)\n",
        "    b = Ball(win)\n",
        "\n",
        "    # While the user doesn't close the window...\n",
        "    while win.isOpen():\n",
        "        key = win.checkKey()\n",
        "        if key == 'space':\n",
        "            print(\"Space bar pressed\")\n",
        "        # update the ball position\n",
        "        b.update()\n",
        "            \n",
        "        update(60) # 60 frames a second\n",
        "\n",
        "\n",
        "main()"
      ]
    },
    {
      "cell_type": "markdown",
      "metadata": {
        "id": "ybctX6BbHIJA"
      },
      "source": [
        "## Moving a Ship"
      ]
    },
    {
      "cell_type": "code",
      "execution_count": null,
      "metadata": {
        "id": "cfGj9SDrHIJA"
      },
      "outputs": [],
      "source": [
        "from graphics import *\n",
        "\n",
        "win = GraphWin(\"Awesome Game\", 500, 500, autoflush=False)\n",
        "win.setCoords(0,0,1,1)\n",
        "\n",
        "#draw ship\n",
        "triangle = Polygon(Point(0.15, 0.25), Point(0.25,0.4), Point(0.35, 0.25))\n",
        "triangle.setFill(\"black\")\n",
        "triangle.draw(win)\n",
        "triangle.setFill(\"black\")\n",
        "circ=Circle(Point(0.25, 0.25), 0.1)\n",
        "circ.setFill(\"red\")\n",
        "circ.draw(win)\n",
        "\n",
        "def move_ship(dx, dy):\n",
        "    circ.move(dx, dy)\n",
        "    triangle.move(dx, dy)\n",
        "    \n",
        "def main():\n",
        "    #while the user doesn't close the window...\n",
        "    while win.isOpen():\n",
        "        key = win.checkKey()\n",
        "        if key == 'Up':\n",
        "            move_ship(0,0.05)\n",
        "        elif key == 'Down':\n",
        "            move_ship(0,-0.05)\n",
        "        elif key == 'Right':\n",
        "            move_ship(0.05,0)\n",
        "        elif key == 'Left':\n",
        "            move_ship(-0.05, 0)\n",
        "        update(60)\n",
        "main()"
      ]
    },
    {
      "cell_type": "markdown",
      "metadata": {
        "id": "NDgyugdTHIJA"
      },
      "source": [
        "## Colliding"
      ]
    },
    {
      "cell_type": "code",
      "execution_count": null,
      "metadata": {
        "id": "knpR3EjLHIJA"
      },
      "outputs": [],
      "source": [
        "from graphics import *\n",
        "\n",
        "win = GraphWin(\"Awesome Game\", 500, 500, autoflush=False)\n",
        "win.setCoords(0,0,1,1)\n",
        "\n",
        "#draw ship\n",
        "triangle = Polygon(Point(0.15, 0.25), Point(0.25,0.4), Point(0.35, 0.25))\n",
        "triangle.setFill(\"black\")\n",
        "triangle.draw(win)\n",
        "triangle.setFill(\"black\")\n",
        "circ=Circle(Point(0.25, 0.25), 0.1)\n",
        "circ.setFill(\"red\")\n",
        "circ.draw(win)\n",
        "\n",
        "#draw a base\n",
        "rect = Rectangle(Point(0.75, 0.75), Point(0.5,0.5))\n",
        "rect.setFill('blue')\n",
        "rect.draw(win)\n",
        "\n",
        "def move_ship(dx, dy):\n",
        "    circ.move(dx, dy)\n",
        "    triangle.move(dx, dy)\n",
        "    \n",
        "    \n",
        "def check_collision():\n",
        "    \"\"\" change the color of the ship to green if it touches base\"\"\"\n",
        "    pointList = triangle.getPoints() \n",
        "    # pointList[1] is the tip of the triangle\n",
        "    if pointList[1].getX() > 0.5 and pointList[1].getX() < 0.75:\n",
        "        if pointList[1].getY() > 0.5 and pointList[1].getY() < 0.75:\n",
        "            circ.setFill('green')\n",
        "    \n",
        "def main():\n",
        "    #while the user doesn't close the window...\n",
        "    while win.isOpen():\n",
        "        key = win.checkKey()\n",
        "        check_collision()\n",
        "        if key == 'Up':\n",
        "            move_ship(0,0.05)\n",
        "        elif key == 'Down':\n",
        "            move_ship(0,-0.05)\n",
        "        elif key == 'Right':\n",
        "            move_ship(0.05,0)\n",
        "        elif key == 'Left':\n",
        "            move_ship(-0.05, 0)\n",
        "        update(60)\n",
        "main()\n"
      ]
    },
    {
      "cell_type": "markdown",
      "metadata": {
        "id": "4VtvRQOUHIJB"
      },
      "source": [
        "## Let's make the ship shoot"
      ]
    },
    {
      "cell_type": "code",
      "execution_count": null,
      "metadata": {
        "id": "fKvtE8gwHIJB"
      },
      "outputs": [],
      "source": [
        "from graphics import *\n",
        "\n",
        "# Creates the main window\n",
        "win = GraphWin(\"Awesome Game\", 500, 500, autoflush=False)\n",
        "win.setCoords(0, 0, 1, 1) # set new coordinate system with lower-left corner at (0,0)\n",
        "                          # upper-right corner as (1,1)\n",
        "\n",
        "# draw ship\n",
        "triangle = Polygon(Point(0.15,0.25), Point(0.25,0.4), Point(0.35,0.25))\n",
        "triangle.setFill(\"black\")\n",
        "triangle.draw(win)\n",
        "triangle.setFill(\"black\")\n",
        "\n",
        "circ = Circle(Point(0.25, 0.25), 0.1)\n",
        "circ.setFill(\"red\")\n",
        "circ.draw(win)\n",
        "\n",
        "# draw bullet \n",
        "bullet = Circle(Point(-0.75, 0.75), 0.01) #initially off screen\n",
        "bullet.setFill(\"green\")\n",
        "bullet.draw(win)\n",
        "\n",
        "\n",
        "# draw monster\n",
        "monster = Polygon(Point(0.15,0.85), Point(0.15,0.75), Point(0.21,.80),\n",
        "                  Point(0.23,.70), Point(0.25,.80), Point(0.31,0.75),\n",
        "                  Point(0.31,.85))\n",
        "monster.setFill(\"purple\")\n",
        "monster.draw(win)\n",
        "\n",
        "def move_ship(dx, dy):\n",
        "    \"\"\"\n",
        "    move_ship calls move function on all components of the \"ship\"\n",
        "    parameters dx: amount to move in x direction\n",
        "               dy: amount to move in y direction\n",
        "    \"\"\"\n",
        "    circ.move(dx, dy)\n",
        "    triangle.move(dx, dy)\n",
        "     \n",
        "def main():    \n",
        "   # While the user doesn't close the window...\n",
        "    while win.isOpen():\n",
        "        # Check if the user just pressed an arrow key\n",
        "        # and if so, move the circle in that direction\n",
        "        key = win.checkKey()\n",
        "        if key == 'Up':\n",
        "            move_ship(0, 0.05)\n",
        "        elif key == 'Down':\n",
        "            move_ship(0, -0.05)\n",
        "        elif key == 'Right':\n",
        "            move_ship(0.05, 0)\n",
        "        elif key == 'Left':\n",
        "            move_ship(-0.05, 0)\n",
        "        elif key == 'space':\n",
        "            pointList = triangle.getPoints()\n",
        "            # how much to move the bullet?\n",
        "            # pointList[1] is the tip of the triangle\n",
        "            # bullet.getCenter() is the current position of the bullet\n",
        "            dx = pointList[1].getX() - bullet.getCenter().getX()\n",
        "            dy = pointList[1].getY() - bullet.getCenter().getY()\n",
        "            bullet.move(dx,dy)\n",
        "                    \n",
        "        bullet.move(0,.01)\n",
        "          \n",
        "        update(60) # at most 60 frames a second\n",
        "\n",
        "main()"
      ]
    },
    {
      "cell_type": "markdown",
      "metadata": {
        "id": "TCPfgBiZHIJB"
      },
      "source": [
        "## Group Exercise #3: \n",
        "\n",
        "Can you make it so the monster goes away if it is hit by a bullet?"
      ]
    },
    {
      "cell_type": "markdown",
      "metadata": {
        "id": "r96ViuxXHIJC"
      },
      "source": [
        "## Displaying Dice\n",
        "\n",
        "Here's some starter code for displaying dice on a graphics window. \n",
        "\n",
        "> Notice that I'm using the `setCoords` method to make it so that I'm working with percentages rather than pixel values. You can use whatever you'd like. "
      ]
    },
    {
      "cell_type": "code",
      "execution_count": null,
      "metadata": {
        "id": "bBKjlkdPHIJC"
      },
      "outputs": [],
      "source": [
        "from graphics import *\n",
        "import random\n",
        "\n",
        "def roll_die(num_sides):\n",
        "    return random.randint(1,num_sides)\n",
        "\n",
        "win = GraphWin(\"Awesome Game\", 500, 500, autoflush=False)\n",
        "win.setCoords(0,0,1,1)\n",
        "\n",
        "#build a rectangle in the center of the screen\n",
        "rect = Rectangle(Point(0.25,0.75), Point(0.75,0.25))\n",
        "\n",
        "#make the outline black and fill white\n",
        "rect.setOutline('black')\n",
        "rect.setFill(\"white\")\n",
        "\n",
        "#draw it\n",
        "rect.draw(win)\n",
        "\n",
        "# get a dice roll:\n",
        "roll = roll_die(3)\n",
        "\n",
        "if roll == 1:\n",
        "    pip1 = Circle(Point(0.5,0.5), 0.04)\n",
        "    pip1.setFill('black')\n",
        "    pip1.draw(win)\n",
        "elif roll == 2:\n",
        "    pip1 = Circle(Point(0.35,0.65), 0.04)\n",
        "    pip1.setFill('black')\n",
        "    pip1.draw(win)\n",
        "    pip2 = Circle(Point(0.65,0.35), 0.04)\n",
        "    pip2.setFill('black')\n",
        "    pip2.draw(win)\n",
        "elif roll == 3:\n",
        "    pip1 = Circle(Point(0.35,0.65), 0.04)\n",
        "    pip1.setFill('black')\n",
        "    pip1.draw(win)\n",
        "    pip2 = Circle(Point(0.65,0.35), 0.04)\n",
        "    pip2.setFill('black')\n",
        "    pip2.draw(win)\n",
        "    pip3 = Circle(Point(0.5,0.5), 0.04)\n",
        "    pip3.setFill('black')\n",
        "    pip3.draw(win)\n",
        "\n",
        "# you can do 4, 5, 6"
      ]
    },
    {
      "cell_type": "code",
      "execution_count": null,
      "metadata": {
        "id": "wSMZxmRQHIJC"
      },
      "outputs": [],
      "source": []
    }
  ],
  "metadata": {
    "celltoolbar": "Slideshow",
    "kernelspec": {
      "display_name": "Python 3",
      "language": "python",
      "name": "python3"
    },
    "language_info": {
      "codemirror_mode": {
        "name": "ipython",
        "version": 3
      },
      "file_extension": ".py",
      "mimetype": "text/x-python",
      "name": "python",
      "nbconvert_exporter": "python",
      "pygments_lexer": "ipython3",
      "version": "3.8.3"
    },
    "colab": {
      "provenance": [],
      "include_colab_link": true
    }
  },
  "nbformat": 4,
  "nbformat_minor": 0
}