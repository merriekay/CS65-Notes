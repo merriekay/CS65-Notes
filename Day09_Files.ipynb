{
  "cells": [
    {
      "cell_type": "markdown",
      "metadata": {
        "id": "view-in-github",
        "colab_type": "text"
      },
      "source": [
        "<a href=\"https://colab.research.google.com/github/merriekay/CS65-Notes/blob/main/Day09_Files.ipynb\" target=\"_parent\"><img src=\"https://colab.research.google.com/assets/colab-badge.svg\" alt=\"Open In Colab\"/></a>"
      ]
    },
    {
      "cell_type": "markdown",
      "metadata": {
        "id": "me8qJaxn0anX"
      },
      "source": [
        "# Day09 Notes: Files\n",
        "#### CS65: Introduction to Computer Science I\n",
        "Wednesday, October 5th, 2022"
      ]
    },
    {
      "cell_type": "markdown",
      "metadata": {
        "id": "MErGzOAg0ana"
      },
      "source": [
        "## Admin Stuff\n",
        "\n",
        "You should be working on:\n",
        "- [Lab #7: Loops and Lists](https://github.com/merriekay/CS65-Labs/blob/main/Lab07_LoopsLists.ipynb), due **Wednesday 10/5 by 11:59pm**\n",
        "- [Lab #8: Files](https://github.com/merriekay/CS65-Labs/blob/main/Lab08_Files.ipynb), for practice--nothing due to CodePost for Lab #8.\n",
        "\n"
      ]
    },
    {
      "cell_type": "markdown",
      "metadata": {
        "id": "u4L_z8Ie0anb"
      },
      "source": [
        "## Other Announcements:\n",
        "- __Quiz #2 is coming up__--it will be released on Monday 10/10 after class and will be due Friday 10/14 by 11:59pm. \n",
        "- __A quick note on grading__-- I'm not going to post individual lab grades on Bb, you can find them on CodePost. You'll get a composite Lab grade on Bb at the midterm and end of the course.\n",
        "- __Syllabus Update__\n",
        "\n",
        "| **Activity**  | **Percent Final Grade** |\n",
        "|:--------------|------------------------|\n",
        "| Labs          | 40%                     |\n",
        "| Quizzes       | 30%                     |\n",
        "| Participation | 10%                     |\n",
        "| Final Project | 20%                     |"
      ]
    },
    {
      "cell_type": "markdown",
      "metadata": {
        "id": "h8L3O9c50anc"
      },
      "source": [
        "## Quick Review\n",
        "\n",
        "Last class we talked a lot about __while loops__ which allow us to repeat code until a condition is met."
      ]
    },
    {
      "cell_type": "markdown",
      "metadata": {
        "id": "YN_0arxB0anc"
      },
      "source": [
        "### Syntax:\n",
        "- keyword `while`\n",
        "- boolean condition\n",
        "- colon `:`\n",
        "- indented block of text\n",
        "\n",
        "Take a second and talk to your neighbors about what you think this code will do:"
      ]
    },
    {
      "cell_type": "code",
      "execution_count": null,
      "metadata": {
        "id": "C4_M-CPg0an3"
      },
      "outputs": [],
      "source": [
        "num = float(input(\"enter a number: \"))\n",
        "\n",
        "while num < 10:\n",
        "    print(num, \"is a good number\")\n",
        "    num = float(input(\"enter a number: \"))\n",
        "\n",
        "print(num, \"is too big\")"
      ]
    },
    {
      "cell_type": "markdown",
      "metadata": {
        "id": "hDiNPjEY0an6"
      },
      "source": [
        "What about this code?"
      ]
    },
    {
      "cell_type": "code",
      "execution_count": null,
      "metadata": {
        "id": "YXM4S79c0an7"
      },
      "outputs": [],
      "source": [
        "keep_looping = 'yes'\n",
        "\n",
        "while keep_looping == 'yes':\n",
        "    print(\"Hello\")\n",
        "\n",
        "print(\"done.\")"
      ]
    },
    {
      "cell_type": "markdown",
      "metadata": {
        "id": "OPCVb8ID0an8"
      },
      "source": [
        "Take 2-3 minutes:\n",
        "- Can you fix the code below so that it isn't an __infinite loop__?\n",
        "- Can you make it so it works even if the user types `Yes`, or `   YES `?\n",
        "- Can you change this code so it counts how many times you've looped?"
      ]
    },
    {
      "cell_type": "markdown",
      "metadata": {
        "id": "r6bonJtA0an9"
      },
      "source": [
        "## PollEverywhere Review Q"
      ]
    },
    {
      "cell_type": "markdown",
      "metadata": {
        "id": "0YiQ1jlr0an9"
      },
      "source": [
        "# New Material: Files 📂"
      ]
    },
    {
      "cell_type": "markdown",
      "metadata": {
        "id": "q-oX_WVC0an-"
      },
      "source": [
        "## Why use files in Python?\n",
        "\n",
        "Often, your program needs to work with data in files - you don't want to make the user input a whole bunch of values every time they use it.\n",
        "\n",
        "Examples:\n",
        "* analyzing weather data\n",
        "* generating payroll\n",
        "* saving progress and returning to it later (like in a Word processor)"
      ]
    },
    {
      "cell_type": "markdown",
      "metadata": {
        "id": "F6Y-04oI0an-"
      },
      "source": [
        "## Opening files in Python\n",
        "\n",
        "Python provides a built-in `open()` function which will returns a new type with a scary name like `_io.TextIOWrapper`. "
      ]
    },
    {
      "cell_type": "code",
      "execution_count": null,
      "metadata": {
        "cell_style": "split",
        "id": "7STV_dvE0an-",
        "outputId": "839282f4-5bd5-4e8c-d927-62fa07e8940c"
      },
      "outputs": [
        {
          "data": {
            "text/plain": [
              "_io.TextIOWrapper"
            ]
          },
          "execution_count": 1,
          "metadata": {},
          "output_type": "execute_result"
        }
      ],
      "source": [
        "#assumes the gettysburg.txt file is in\n",
        "#the same directory as your .py file\n",
        "gettysburg_file = open(\"gettysburg.txt\")\n",
        "type(gettysburg_file)"
      ]
    },
    {
      "cell_type": "markdown",
      "metadata": {
        "cell_style": "split",
        "id": "BOwkOuDR0an_"
      },
      "source": [
        "<center>\n",
        "<div>\n",
        "<img src=\"attachment:gettysburg.png\" width=\"400\"/>\n",
        "</div>\n",
        "</center>\n"
      ]
    },
    {
      "cell_type": "markdown",
      "metadata": {
        "id": "UkDuKKMk0aoA"
      },
      "source": [
        "For our purposes, just think of the variable `gettysburg_file` as a variable which represents a _file object_."
      ]
    },
    {
      "cell_type": "markdown",
      "metadata": {
        "id": "WeNw18i70aoA"
      },
      "source": [
        "## Making sure your files are in the right place\n",
        "\n",
        "<center>\n",
        "<p>\n",
        "<div>\n",
        "<img src=\"attachment:file_setup.png\" width=\"700\"/>\n",
        "</div>\n",
        "</p>\n",
        "</center>"
      ]
    },
    {
      "cell_type": "markdown",
      "metadata": {
        "id": "GogsVd450aoA"
      },
      "source": [
        "### Note for those running these slides in Colab\n",
        "If you are using Colab to run these slides, using files takes another step. You need to upload your files to your Google Drive, and connect Colab to your drive using the following code snippet:\n",
        "\n",
        "I'm not going to go over this in class, but will happily give a demo of how to make this work if you want to stop by office hours."
      ]
    },
    {
      "cell_type": "code",
      "execution_count": null,
      "metadata": {
        "id": "tOKheeAi0aoB"
      },
      "outputs": [],
      "source": [
        "# Mount your drive\n",
        "from google.colab import drive\n",
        "drive.mount('/content/drive')\n",
        "gettysburg_file = open(\"/content/drive/MyDrive/gettysburg.txt\")\n",
        "\n",
        "# this will bring up a popup that will ask for permission for Colab to access your Drive. Allow it.\n",
        "# if you put the file in a folder, change the file path to reflect where you put it. "
      ]
    },
    {
      "cell_type": "markdown",
      "metadata": {
        "id": "BBOrSGE50aoB"
      },
      "source": [
        "## Reading data from files\n",
        "\n",
        "Python files work with several different methods that allow you to read data.\n",
        "* `read()` reads the file into a big string\n",
        "* `readline()` reads the next line of the file into a string\n",
        "* `readlines()` reads the lines of the file into a list of strings"
      ]
    },
    {
      "cell_type": "code",
      "execution_count": null,
      "metadata": {
        "id": "uaYnY2PX0aoB",
        "outputId": "39f2f635-bd38-45fd-a845-f3599b743e1c"
      },
      "outputs": [
        {
          "name": "stdout",
          "output_type": "stream",
          "text": [
            "Fourscore and seven years ago our fathers brought forth on\n",
            "this continent a new nation, conceived in liberty and\n",
            "dedicated to the proposition that all men are created equal.\n",
            "\n",
            "Now we are engaged in a great civil war, testing whether \n",
            "that nation or any nation so conceived and so dedicated can \n",
            "long endure. We are met on a great battlefield of that war. \n",
            "We have come to dedicate a portion of it as a final resting \n",
            "place for those who died here that the nation might live. \n",
            "This we may, in all propriety do. But in a larger sense, we \n",
            "cannot dedicate, we cannot consecrate, we cannot hallow this \n",
            "ground. The brave men, living and dead who struggled here \n",
            "have hallowed it far above our poor power to add or detract. \n",
            "The world will little note nor long remember what we say \n",
            "here, but it can never forget what they did here.\n",
            "\n",
            "It is rather for us the living, we here be dedicated to the \n",
            "great task remaining before us--that from these honored dead \n",
            "we take increased devotion to that cause for which they here \n",
            "gave the last full measure of devotion--that we here highly \n",
            "resolve that these dead shall not have died in vain, that \n",
            "this nation shall have a new birth of freedom, and that \n",
            "government of the people, by the people, for the people \n",
            "shall not perish from the earth.\n",
            "\n"
          ]
        }
      ],
      "source": [
        "gettysburg_file = open(\"gettysburg.txt\")\n",
        "file_contents = gettysburg_file.read()\n",
        "print(file_contents)"
      ]
    },
    {
      "cell_type": "code",
      "execution_count": null,
      "metadata": {
        "id": "1P3Boajn0aoC",
        "outputId": "a0917a11-9447-4f0f-f631-e3cdcb2b8333"
      },
      "outputs": [
        {
          "name": "stdout",
          "output_type": "stream",
          "text": [
            "this continent a new nation, conceived in liberty and\n",
            "\n"
          ]
        }
      ],
      "source": [
        "gettysburg_file = open(\"gettysburg.txt\")\n",
        "firstline = gettysburg_file.readline()\n",
        "secondline = gettysburg_file.readline()\n",
        "print(secondline)"
      ]
    },
    {
      "cell_type": "code",
      "execution_count": null,
      "metadata": {
        "id": "b3ctoFGT0aoC",
        "outputId": "4fd893fb-1ba3-4524-cc89-dbe95955de9a"
      },
      "outputs": [
        {
          "name": "stdout",
          "output_type": "stream",
          "text": [
            "this continent a new nation, conceived in liberty and\n",
            "\n"
          ]
        }
      ],
      "source": [
        "gettysburg_file = open(\"gettysburg.txt\")\n",
        "contents_as_list = gettysburg_file.readlines()\n",
        "print( contents_as_list[1] )"
      ]
    },
    {
      "cell_type": "markdown",
      "metadata": {
        "id": "LyvNuYGA0aoC"
      },
      "source": [
        "## Opening files using `with` statements\n",
        "\n",
        "Opening files with a `with` statement does the same thing, but it does some nice things like closing the file when it is done."
      ]
    },
    {
      "cell_type": "code",
      "execution_count": null,
      "metadata": {
        "id": "Jz7RZ8h50aoD",
        "outputId": "6c109f9d-234f-40cf-ec48-084e7b8dbe87"
      },
      "outputs": [
        {
          "name": "stdout",
          "output_type": "stream",
          "text": [
            "['Fourscore and seven years ago our fathers brought forth on\\n', 'this continent a new nation, conceived in liberty and\\n', 'dedicated to the proposition that all men are created equal.\\n', '\\n', 'Now we are engaged in a great civil war, testing whether \\n', 'that nation or any nation so conceived and so dedicated can \\n', 'long endure. We are met on a great battlefield of that war. \\n', 'We have come to dedicate a portion of it as a final resting \\n', 'place for those who died here that the nation might live. \\n', 'This we may, in all propriety do. But in a larger sense, we \\n', 'cannot dedicate, we cannot consecrate, we cannot hallow this \\n', 'ground. The brave men, living and dead who struggled here \\n', 'have hallowed it far above our poor power to add or detract. \\n', 'The world will little note nor long remember what we say \\n', 'here, but it can never forget what they did here.\\n', '\\n', 'It is rather for us the living, we here be dedicated to the \\n', 'great task remaining before us--that from these honored dead \\n', 'we take increased devotion to that cause for which they here \\n', 'gave the last full measure of devotion--that we here highly \\n', 'resolve that these dead shall not have died in vain, that \\n', 'this nation shall have a new birth of freedom, and that \\n', 'government of the people, by the people, for the people \\n', 'shall not perish from the earth.\\n']\n",
            "All done with the file.\n"
          ]
        }
      ],
      "source": [
        "with open(\"gettysburg.txt\") as gettysburg_file:\n",
        "    \n",
        "    gettysburg_text = gettysburg_file.readlines()\n",
        "    \n",
        "    print(gettysburg_text)\n",
        "    \n",
        "print(\"All done with the file.\")"
      ]
    },
    {
      "cell_type": "markdown",
      "metadata": {
        "id": "xVfoGd170aoD"
      },
      "source": [
        "## Analyzing Baby Names Example\n",
        "\n",
        "Let's say we want to analyze baby name popularity, and we have a file with data from https://www.ssa.gov/oact/babynames/decades/names2010s.html\n",
        "\n",
        "<center>\n",
        "<div>\n",
        "<img src=\"attachment:babynamefile.png\" width=\"400\"/>\n",
        "</div>\n",
        "</center>"
      ]
    },
    {
      "cell_type": "code",
      "execution_count": null,
      "metadata": {
        "id": "WYg1EnY90aoD",
        "outputId": "e4a3601e-65f7-4a79-e124-2561e1e34244"
      },
      "outputs": [
        {
          "name": "stdout",
          "output_type": "stream",
          "text": [
            "['Noah\\n', 'Liam\\n', 'Jacob\\n', 'William\\n', 'Mason\\n', 'Ethan\\n', 'Michael\\n', 'Alexander\\n', 'James\\n', 'Elijah\\n']\n"
          ]
        }
      ],
      "source": [
        "with open(\"top_male_baby_names_2010s.txt\") as male_names_file:\n",
        "    male_names = male_names_file.readlines()\n",
        "    \n",
        "    print(male_names[:10]) #print the top 10"
      ]
    },
    {
      "cell_type": "markdown",
      "metadata": {
        "id": "vbG1G3HW0aoD"
      },
      "source": [
        "It's annoying that the newline character `\\n` is included in all of the strings. To remove these, you could use the `rstrip()` string method."
      ]
    },
    {
      "cell_type": "code",
      "execution_count": null,
      "metadata": {
        "id": "otsnzlMv0aoE",
        "outputId": "9bf3fa10-121c-4b84-ed6a-673707c7123a"
      },
      "outputs": [
        {
          "data": {
            "text/plain": [
              "'Meredith\\n'"
            ]
          },
          "execution_count": 8,
          "metadata": {},
          "output_type": "execute_result"
        }
      ],
      "source": [
        "name = \"Meredith\\n\"\n",
        "name"
      ]
    },
    {
      "cell_type": "code",
      "execution_count": null,
      "metadata": {
        "id": "5tR5FcS40aoE",
        "outputId": "58ae4330-3acd-4f42-f7fd-7ef902d5fa92"
      },
      "outputs": [
        {
          "data": {
            "text/plain": [
              "'Meredith'"
            ]
          },
          "execution_count": 9,
          "metadata": {},
          "output_type": "execute_result"
        }
      ],
      "source": [
        "name.rstrip()"
      ]
    },
    {
      "cell_type": "markdown",
      "metadata": {
        "id": "7_ivOUUp0aoE"
      },
      "source": [
        "## looping through and removing all the newlines"
      ]
    },
    {
      "cell_type": "code",
      "execution_count": null,
      "metadata": {
        "id": "T-7Hb1U-0aoE",
        "outputId": "d62b0bd5-ef5f-49ab-aca5-30413374e90a"
      },
      "outputs": [
        {
          "name": "stdout",
          "output_type": "stream",
          "text": [
            "['Noah', 'Liam', 'Jacob', 'William', 'Mason', 'Ethan', 'Michael', 'Alexander', 'James', 'Elijah']\n"
          ]
        }
      ],
      "source": [
        "with open(\"top_male_baby_names_2010s.txt\") as male_names_file:\n",
        "    \n",
        "    male_names = male_names_file.readlines() #read the file into a list\n",
        "    \n",
        "    name_counter = 0\n",
        "    \n",
        "    while name_counter < len(male_names):\n",
        "        \n",
        "        #for each name, use rstrip() to remove whitespace\n",
        "        male_names[name_counter] = male_names[name_counter].rstrip()\n",
        "        \n",
        "        name_counter += 1\n",
        "     \n",
        " \n",
        "    print(male_names[:10])"
      ]
    },
    {
      "cell_type": "markdown",
      "metadata": {
        "id": "PkOPdsM40aoF"
      },
      "source": [
        "## Now we can use Python to ask interesting questions of our data\n",
        "\n",
        "Here's a program that lets the user check how popular a name was."
      ]
    },
    {
      "cell_type": "code",
      "execution_count": null,
      "metadata": {
        "scrolled": true,
        "id": "Fr-42EwL0aoF",
        "outputId": "91407395-3bf6-4cba-b9e7-450ee6202d4d"
      },
      "outputs": [
        {
          "name": "stdout",
          "output_type": "stream",
          "text": [
            "Enter a name: Aaron\n",
            "Aaron was the number 48 most popular male name in the 2010s.\n"
          ]
        }
      ],
      "source": [
        "name_to_search = input(\"Enter a name: \")\n",
        "\n",
        "if name_to_search in male_names:\n",
        "    position = male_names.index(name_to_search)\n",
        "    print(name_to_search,\"was the number\",(position+1),\"most popular male name in the 2010s.\")\n",
        "else:\n",
        "    print(name_to_search,\"was not a popular name in the 2010s.\")"
      ]
    },
    {
      "cell_type": "markdown",
      "metadata": {
        "id": "Ba1Jk6he0aoF"
      },
      "source": [
        "We might not get this far... but in case we do:\n",
        "\n",
        "## CSV Files and 2D Lists\n",
        "\n",
        "### A useful string method: `split()`\n",
        "`split()` is a string method that will break a string into parts (elements/items in a list), based on some delimiter."
      ]
    },
    {
      "cell_type": "code",
      "execution_count": null,
      "metadata": {
        "hideCode": false,
        "hidePrompt": false,
        "id": "I2Xx3VUV0aoG",
        "outputId": "e36f54fa-fb6b-4533-92b6-3b4ddf634ba6"
      },
      "outputs": [
        {
          "name": "stdout",
          "output_type": "stream",
          "text": [
            "['4', '52', '20']\n"
          ]
        }
      ],
      "source": [
        "marathon_time = \"4:52:20\"\n",
        "marathon_time_split = marathon_time.split(\":\")\n",
        "print(marathon_time_split)"
      ]
    },
    {
      "cell_type": "code",
      "execution_count": null,
      "metadata": {
        "hideCode": false,
        "hidePrompt": false,
        "id": "99xBD6Xr0aoG",
        "outputId": "1672989d-dfca-4764-8a10-02826ae8a2f6"
      },
      "outputs": [
        {
          "name": "stdout",
          "output_type": "stream",
          "text": [
            "['0.0', '0.4', '1.3', '1.1', '2.5', '0.0', '0.6']\n",
            "2.5\n"
          ]
        }
      ],
      "source": [
        "rainfall_data = \"0.0, 0.4, 1.3, 1.1, 2.5, 0.0, 0.6\"\n",
        "rainfall_list = rainfall_data.split(\", \")\n",
        "print(rainfall_list)\n",
        "print(float(rainfall_list[4]))"
      ]
    },
    {
      "cell_type": "code",
      "execution_count": null,
      "metadata": {
        "id": "YLvl4tGD0aoG",
        "outputId": "6a1c15a9-e19e-47d6-b787-c87ca665fb2e"
      },
      "outputs": [
        {
          "name": "stdout",
          "output_type": "stream",
          "text": [
            "['001', 'a', '63.png']\n",
            "63\n"
          ]
        }
      ],
      "source": [
        "# an example of how I often use split\n",
        "filename = '001_a_63.png'\n",
        "parts = filename.split('_')\n",
        "print(parts)\n",
        "num = parts[-1].split('.')[0]\n",
        "print(num)"
      ]
    },
    {
      "cell_type": "markdown",
      "metadata": {
        "hideCode": false,
        "hidePrompt": false,
        "id": "sPg70Ubz0aoG"
      },
      "source": [
        "## CSV files - comma separated values\n",
        "\n",
        "CSV files are a common, simple file format for data stored in tables. They can often be opened with either spreadsheet software or text editors.\n",
        "\n",
        "National parks data is from https://en.wikipedia.org/wiki/List_of_areas_in_the_United_States_National_Park_System\n"
      ]
    },
    {
      "cell_type": "markdown",
      "metadata": {
        "hideCode": false,
        "hidePrompt": false,
        "id": "iqlG9Lv90aoH"
      },
      "source": [
        "<center>\n",
        "<div>\n",
        "<img src=\"attachment:opencsv.png\"/>\n",
        "</div>\n",
        "</center>\n"
      ]
    },
    {
      "cell_type": "markdown",
      "metadata": {
        "hideCode": false,
        "hidePrompt": false,
        "id": "GcHkiTg80aoH"
      },
      "source": [
        "## Option 1: Read it into a list and then process each row as needed"
      ]
    },
    {
      "cell_type": "code",
      "execution_count": null,
      "metadata": {
        "hideCode": false,
        "hidePrompt": false,
        "id": "B8qpFoYo0aoH",
        "outputId": "74da3b16-4c18-46e3-9f9e-8f7a7ac39dce"
      },
      "outputs": [
        {
          "data": {
            "text/plain": [
              "'Arches National Park,Utah,1971,76678.98\\n'"
            ]
          },
          "execution_count": 14,
          "metadata": {},
          "output_type": "execute_result"
        }
      ],
      "source": [
        "with open(\"nationalparks.csv\") as parkfile:\n",
        "    parks = parkfile.readlines()\n",
        "\n",
        "#print(parks)\n",
        "\n",
        "parks[3]"
      ]
    },
    {
      "cell_type": "markdown",
      "metadata": {
        "hideCode": false,
        "hidePrompt": false,
        "id": "_a57_C5c0aoH"
      },
      "source": [
        "## Option 2: use the csv module"
      ]
    },
    {
      "cell_type": "code",
      "execution_count": null,
      "metadata": {
        "hideCode": false,
        "hidePrompt": false,
        "id": "C37_KH-R0aoH",
        "outputId": "2a702327-337d-422c-9974-f81f3b83d2d4"
      },
      "outputs": [
        {
          "data": {
            "text/plain": [
              "[['Name', 'Location', 'Year established', 'Area in acres'],\n",
              " ['Acadia National Park', 'Maine', '1919', '49076.63'],\n",
              " ['National Park of American Samoa', 'American Samoa', '1988', '8256.67'],\n",
              " ['Arches National Park', 'Utah', '1971', '76678.98'],\n",
              " ['Badlands National Park', 'South Dakota', '1978', '242755.94'],\n",
              " ['Big Bend National Park', 'Texas', '1944', '801163.21'],\n",
              " ['Biscayne National Park', 'Florida', '1980', '172971.11'],\n",
              " ['Black Canyon of the Gunnison National Park',\n",
              "  'Colorado',\n",
              "  '1999',\n",
              "  '30779.83'],\n",
              " ['Bryce Canyon National Park', 'Utah', '1928', '35835.08'],\n",
              " ['Canyonlands National Park', 'Utah', '1964', '337597.83']]"
            ]
          },
          "execution_count": 16,
          "metadata": {},
          "output_type": "execute_result"
        }
      ],
      "source": [
        "import csv\n",
        "\n",
        "with open(\"nationalparks.csv\") as npfile:\n",
        "    parks = csv.reader(npfile)\n",
        "    parks = list(parks)\n",
        "    \n",
        "parks[:10] #print the first 10 items in the list"
      ]
    },
    {
      "cell_type": "markdown",
      "metadata": {
        "hideCode": false,
        "hidePrompt": false,
        "id": "iCdbeeh10aoI"
      },
      "source": [
        "Tabular data stored in a list-of-lists like this is sometimes called a __two-dimensional list__. \n",
        "\n",
        "2D list data can be accessed with two indices, the first one for the row, and the second one for the column."
      ]
    },
    {
      "cell_type": "code",
      "execution_count": null,
      "metadata": {
        "hideCode": false,
        "hidePrompt": false,
        "id": "Dt4HU5qN0aoI"
      },
      "outputs": [],
      "source": [
        "print(parks[3][0]) #row 3, column 0\n",
        "print(parks[3][3]) #row 3, column 3\n",
        "\n",
        "print(parks[3][0],\"is\",(float(parks[3][3])/640),\"square miles\")"
      ]
    },
    {
      "cell_type": "markdown",
      "metadata": {
        "hideCode": false,
        "hidePrompt": false,
        "id": "Q19AX4ka0aoI"
      },
      "source": [
        "## Processing all rows\n",
        "\n",
        "If we want to do something with every row or every column (or both), we could iterate through it with a loop."
      ]
    },
    {
      "cell_type": "code",
      "execution_count": null,
      "metadata": {
        "hideCode": false,
        "hidePrompt": false,
        "id": "oBTPcj6q0aoI"
      },
      "outputs": [],
      "source": [
        "import csv\n",
        "\n",
        "with open(\"nationalparks.csv\") as npfile:\n",
        "    parks = csv.reader(npfile)\n",
        "    parks = list(parks)\n",
        "\n",
        "    \n",
        "    park_counter = 1\n",
        "    \n",
        "    while park_counter < len(parks):\n",
        "        print(parks[park_counter][0],\"is\",(float(parks[park_counter][3])/640),\"square miles\")\n",
        "        park_counter += 1\n",
        "    "
      ]
    },
    {
      "cell_type": "markdown",
      "metadata": {
        "hideCode": false,
        "hidePrompt": false,
        "id": "zDFYRspU0aoI"
      },
      "source": [
        "## Example: How many national parks are in a given state?"
      ]
    },
    {
      "cell_type": "code",
      "execution_count": null,
      "metadata": {
        "hideCode": false,
        "hidePrompt": false,
        "id": "_Lts_GY00aoI"
      },
      "outputs": [],
      "source": [
        "import csv\n",
        "\n",
        "with open(\"nationalparks.csv\") as npfile:\n",
        "    parks = csv.reader(npfile)\n",
        "    parks = list(parks)\n",
        "    \n",
        "state = input(\"Enter a state: \")\n",
        "\n",
        "#let's code this up in class"
      ]
    },
    {
      "cell_type": "code",
      "execution_count": null,
      "metadata": {
        "hideCode": false,
        "hidePrompt": false,
        "id": "fChQ3j6d0aoJ"
      },
      "outputs": [],
      "source": [
        "import csv\n",
        "\n",
        "with open(\"nationalparks.csv\") as npfile:\n",
        "    parks = csv.reader(npfile)\n",
        "    parks = list(parks)\n",
        "    \n",
        "state = input(\"Enter a state: \")\n",
        "\n",
        "park_counter = 1\n",
        "parks_in_state = 0\n",
        "\n",
        "while park_counter < len(parks):\n",
        "    \n",
        "    if parks[park_counter][1] == state:\n",
        "        parks_in_state += 1\n",
        "    \n",
        "    \n",
        "    park_counter += 1\n",
        "    \n",
        "print(\"There are\",parks_in_state,\"national parks in\",state)"
      ]
    }
  ],
  "metadata": {
    "celltoolbar": "Slideshow",
    "kernelspec": {
      "display_name": "Python 3",
      "language": "python",
      "name": "python3"
    },
    "language_info": {
      "codemirror_mode": {
        "name": "ipython",
        "version": 3
      },
      "file_extension": ".py",
      "mimetype": "text/x-python",
      "name": "python",
      "nbconvert_exporter": "python",
      "pygments_lexer": "ipython3",
      "version": "3.8.3"
    },
    "colab": {
      "provenance": [],
      "include_colab_link": true
    }
  },
  "nbformat": 4,
  "nbformat_minor": 0
}