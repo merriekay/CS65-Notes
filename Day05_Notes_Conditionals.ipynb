{
  "cells": [
    {
      "cell_type": "markdown",
      "metadata": {
        "id": "view-in-github",
        "colab_type": "text"
      },
      "source": [
        "<a href=\"https://colab.research.google.com/github/merriekay/CS65-Notes/blob/main/Day05_Notes_Conditionals.ipynb\" target=\"_parent\"><img src=\"https://colab.research.google.com/assets/colab-badge.svg\" alt=\"Open In Colab\"/></a>"
      ]
    },
    {
      "cell_type": "markdown",
      "metadata": {
        "id": "btXWn2UOZ_-V"
      },
      "source": [
        "# Day05 Notes: Conditionals\n",
        "#### CS65: Introduction to Computer Science I\n",
        "\n",
        "September 19th, 2022"
      ]
    },
    {
      "cell_type": "markdown",
      "metadata": {
        "id": "YvbQYy1rZ_-X"
      },
      "source": [
        "## Adiministrative Stuff:\n",
        "\n",
        "I will be out of town the rest of the week for the [Grace Hopper Celebration](https://ghc.anitab.org/).\n",
        "\n",
        "- No in-person class on Wednesday 9/13.\n",
        "- [Lab #4: Election Years](https://github.com/mooreCS65/CS65-F22-Labs/blob/main/Lab04_DivisionModulusConditional.ipynb) is due on Wednesday 9/21 by 11:59pm.\n"
      ]
    },
    {
      "cell_type": "markdown",
      "metadata": {
        "id": "pgFKkANLZ_-X"
      },
      "source": [
        "### Quiz #1\n",
        "\n",
        "Quiz #1 will be released today after class, and is due on __Friday 9/23 by 11:59pm.__ \n",
        "\n",
        "Can be found under 'Assignments' on Bb:\n",
        "\n",
        "<center>\n",
        "<div>\n",
        "<img src=\"attachment:image.png\" width=\"500\"/>\n",
        "</div>\n",
        "</center>\n",
        "\n",
        "\n",
        "- to be completed individually\n",
        "- notes/resources are fair game\n",
        "- if you use any resources outside of the course material, please __cite your sources__ in the space provided at the end of the quiz.\n",
        "- while this quiz is not timed, you must submit it before the deadline and you only have one submission."
      ]
    },
    {
      "cell_type": "markdown",
      "metadata": {
        "id": "dMpkWcSRZ_-Y"
      },
      "source": [
        "## Quick Review:\n",
        "![image.png](data:image/png;base64,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)\n",
        "\n",
        "[image from Cue Math](https://www.cuemath.com/dividend-divisor-quotient-remainder-formula/)\n",
        "\n",
        "### Division Operators:\n",
        "- `%` is modulo, and will give you the __remainder__\n",
        "- `//` is integer division and will give you the __quotient__\n",
        "\n",
        "### PollEverywhere Review Questions\n"
      ]
    },
    {
      "cell_type": "markdown",
      "metadata": {
        "id": "Ars3opkVZ_-Y"
      },
      "source": [
        "## Conditional execution of code\n",
        "\n",
        "Sometimes, you want your program to do something different based on different conditions. These are called __conditional statements__.\n",
        "\n",
        "For example, consider the pay calculator. If this employer offers 50% extra pay for overtime (i.e., worked > 40 hours), how could we account for that?"
      ]
    },
    {
      "cell_type": "code",
      "execution_count": null,
      "metadata": {
        "id": "flPn0kjKZ_-Z",
        "outputId": "c4f89f12-d7c8-49e7-e24b-de1048c883ec"
      },
      "outputs": [
        {
          "name": "stdout",
          "output_type": "stream",
          "text": [
            "Enter your hourly wage: 9.25\n",
            "Enter your number of hours worked: 40\n",
            "Total pay:  370.0\n"
          ]
        }
      ],
      "source": [
        "wage = float(input(\"Enter your hourly wage: \"))\n",
        "hours = float(input(\"Enter your number of hours worked: \"))\n",
        "\n",
        "#option 1: only correct if they didn't work overtime\n",
        "#pay = wage*hours\n",
        "\n",
        "#option 2: only correct if they worked overtime\n",
        "overtime_hours = hours-40\n",
        "pay = (wage*40) + (wage*1.5*overtime_hours)\n",
        "\n",
        "print(\"Total pay: \",pay)"
      ]
    },
    {
      "cell_type": "markdown",
      "metadata": {
        "id": "PuS16UagZ_-b"
      },
      "source": [
        "## Syntax for `if` statements\n",
        "\n",
        "* keyword `if`\n",
        "* a condition\n",
        "* colon `:`\n",
        "* indented _block_ of code"
      ]
    },
    {
      "cell_type": "code",
      "execution_count": null,
      "metadata": {
        "scrolled": true,
        "id": "1ncn-PlpZ_-b",
        "outputId": "e46ee930-09d1-445d-f275-8a82c7204612"
      },
      "outputs": [
        {
          "name": "stdout",
          "output_type": "stream",
          "text": [
            "What is your age? 12\n",
            "Your total bill is 35.63\n"
          ]
        }
      ],
      "source": [
        "total_bill = 35.63\n",
        "age = float(input(\"What is your age? \"))\n",
        "\n",
        "if age > 65:   # notice the 'if' keyword and the colon ':'\n",
        "    print(\"Applying 10% senior discount\")\n",
        "    total_bill = total_bill * 0.9 \n",
        "    #any indented code is only runs\n",
        "    #when the condition is True\n",
        "    \n",
        "#un-indented code runs no matter what\n",
        "print(\"Your total bill is\", total_bill)"
      ]
    },
    {
      "cell_type": "markdown",
      "metadata": {
        "id": "UL0XiUKiZ_-c"
      },
      "source": [
        "But, sometimes you need more than just an `if` statement:\n",
        "\n",
        "## Syntax for `if-else` statements\n",
        "\n",
        "* keyword `if`\n",
        "* a condition\n",
        "* colon `:`\n",
        "* indented block of code\n",
        "* keyword `else`\n",
        "* colon `:`\n",
        "* indented block of code"
      ]
    },
    {
      "cell_type": "code",
      "execution_count": null,
      "metadata": {
        "id": "vD_ewgVuZ_-d",
        "outputId": "22d7cda9-8f97-4de2-f068-68cdec4e00cc"
      },
      "outputs": [
        {
          "name": "stdout",
          "output_type": "stream",
          "text": [
            "Enter your height in inches: 60\n",
            "You are tall enough for this ride.\n"
          ]
        }
      ],
      "source": [
        "#if-else example\n",
        "height = int(input(\"Enter your height in inches: \"))\n",
        "\n",
        "if height < 60: # notice the 'if' keyword and the colon ':'\n",
        "    print(\"You are not tall enough for this ride.\")\n",
        "    #indented block of code that runs if the condition is true\n",
        "    \n",
        "else: # notice the 'else' keyword and the colon ':'\n",
        "    print(\"You are tall enough for this ride.\")\n",
        "    #indented block of code that runs if the condition is not true\n",
        "\n",
        "#notice that the 'if' and 'else' clauses match indentation"
      ]
    },
    {
      "cell_type": "markdown",
      "metadata": {
        "id": "NC8UhrAVZ_-d"
      },
      "source": [
        "## Group Exercise\n",
        "\n",
        "How could we make this work using an `if-else`?"
      ]
    },
    {
      "cell_type": "code",
      "execution_count": null,
      "metadata": {
        "id": "I6yfH6rFZ_-d",
        "outputId": "1a20d277-d828-456e-ed80-066dea98991f"
      },
      "outputs": [
        {
          "name": "stdout",
          "output_type": "stream",
          "text": [
            "Enter your hourly wage: 9.25\n",
            "Enter your number of hours worked: 25\n",
            "Total pay:  231.25\n"
          ]
        }
      ],
      "source": [
        "wage = float(input(\"Enter your hourly wage: \"))\n",
        "hours = float(input(\"Enter your number of hours worked: \"))\n",
        "\n",
        "#option 1: only correct if they didn't work overtime\n",
        "pay = wage*hours\n",
        "\n",
        "#option 2: only correct if they worked overtime\n",
        "#overtime_hours = hours-40\n",
        "#pay = (wage*40) + (wage*1.5*overtime_hours)\n",
        "\n",
        "print(\"Total pay: \",pay)"
      ]
    },
    {
      "cell_type": "markdown",
      "metadata": {
        "id": "fslbx-reZ_-e"
      },
      "source": [
        "## Boolean type\n",
        "\n",
        "The __Boolean__ type has two possible values: `True` and `False`\n",
        "\n",
        "`type()` of a Boolean variable will read as `bool`\n"
      ]
    },
    {
      "cell_type": "code",
      "execution_count": null,
      "metadata": {
        "id": "g-4aQNEGZ_-e",
        "outputId": "c919738a-a372-484a-f972-9151eda01c89"
      },
      "outputs": [
        {
          "name": "stdout",
          "output_type": "stream",
          "text": [
            "The condition it True!\n",
            "<class 'bool'>\n"
          ]
        }
      ],
      "source": [
        "bool_variable = True\n",
        "\n",
        "if bool_variable:\n",
        "    print(\"The condition it True!\")\n",
        "    print(type(bool_variable))"
      ]
    },
    {
      "cell_type": "markdown",
      "metadata": {
        "id": "Dilj4KtpZ_-f"
      },
      "source": [
        "The _condition_ for an `if`/`if-else` statement can be anything that results in a Boolean. An expression, like `height < 60` that results in a Boolean is called a __Boolean expression__."
      ]
    },
    {
      "cell_type": "markdown",
      "metadata": {
        "id": "Nie-Z_IQZ_-f"
      },
      "source": [
        "## Some Boolean operators\n",
        "\n",
        "* `<` less than\n",
        "* `>` greater than\n",
        "* `<=` less than or equal\n",
        "    - note there is no $\\leq$ button on your keyboard\n",
        "* `>=` greater than or equal\n",
        "* `==` equal (comparison)\n",
        "    - note that `=` is used for assignment, they're different operators, don't confuse them!\n",
        "* `!=` not equal"
      ]
    },
    {
      "cell_type": "markdown",
      "metadata": {
        "id": "0pPNQdVcZ_-f"
      },
      "source": [
        "You can use these *boolean operators* to __evaluate complex expressions__:"
      ]
    },
    {
      "cell_type": "code",
      "execution_count": null,
      "metadata": {
        "id": "TiwbDC8UZ_-f",
        "outputId": "58e87997-5ab5-4b7f-a852-19bcea6e9168"
      },
      "outputs": [
        {
          "name": "stdout",
          "output_type": "stream",
          "text": [
            "True\n",
            "False\n",
            "False\n"
          ]
        }
      ],
      "source": [
        "x = 2<15\n",
        "y = 2>= 15\n",
        "print(x)\n",
        "print(y)\n",
        "print(x and y)"
      ]
    },
    {
      "cell_type": "markdown",
      "metadata": {
        "id": "RTKqq5B_Z_-g"
      },
      "source": [
        "### Examples of Boolean Operators in Practice:"
      ]
    },
    {
      "cell_type": "code",
      "execution_count": null,
      "metadata": {
        "id": "svV2KpJLZ_-g",
        "outputId": "54fbe95a-8b0b-40d0-c3b3-978d812cb081"
      },
      "outputs": [
        {
          "name": "stdout",
          "output_type": "stream",
          "text": [
            "Guess a number: 1\n",
            "Wrong!\n"
          ]
        }
      ],
      "source": [
        "secret_number = 7\n",
        "guess = int(input(\"Guess a number: \"))\n",
        "\n",
        "if guess == secret_number:\n",
        "    print(\"That was right, good guess!\")\n",
        "else:\n",
        "    print(\"Wrong!\")"
      ]
    },
    {
      "cell_type": "markdown",
      "metadata": {
        "id": "hqYgdDFaZ_-g"
      },
      "source": [
        "**Challenge**: What would we need to change to make `secret_number` a random number?"
      ]
    },
    {
      "cell_type": "code",
      "execution_count": null,
      "metadata": {
        "id": "2YBM_j5RZ_-g",
        "outputId": "1c085428-66d3-4995-ebc1-0f309d866ecd"
      },
      "outputs": [
        {
          "name": "stdout",
          "output_type": "stream",
          "text": [
            "Enter number of people at the table: 4\n",
            "Was this a business lunch for a non-profit organization? yes\n",
            "Your total is 121.5\n"
          ]
        }
      ],
      "source": [
        "total_bill = 121.50\n",
        "party_size = int(input(\"Enter number of people at the table: \"))\n",
        "non_profit = input(\"Was this a business lunch for a non-profit organization? \")\n",
        " \n",
        "if non_profit != \"yes\":\n",
        "    print(\"Calculating 6% sales tax.\")\n",
        "    total_bill = total_bill * 1.06\n",
        "    \n",
        "if party_size >= 8:\n",
        "    print(\"Automatically adding 15% gratuity.\")\n",
        "    total_bill = total_bill * 1.15\n",
        "    \n",
        "print(\"Your total is\",total_bill)"
      ]
    },
    {
      "cell_type": "markdown",
      "metadata": {
        "id": "L_-9cWR3Z_-h"
      },
      "source": [
        "## PollEverywhere Questions"
      ]
    },
    {
      "cell_type": "markdown",
      "metadata": {
        "id": "xsH7CY3SZ_-h"
      },
      "source": [
        "### You should be working on:\n",
        "- [Lab #4: Election Years](https://github.com/mooreCS65/CS65-F22-Labs/blob/main/Lab04_DivisionModulusConditional.ipynb), __due Wednesday 9/21 by 11:59pm__\n",
        "- Quiz #1 (will be released after class today on Bb), due __Friday, 9/23 by 11:59pm__\n",
        "    - individual, not timed, one attempt, open notes, cite other sources\n",
        "\n",
        "Walkthrough of Lab #4\n",
        "\n",
        "## PollEverywhere Questions"
      ]
    },
    {
      "cell_type": "code",
      "execution_count": null,
      "metadata": {
        "id": "qxafs186Z_-h"
      },
      "outputs": [],
      "source": []
    }
  ],
  "metadata": {
    "celltoolbar": "Slideshow",
    "kernelspec": {
      "display_name": "Python 3",
      "language": "python",
      "name": "python3"
    },
    "language_info": {
      "codemirror_mode": {
        "name": "ipython",
        "version": 3
      },
      "file_extension": ".py",
      "mimetype": "text/x-python",
      "name": "python",
      "nbconvert_exporter": "python",
      "pygments_lexer": "ipython3",
      "version": "3.8.3"
    },
    "colab": {
      "provenance": [],
      "toc_visible": true,
      "include_colab_link": true
    }
  },
  "nbformat": 4,
  "nbformat_minor": 0
}