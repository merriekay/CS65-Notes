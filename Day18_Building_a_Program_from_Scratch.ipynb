{
  "cells": [
    {
      "cell_type": "markdown",
      "metadata": {
        "id": "view-in-github",
        "colab_type": "text"
      },
      "source": [
        "<a href=\"https://colab.research.google.com/github/merriekay/CS65-Notes/blob/main/Day18_Building_a_Program_from_Scratch.ipynb\" target=\"_parent\"><img src=\"https://colab.research.google.com/assets/colab-badge.svg\" alt=\"Open In Colab\"/></a>"
      ]
    },
    {
      "cell_type": "markdown",
      "metadata": {
        "id": "rRcMBtb3R0Gm"
      },
      "source": [
        "# Day 18: Tips on Building a Program from Scratch\n",
        "#### CS65: Introduction to Computer Science 1\n",
        "\n",
        "Wednesday, November 9th, 2022\n",
        "\n",
        "[⏮ Go back to Day17](https://github.com/merriekay/CS65-Notes/blob/main/Day17_Make_a_Game.ipynb) | Go forward to Day19 ⏭ (TBA)"
      ]
    },
    {
      "cell_type": "markdown",
      "metadata": {
        "id": "BmpwdDvnR0Gp"
      },
      "source": [
        "## Admin Stuff:\n",
        "- __Lab #13__ due Thursday, November 10th by 6:00 pm. __Make a Dice Game__, see [Day17](https://github.com/merriekay/CS65-Notes/blob/main/Day17_Make_a_Game.ipynb) for more details.\n",
        "    - To be judged by my game night friends, winner will get either something silly from the dollar store or a chance to 3D print something\n"
      ]
    },
    {
      "cell_type": "markdown",
      "metadata": {
        "id": "FBDlSDIeR0Gq"
      },
      "source": [
        "## Quick Review:\n",
        "\n",
        "Last class we talked about:\n",
        "- `roll_die()` function\n",
        "- rolling multiple dice\n"
      ]
    },
    {
      "cell_type": "markdown",
      "metadata": {
        "id": "R_IjsZ16R0Gq"
      },
      "source": [
        "# Building From Scratch:\n",
        "In class on Monday, I noticed that we haven't done a lot of creating your own program from scratch, and I wanted to take some time today to really dig in to what that process looks like, and demonstrate some best practices for this.\n",
        "\n",
        "## Here are some tips: \n",
        "\n",
        "### Step #1: Start by planning/writing out __what you want your software to do__. \n",
        "- For this assignment, it might look something like playing a few games and deciding how you want your game to operate. "
      ]
    },
    {
      "cell_type": "markdown",
      "metadata": {
        "id": "fJnuKrZER0Gr"
      },
      "source": [
        "## Step #2: __break the project down into smaller units__.\n",
        "\n",
        "- For a dice game, this might look like building pieces like `roll_die`, `roll_multiple_dice`, `get_score`, `user_interaction`, maybe printing out the results of a roll, etc... These will probably become functions in your program."
      ]
    },
    {
      "cell_type": "markdown",
      "metadata": {
        "id": "2n6rvNs9R0Gr"
      },
      "source": [
        "- Now, __break those units down even further__. \n",
        "    - __Docstrings__ are great here: Can you define what the input and outputs (parameters/returns) should be for each of these functions? Maybe start writing a quick description of what the function should do?\n"
      ]
    },
    {
      "cell_type": "markdown",
      "metadata": {
        "id": "CYxLw7iWR0Gs"
      },
      "source": [
        "## Step #3: Write your first line of code, and inevitably, get stuck.\n",
        "- Getting stuck is always going to be part of coding. The sooner you make peace with that the sooner you can stop beating yourself up or feeling like an imposter. \n",
        "- The best coders are not the ones who get the program right the first time, they're the ones who develop a strong since of __resiliency and an ability to push through the frustration of being stuck__. "
      ]
    },
    {
      "cell_type": "markdown",
      "metadata": {
        "id": "diVNrWmfR0Gs"
      },
      "source": [
        "### Tips on Getting Unstuck:\n",
        "- Google is your friend\n",
        "- taking a break and doing something else helps a lot. \n",
        "- Ask a friend, or even just explain what you're doing to someone else (even if they've never written a line of code). \n",
        "    - This is called the 🐥 _rubber ducky_ debugging method--explaining your code to a rubber ducky. \n",
        "    \n",
        "- __Test your code early and often__: You should never write more than 5-10 lines of code without testing that it works how you expect. \n",
        "    - `print()` statments are you friend here, but we generally don't want them to stick around. Once you've verified that your function works how you want it to, feel free to delete the print statements."
      ]
    },
    {
      "cell_type": "markdown",
      "metadata": {
        "id": "5BHD6swSR0Gt"
      },
      "source": [
        "## Step #4: Start simple and build to be more complicated. \n",
        "- It can be tempting to jump right in and try to implement the entire project in one go, but this often leads to frustration. \n",
        "- __✨Perfection is not the goal__--even Google is not perfect. Making small incremental improvements is a much better philosophy when it comes to building out a software project.\n",
        "- It generally works better to start by implmenting a small piece of code, test it, and then more on to the next one. Slowly, you can build to a more complex end-product.\n",
        "> Does your game have 10 different scoring rules? That's great, but you should start by building out one rule, and then testing it. Then build the next one, and... you guessed it... Test it."
      ]
    },
    {
      "cell_type": "markdown",
      "metadata": {
        "id": "QjF4wtIVR0Gt"
      },
      "source": [
        "# Back to the Dice Game Project:\n",
        "\n",
        "Let me demonstrate some of these concepts by working through building a dice game of my own.\n",
        "\n",
        "Everyone started with the `roll_die()` function:"
      ]
    },
    {
      "cell_type": "code",
      "execution_count": null,
      "metadata": {
        "id": "yB0bqYniR0Gu",
        "outputId": "776c79d2-2a26-45cb-c3ab-8cc279e6e279"
      },
      "outputs": [
        {
          "name": "stdout",
          "output_type": "stream",
          "text": [
            "6\n"
          ]
        }
      ],
      "source": [
        "import random\n",
        "\n",
        "def roll_die(num_sides):\n",
        "    \"\"\"\n",
        "    Will return a random number between 1 and num_sides, as a dice would.\n",
        "    \n",
        "    Parameters:\n",
        "        num_sides: the upper bound on the random number\n",
        "    Return:\n",
        "        a random number between 1 and num_sides, inclusive.\n",
        "    \"\"\"\n",
        "    return random.randint(1,num_sides)\n",
        "print(roll_die(6))"
      ]
    },
    {
      "cell_type": "markdown",
      "metadata": {
        "id": "NVVHzCvbR0Gv"
      },
      "source": [
        "Then, in class yesterday, I showed you some code that can relatively easily be built into the `roll_multiple_dice` function:"
      ]
    },
    {
      "cell_type": "code",
      "execution_count": null,
      "metadata": {
        "id": "rl9z0wMqR0Gw",
        "outputId": "6f467bc9-5d5b-4c55-9657-373c4a37e945"
      },
      "outputs": [
        {
          "name": "stdout",
          "output_type": "stream",
          "text": [
            "[1, 6, 6, 5]\n"
          ]
        }
      ],
      "source": [
        "def roll_multiple_dice(num_dice, num_sides):\n",
        "    \"\"\"\n",
        "    Will return a list with num_dice elements which are random numbers between 1 and num_sides\n",
        "    \n",
        "    Parameters:\n",
        "        num_dice: the number of dice to roll\n",
        "        num_sides: the number of sides the dice should have (must all have the same number of sides)\n",
        "    Return:\n",
        "        roll, the list of random numbers rolled\n",
        "    \"\"\"\n",
        "    roll = []\n",
        "    for x in range(num_dice):\n",
        "        roll.append(roll_die(num_sides))\n",
        "    return roll\n",
        "print(roll_multiple_dice(4, 6))"
      ]
    },
    {
      "cell_type": "markdown",
      "metadata": {
        "id": "sbDmcJMpR0Gw"
      },
      "source": [
        "A common part of scoring dice games it to be able to know things like: \n",
        "- \"How many ones were in the roll?\"\n",
        "- \"How many sixes were in the roll?\"\n",
        "- etc..."
      ]
    },
    {
      "cell_type": "markdown",
      "metadata": {
        "id": "Q52VvKGtR0Gw"
      },
      "source": [
        "## Group Exercise: \n",
        "So let's build a `how_many()` function."
      ]
    },
    {
      "cell_type": "code",
      "execution_count": null,
      "metadata": {
        "id": "r_rVuh54R0Gx"
      },
      "outputs": [],
      "source": [
        "def how_many(val, roll):\n",
        "    \"\"\"\n",
        "    returns the number elements in the roll list that have the value of num\n",
        "    \n",
        "    Parameters:\n",
        "        val, the number/value to check for\n",
        "        roll, a given dice roll to check\n",
        "    Return:\n",
        "        the number of times a roll has the value num.\n",
        "    \"\"\"\n"
      ]
    },
    {
      "cell_type": "markdown",
      "metadata": {
        "id": "9ErxlWqWR0Gx"
      },
      "source": [
        "Another way of doing this uses the `.count()` list method:\n",
        ">But... you might need to include a for loop, so the function above might be a better call."
      ]
    },
    {
      "cell_type": "code",
      "execution_count": null,
      "metadata": {
        "id": "TZRwfIr_R0Gx",
        "outputId": "23c1c55a-985c-49ab-8bd3-ccee4d86536c"
      },
      "outputs": [
        {
          "name": "stdout",
          "output_type": "stream",
          "text": [
            "2\n"
          ]
        }
      ],
      "source": [
        "my_list = [1,4,5,1,6]\n",
        "print(my_list.count(1))"
      ]
    },
    {
      "cell_type": "code",
      "execution_count": null,
      "metadata": {
        "id": "ZvE_3DxwR0Gx",
        "outputId": "dd9d503e-2024-472b-deb0-ac1977b500bb"
      },
      "outputs": [
        {
          "name": "stdout",
          "output_type": "stream",
          "text": [
            "[1, 3, 6, 5]\n",
            "P1 roll has 1 1s\n",
            "P1 roll has 0 2s\n",
            "P1 roll has 1 3s\n",
            "P1 roll has 0 4s\n",
            "P1 roll has 1 5s\n",
            "P1 roll has 1 6s\n"
          ]
        }
      ],
      "source": [
        "#Let's pull things together a bit:\n",
        "num_of_sides = 6\n",
        "num_of_dice = 4\n",
        "p1_roll = roll_multiple_dice(num_of_dice,num_of_sides) #roll 4, 6-sided dice\n",
        "p2_roll = roll_multiple_dice(num_of_dice,num_of_sides)\n",
        "\n",
        "#check to see how many 1s in each roll\n",
        "p1_ones = how_many(1, p1_roll)\n",
        "p2_ones = how_many(1, p2_roll)\n",
        "#or\n",
        "#p1_ones = p1_roll.count(1)\n",
        "#p2_ones = p1_roll.count(1)\n",
        "\n",
        "print(p1_roll)\n",
        "for x in range(1, num_of_sides + 1):\n",
        "    print(\"P1 roll has \", how_many(x, p1_roll),' ', x,'s', sep='')\n",
        "    #print(\"P1 roll has \", p1_roll.count(x), ' ', x,'s', sep='')\n",
        "    "
      ]
    },
    {
      "cell_type": "markdown",
      "metadata": {
        "id": "cUfJqSbaR0Gy"
      },
      "source": [
        "## 💾 🎲 Saving and Re-Rolling Dice \n",
        "A lot of dice games rely on the idea of 'saving' specific dice from a roll and re-rolling the rest.\n",
        "\n",
        "Let's start by writing out some __pseudocode__ of how we might accomplis this."
      ]
    },
    {
      "cell_type": "code",
      "execution_count": null,
      "metadata": {
        "id": "NXJIXHWOR0Gy"
      },
      "outputs": [],
      "source": [
        "# Pseudo code:\n",
        "\"\"\"\n",
        "\n",
        "\"\"\""
      ]
    },
    {
      "cell_type": "markdown",
      "metadata": {
        "id": "y-C7J-LXR0Gy"
      },
      "source": [
        "## Reminder: `split()` function\n",
        "\n",
        "Remember this guy? `split()` is a super helpful string function that takes in a string, and returns a list where the elements are part of the input string split into pieces."
      ]
    },
    {
      "cell_type": "code",
      "execution_count": null,
      "metadata": {
        "id": "fXkIB6MLR0Gy",
        "outputId": "da18c719-f5cf-4cc0-ad96-1dc8c0ed2915"
      },
      "outputs": [
        {
          "data": {
            "text/plain": [
              "['1', '2', '3', '4', '5']"
            ]
          },
          "execution_count": 35,
          "metadata": {},
          "output_type": "execute_result"
        }
      ],
      "source": [
        "'   1  2   3     4 5'.split()"
      ]
    },
    {
      "cell_type": "code",
      "execution_count": null,
      "metadata": {
        "id": "2KtcetjSR0Gz",
        "outputId": "d1a97332-52f1-4672-bff0-25ad15690ef7"
      },
      "outputs": [
        {
          "data": {
            "text/plain": [
              "['how', 'does', 'this', 'function', 'work?']"
            ]
          },
          "execution_count": 36,
          "metadata": {},
          "output_type": "execute_result"
        }
      ],
      "source": [
        "'how does this function work?'.split()"
      ]
    },
    {
      "cell_type": "code",
      "execution_count": null,
      "metadata": {
        "id": "OhpuVC88R0Gz",
        "outputId": "6fec216e-650a-476f-deda-502773a6e889"
      },
      "outputs": [
        {
          "data": {
            "text/plain": [
              "['1', '2', '3', '4', '5', '6']"
            ]
          },
          "execution_count": 37,
          "metadata": {},
          "output_type": "execute_result"
        }
      ],
      "source": [
        "'1,2,3,4,5,6'.split(',')"
      ]
    },
    {
      "cell_type": "markdown",
      "metadata": {
        "id": "PnYNDg_gR0Gz"
      },
      "source": [
        "Using the `split()` function, we can take a user's input (initially a string), and convert it into a list of integers like so: "
      ]
    },
    {
      "cell_type": "code",
      "execution_count": null,
      "metadata": {
        "id": "VxTwkPRMR0G0",
        "outputId": "acd5da4e-200e-410b-b925-413519c2d7e7"
      },
      "outputs": [
        {
          "name": "stdout",
          "output_type": "stream",
          "text": [
            "enter a list of numbers:1,2,3,4\n"
          ]
        },
        {
          "data": {
            "text/plain": [
              "[1, 2, 3, 4]"
            ]
          },
          "execution_count": 67,
          "metadata": {},
          "output_type": "execute_result"
        }
      ],
      "source": [
        "user_input = input(\"enter a list of numbers:\")\n",
        "\n",
        "user_list = user_input.split(',')\n",
        "int_list = [(int(num)) for num in user_list]\n",
        "int_list"
      ]
    },
    {
      "cell_type": "markdown",
      "metadata": {
        "id": "Wu43iNfmR0G0"
      },
      "source": [
        "Now, we can pull together some of the parts that we've already built to implement our pseudocode.\n",
        "\n",
        "Questions to consider: \n",
        "- how might you split this code into functions?\n",
        "- can you make it so the code below loops until there are no dice left to roll?"
      ]
    },
    {
      "cell_type": "code",
      "execution_count": null,
      "metadata": {
        "id": "Mx1QiHuaR0G0",
        "outputId": "35848b1e-83fc-41ab-be10-afa97d2e098c"
      },
      "outputs": [
        {
          "name": "stdout",
          "output_type": "stream",
          "text": [
            "[4, 2, 6, 4]\n",
            "which dice would you like to save? (enter the position numbers separated by a comma) 1,4\n",
            "you saved: [4, 4]\n"
          ]
        }
      ],
      "source": [
        "# get the initial roll\n",
        "num_of_sides = 6\n",
        "num_of_dice = 4\n",
        "p1_roll = roll_multiple_dice(num_of_dice,num_of_sides) #roll 4, 6-sided dice\n",
        "print(p1_roll)\n",
        "\n",
        "#get the user input and convert it to a list of integers\n",
        "dice_to_save = input(\"which dice would you like to save? (enter the position numbers separated by a comma) \")\n",
        "user_list = dice_to_save.split(\",\")\n",
        "int_list = [(int(num)) for num in user_list]\n",
        "\n",
        "#create a new empty list to save specific dice\n",
        "save_list = []\n",
        "\n",
        "#use a for loop to save the dice at the indices entered by the user\n",
        "for x in int_list:\n",
        "    save_list.append(p1_roll[x-1]) #why is it x-1 rather than x?\n",
        "print(\"you saved:\", save_list)"
      ]
    },
    {
      "cell_type": "code",
      "execution_count": null,
      "metadata": {
        "id": "McpZFBtFR0G0",
        "outputId": "49286861-3364-4298-9eca-57c4fafbcef7"
      },
      "outputs": [
        {
          "name": "stdout",
          "output_type": "stream",
          "text": [
            "Which dice would you like to save? 1,2\n",
            "\n",
            "You saved: [1, 1]\n",
            "[1, 1]\n"
          ]
        }
      ],
      "source": [
        "def user_interaction(roll, save_list):\n",
        "    \"\"\"\n",
        "    Get the values to save from the user and return a list of the saved dice\n",
        "    \n",
        "    Parameters:\n",
        "        roll, the roll that we're working with\n",
        "        save_list, the list of dice that are 'saved'\n",
        "    Return:\n",
        "        the list of dice that the user chose to save.\n",
        "    \"\"\"\n",
        "    dice_to_save = input(\"Which dice would you like to save? \")\n",
        "    user_list = dice_to_save.split(\",\")\n",
        "    int_list = [(int(num)) for num in user_list]\n",
        "    for x in int_list:\n",
        "        if x !=0:\n",
        "            save_list.append(roll[x-1])\n",
        "    print()\n",
        "    print(\"You saved:\", save_list)\n",
        "    \n",
        "    return save_list\n",
        "\n",
        "saved = user_interaction([1,1,3,4],[])\n",
        "print(saved)"
      ]
    },
    {
      "cell_type": "markdown",
      "metadata": {
        "id": "jt2bVdeHR0G1"
      },
      "source": [
        "## All together it might look something like this:\n",
        "\n",
        "I split the code on the previous slide into the following functions:\n",
        "- `user_interaction`: Get the values to save from the user and return a list of the saved dice\n",
        "- `game_loop`: runs the main game loop using all of the other functions\n",
        "\n",
        "I also added a couple helper funtions: \n",
        "- `get_score`: which will take in a roll and determine the score (right now it is pretty simple, but has room to be made more complext)\n",
        "- `print_instructions`: will output some text to the console for the user to understand how to interact with the game.\n",
        "\n",
        "Let's copy this code over to Thonny and take a closer look: "
      ]
    },
    {
      "cell_type": "code",
      "execution_count": null,
      "metadata": {
        "scrolled": true,
        "id": "d7FsmG_0R0G1",
        "outputId": "ac253b72-e68e-4d5b-99b6-b2de98dcd67a"
      },
      "outputs": [
        {
          "name": "stdout",
          "output_type": "stream",
          "text": [
            "To 'save' a die, enter the position it is in the roll, for example, if your roll was [4,3,5,2], and you wanted to save the 3 and 2, you would type 2, 4.\n",
            "If you do not want to save any dice, enter 0.\n",
            "=========================\n",
            "\n",
            "Your roll: [2, 2, 3, 2]\n",
            "Which dice would you like to save? 1,2,4\n",
            "\n",
            "You saved: [2, 2, 2]\n",
            "\n",
            "Your roll: [2]\n",
            "Which dice would you like to save? 1\n",
            "\n",
            "You saved: [2, 2, 2, 2]\n",
            "\n",
            "You scored: 800\n"
          ]
        }
      ],
      "source": [
        "import random\n",
        "\n",
        "def roll_die(num_sides):\n",
        "    \"\"\"\n",
        "    Will return a random number between 1 and num_sides, as a dice would.\n",
        "    \n",
        "    Parameters:\n",
        "        num_sides: the upper bound on the random number\n",
        "    Return:\n",
        "        a random number between 1 and num_sides, inclusive.\n",
        "    \"\"\"\n",
        "    return random.randint(1,num_sides)\n",
        "\n",
        "def roll_multiple_dice(num_dice, num_sides):\n",
        "    \"\"\"\n",
        "    Will return a list with num_dice elements which are random numbers between 1 and num_sides\n",
        "    \n",
        "    Parameters:\n",
        "        num_dice: the number of dice to roll\n",
        "        num_sides: the number of sides the dice should have (must all have the same number of sides)\n",
        "    Return:\n",
        "        roll, the list of random numbers rolled\n",
        "    \"\"\"\n",
        "    roll = []\n",
        "    for x in range(num_dice):\n",
        "        roll.append(roll_die(num_sides))\n",
        "    return roll\n",
        "\n",
        "def how_many(val, roll):\n",
        "    \"\"\"\n",
        "    returns the number elements in the roll list that have the value of num\n",
        "    \n",
        "    Parameters:\n",
        "        val, the number/value to check for\n",
        "        roll, a given dice roll to check\n",
        "    Return:\n",
        "        the number of times a roll has the value num.\n",
        "    \"\"\"\n",
        "    counter = 0\n",
        "    for die in roll:\n",
        "        if die == val:\n",
        "            counter += 1\n",
        "    return counter\n",
        "\n",
        "def user_interaction(roll, save_list):\n",
        "    \"\"\"\n",
        "    Get the values to save from the user and return a list of the saved dice\n",
        "    \n",
        "    Parameters:\n",
        "        roll, the roll that we're working with\n",
        "        save_list, the list of dice that are 'saved'\n",
        "    Return:\n",
        "        the list of dice that the user chose to save.\n",
        "    \"\"\"\n",
        "    dice_to_save = input(\"Which dice would you like to save? \")\n",
        "    user_list = dice_to_save.split(\",\")\n",
        "    int_list = [(int(num)) for num in user_list]\n",
        "    for x in int_list:\n",
        "        if x !=0:\n",
        "            save_list.append(roll[x-1])\n",
        "    print()\n",
        "    print(\"You saved:\", save_list)\n",
        "    \n",
        "    return save_list\n",
        "\n",
        "def get_score(dice_list):\n",
        "    #insert code here to calculate the score\n",
        "    #the how_many() function might come in handy here\n",
        "    score = how_many(1,dice_list) *100\n",
        "    score += how_many(2,dice_list) *200\n",
        "    #etc\n",
        "    \n",
        "    return score\n",
        "\n",
        "def print_instructions():\n",
        "    print(\"To 'save' a die, enter the position it is in the roll, for example, if your roll was [4,3,5,2], and you wanted to save the 3 and 2, you would type 2, 4.\")\n",
        "    print(\"If you do not want to save any dice, enter 0.\")\n",
        "\n",
        "def game_loop():\n",
        "    #set your variables\n",
        "    num_of_sides = 6\n",
        "    dice_to_roll = 4\n",
        "    saved = []\n",
        "    \n",
        "    print_instructions()\n",
        "    print(\"=========================\")\n",
        "    while dice_to_roll > 0 :\n",
        "        #get the roll\n",
        "        p1_roll = roll_multiple_dice(dice_to_roll,num_of_sides)\n",
        "        print()\n",
        "        print(\"Your roll:\", p1_roll)\n",
        "\n",
        "        #ask the user which dice they want to save\n",
        "        old_saved_len = len(saved)\n",
        "        saved = user_interaction(p1_roll, saved)\n",
        "        new_saved_len = len(saved)\n",
        "        \n",
        "        dice_saved_this_round = new_saved_len - old_saved_len\n",
        "        if dice_saved_this_round > 0:\n",
        "            dice_to_roll = dice_to_roll - len(saved)\n",
        "    print()\n",
        "    print(\"You scored:\", get_score(saved))\n",
        "\n",
        "game_loop()"
      ]
    },
    {
      "cell_type": "markdown",
      "metadata": {
        "id": "UdMWf2u0R0G2"
      },
      "source": [
        "## Admin Stuff:\n",
        "- __Lab #13__ due Thursday, November 10th by 6:00 pm. __Make a Dice Game__, see [Day17](https://github.com/merriekay/CS65-Notes/blob/main/Day17_Make_a_Game.ipynb) for more details.\n",
        "    - To be judged by my game night friends, winner will get either something silly from the dollar store or a chance to 3D print something\n"
      ]
    }
  ],
  "metadata": {
    "celltoolbar": "Slideshow",
    "kernelspec": {
      "display_name": "Python 3",
      "language": "python",
      "name": "python3"
    },
    "language_info": {
      "codemirror_mode": {
        "name": "ipython",
        "version": 3
      },
      "file_extension": ".py",
      "mimetype": "text/x-python",
      "name": "python",
      "nbconvert_exporter": "python",
      "pygments_lexer": "ipython3",
      "version": "3.8.3"
    },
    "colab": {
      "provenance": [],
      "include_colab_link": true
    }
  },
  "nbformat": 4,
  "nbformat_minor": 0
}