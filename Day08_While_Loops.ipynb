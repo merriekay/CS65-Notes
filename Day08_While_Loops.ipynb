{
  "cells": [
    {
      "cell_type": "markdown",
      "metadata": {
        "id": "view-in-github",
        "colab_type": "text"
      },
      "source": [
        "<a href=\"https://colab.research.google.com/github/merriekay/CS65-Notes/blob/main/Day08_While_Loops.ipynb\" target=\"_parent\"><img src=\"https://colab.research.google.com/assets/colab-badge.svg\" alt=\"Open In Colab\"/></a>"
      ]
    },
    {
      "cell_type": "markdown",
      "metadata": {
        "id": "FBLC7AvlhsC2"
      },
      "source": [
        "# Day08 Notes: While Loops\n",
        "#### CS65: Introduction to Computer Science I\n",
        "Monday, October 3rd, 2022"
      ]
    },
    {
      "cell_type": "markdown",
      "metadata": {
        "id": "7BkOt-DJhsC6"
      },
      "source": [
        "## Admin Stuff\n",
        "\n",
        "You should be working on:\n",
        "- [Lab #6: List Practice](https://github.com/merriekay/CS65-Labs/blob/main/Lab06_ListPractice.ipynb), due **tonight by 11:59pm**.\n",
        "- [Lab #7: Loops and Lists](https://github.com/merriekay/CS65-Labs/blob/main/Lab07_LoopsLists.ipynb), due **Wednesday 10/5 by 11:59pm**"
      ]
    },
    {
      "cell_type": "markdown",
      "metadata": {
        "id": "Y9FuZdxkhsC6"
      },
      "source": [
        "## Quick Review:\n",
        "Last class we talked about **lists**\n",
        "\n",
        "| **Code**                     | **Operation**                                           |\n",
        "|:------------------------------|:---------------------------------------------------------|\n",
        "| `list_sum = sum(my_list)`    | Returns the sum of the elements in the list             |\n",
        "| `num_elements= len(my_list)` | returns number of elements in list                      |\n",
        "| `my_list[1] = 3`             | changes element of the list at index 1                  |\n",
        "| `del my_list[3]`             | deletes element of list at index 3                      |\n",
        "| `my_list.append(7)`          | adds the element 7 to the ened of the list              |\n",
        "| `my_list.pop(2)`             | removes the element at index 2 (also returns the value) |\n",
        "| `my_list.sort()`             | Sorts the list in ascending order                       |\n",
        "| `my_list.sort(reverse=True)` | Sorts the list in descending order                      |\n",
        "| `my_list.reverse()`          | reverses the list                                       |"
      ]
    },
    {
      "cell_type": "code",
      "execution_count": null,
      "metadata": {
        "id": "QmBFTd84hsC7"
      },
      "outputs": [],
      "source": [
        "# PollEverywhere Q:\n",
        "got_dragons = ['Drogon', 'Rhaegal', 'Viserion']\n",
        "got_dragons.append('Vermax')\n",
        "got_dragons.append('Vhagar')\n",
        "got_dragons.sort(reverse=True)\n",
        "got_dragons.remove('Viserion')\n",
        "got_dragons.pop(2)"
      ]
    },
    {
      "cell_type": "code",
      "execution_count": null,
      "metadata": {
        "id": "jiRqGdZIhsC8",
        "outputId": "650fa89e-40de-455e-cc40-b8d195ad18f5"
      },
      "outputs": [
        {
          "name": "stdout",
          "output_type": "stream",
          "text": [
            "What would you like to add to the list?DDP\n",
            "['apples', 'peanut butter', 'cereal', 'milk', 'DDP']\n"
          ]
        }
      ],
      "source": [
        "groceries = ['apples', 'peanut butter', 'cereal', 'milk']\n",
        "item = input('What would you like to add to the list?')\n",
        "groceries.append(item)\n",
        "print(groceries)"
      ]
    },
    {
      "cell_type": "markdown",
      "metadata": {
        "id": "uS-CKaV0hsC9"
      },
      "source": [
        "## List Slicing:\n",
        "Sometimes you want to work with not just one element, but multiple elements from a list. To do this, we use what is called __list slicing__.\n",
        "\n",
        "A __slice__ of a list is a span of items that are taken from a sequence.\n",
        "- list slicing syntax: `list[ start : end ] `\n",
        "- Span is a list containing copies of elements from `start` up to, but __not including__ `end`\n",
        "- if `start` is not specified, 0 is used for start index\n",
        "- if `end` is not specified, `len(list)` is used for the end index."
      ]
    },
    {
      "cell_type": "code",
      "execution_count": null,
      "metadata": {
        "id": "y8ts6yQbhsC-",
        "outputId": "e88a5ff9-2274-478e-ecc2-0ff39d20cd11"
      },
      "outputs": [
        {
          "name": "stdout",
          "output_type": "stream",
          "text": [
            "George\n",
            "['Thomas', 'Teddy']\n",
            "['Thomas', 'Teddy', 'Abe']\n",
            "['George']\n"
          ]
        }
      ],
      "source": [
        "presidents = [\"George\", \"Thomas\", \"Teddy\", \"Abe\"]\n",
        "print(presidents[0])\n",
        "print(presidents[1:3])\n",
        "print(presidents[1:])\n",
        "print(presidents[:1])"
      ]
    },
    {
      "cell_type": "markdown",
      "metadata": {
        "id": "Gya_vjEChsC_"
      },
      "source": [
        "## Repeating code\n",
        "\n",
        "\n",
        "Sometimes we want a section of our code to repeat multiple times. For this we use a __loop__. \n",
        "\n",
        "The first loop we're going to look at is a `while` loop. Its syntax is a lot like the `if` statement (but there's no else part):\n",
        "* keyword `while`\n",
        "* condition\n",
        "* colon `:`\n",
        "* indented block of code\n",
        "\n",
        "**Example**: remember this code we wrote for a simple guess-the-number game? What if we want the user to be able to keep guess until they get it right?"
      ]
    },
    {
      "cell_type": "code",
      "execution_count": null,
      "metadata": {
        "id": "YKjJbW3thsDA",
        "outputId": "30c4e49c-8d55-4809-ce42-0bff3e9bee38"
      },
      "outputs": [
        {
          "name": "stdout",
          "output_type": "stream",
          "text": [
            "Guess a number: 8\n",
            "Wrong!\n",
            "Guess a number: 3\n",
            "Wrong!\n",
            "Guess a number: 2\n",
            "Wrong!\n",
            "Guess a number: 1\n",
            "Wrong!\n",
            "Guess a number: 7\n",
            "That was right, good guess!\n"
          ]
        }
      ],
      "source": [
        "secret_number = 7\n",
        "guess = 0\n",
        "\n",
        "while guess != secret_number:\n",
        "    guess = int(input(\"Guess a number: \"))\n",
        "\n",
        "    if guess == secret_number:\n",
        "        print(\"That was right, good guess!\")\n",
        "    else:\n",
        "        print(\"Wrong!\")"
      ]
    },
    {
      "cell_type": "markdown",
      "metadata": {
        "id": "TwIfqRA6hsDA"
      },
      "source": [
        "## Input validation\n",
        "\n",
        "__input validation:__ making sure the user's input makes sense for the program\n",
        "\n",
        "We can use the same pattern as the guess-the-number loop to make an input-validation loop."
      ]
    },
    {
      "cell_type": "code",
      "execution_count": null,
      "metadata": {
        "id": "ylUDTQpchsDB",
        "outputId": "f434dea8-66d3-46cc-e5fc-500952a5165a"
      },
      "outputs": [
        {
          "name": "stdout",
          "output_type": "stream",
          "text": [
            "Soccer team registration form\n",
            "How many players on your team (minimum 11)? 1\n",
            "How many players on your team (minimum 11)? 2\n",
            "How many players on your team (minimum 11)? 3\n",
            "How many players on your team (minimum 11)? 4\n",
            "How many players on your team (minimum 11)? 8\n",
            "How many players on your team (minimum 11)? 10\n",
            "How many players on your team (minimum 11)? 11\n",
            "Registering team with 11 players...\n"
          ]
        }
      ],
      "source": [
        "print(\"Soccer team registration form\")\n",
        "num_players = 0\n",
        "\n",
        "while num_players < 11:\n",
        "    num_players = int(input(\"How many players on your team (minimum 11)? \"))\n",
        "    \n",
        "print(\"Registering team with\",num_players,\"players...\")"
      ]
    },
    {
      "cell_type": "markdown",
      "metadata": {
        "id": "Tu1ec5wxhsDB"
      },
      "source": [
        "## Counting\n",
        "\n",
        "Loops are good for counting things. A variable that is used to count something is called a  __counter__.\n",
        "\n",
        "Let's say we want to count how many guesses it took for the user to guess the number."
      ]
    },
    {
      "cell_type": "code",
      "execution_count": null,
      "metadata": {
        "id": "VGD-fwVRhsDC",
        "outputId": "a7dfb6eb-1179-492a-e580-83c6292f3407"
      },
      "outputs": [
        {
          "name": "stdout",
          "output_type": "stream",
          "text": [
            "Guess a number: 1\n",
            "Wrong!\n",
            "Guess a number: 2\n",
            "Wrong!\n",
            "Guess a number: 4\n",
            "Wrong!\n",
            "Guess a number: 8\n",
            "Wrong!\n",
            "Guess a number: 7\n",
            "That was right, good guess!\n",
            "That took 5 guesses\n"
          ]
        }
      ],
      "source": [
        "secret_number = 7\n",
        "guess = 0\n",
        "guess_counter = 0\n",
        "\n",
        "while guess != secret_number:\n",
        "    guess = int(input(\"Guess a number: \"))\n",
        "    guess_counter += 1 #this is the same as guess_counter = guess_counter + 1\n",
        "\n",
        "    if guess == secret_number:\n",
        "        print(\"That was right, good guess!\")\n",
        "    else:\n",
        "        print(\"Wrong!\")\n",
        "        \n",
        "print(\"That took\",guess_counter,\"guesses\")"
      ]
    },
    {
      "cell_type": "markdown",
      "metadata": {
        "id": "ITxZtUMIhsDC"
      },
      "source": [
        "## Thonny Debugger Demo\n",
        "\n",
        "The Thonny debugger is a helpful tool that allows you to step through your program and watch what's happening as it executes. \n",
        "\n",
        "Let's look at how to use it now.\n",
        "\n",
        "You should get in the habit of using the debugger to help identify logic errors in your code."
      ]
    },
    {
      "cell_type": "markdown",
      "metadata": {
        "id": "1sUSYZ0BhsDC"
      },
      "source": [
        "## Count-controlled loops\n",
        "\n",
        "You can even use counter variables to control how many times the loop will run."
      ]
    },
    {
      "cell_type": "code",
      "execution_count": null,
      "metadata": {
        "id": "_kuCGKZLhsDD",
        "outputId": "82022e89-3138-4411-9bfa-c15b1b37dafc"
      },
      "outputs": [
        {
          "name": "stdout",
          "output_type": "stream",
          "text": [
            "How far should we make the car drive?5\n",
            "Time 0\n",
            "  ______\n",
            " /|_||_\\`.__\n",
            "(   _    _ _\\\n",
            "=`-(_)--(_)-')\n",
            "Time 1\n",
            "\t  ______\n",
            "\t /|_||_\\`.__\n",
            "\t(   _    _ _\\\n",
            "\t=`-(_)--(_)-')\n",
            "Time 2\n",
            "\t\t  ______\n",
            "\t\t /|_||_\\`.__\n",
            "\t\t(   _    _ _\\\n",
            "\t\t=`-(_)--(_)-')\n",
            "Time 3\n",
            "\t\t\t  ______\n",
            "\t\t\t /|_||_\\`.__\n",
            "\t\t\t(   _    _ _\\\n",
            "\t\t\t=`-(_)--(_)-')\n",
            "Time 4\n",
            "\t\t\t\t  ______\n",
            "\t\t\t\t /|_||_\\`.__\n",
            "\t\t\t\t(   _    _ _\\\n",
            "\t\t\t\t=`-(_)--(_)-')\n"
          ]
        }
      ],
      "source": [
        "how_far = int(input(\"How far should we make the car drive?\"))\n",
        "counter = 0\n",
        "\n",
        "while counter < how_far:\n",
        "    print(\"Time\",counter)\n",
        "    print(\"\\t\"*counter+\"  ______\")\n",
        "    print(\"\\t\"*counter+\" /|_||_\\`.__\")\n",
        "    print(\"\\t\"*counter+\"(   _    _ _\\\\\")\n",
        "    print(\"\\t\"*counter+\"=`-(_)--(_)-')\")\n",
        "    counter += 1"
      ]
    },
    {
      "cell_type": "markdown",
      "metadata": {
        "id": "fJMKRrh0hsDD"
      },
      "source": [
        "## Accumulation\n",
        "\n",
        "An __accumulator__ variable keeps a running total of something. Loops are good for this too."
      ]
    },
    {
      "cell_type": "code",
      "execution_count": null,
      "metadata": {
        "id": "CKcNEOlmhsDD",
        "outputId": "31decd6d-bc7d-40d0-e760-4793386466f5"
      },
      "outputs": [
        {
          "name": "stdout",
          "output_type": "stream",
          "text": [
            "Enter item cost (0 to quit): 5.2\n",
            "Enter item cost (0 to quit): 3.2\n",
            "Enter item cost (0 to quit): 2.5\n",
            "Enter item cost (0 to quit): 0\n",
            "The total is 10.9\n"
          ]
        }
      ],
      "source": [
        "total_bill = 0.0 #accumulator\n",
        "item_cost = -1\n",
        "while item_cost != 0.0:\n",
        "    \n",
        "    item_cost = float(input(\"Enter item cost (0 to quit): \"))\n",
        "    \n",
        "    total_bill += item_cost #this is the same as total_bill = total_bill + item_cost\n",
        "\n",
        "print(\"The total is\",total_bill)"
      ]
    },
    {
      "cell_type": "markdown",
      "metadata": {
        "id": "HVYTiboKhsDE"
      },
      "source": [
        "## Tips for writing loops\n",
        "\n",
        "* Split it into 3 parts: Think about what needs to happen *before the loop*, *during each loop __iteration__*, and *after the loop*\n",
        "* Think about what condition should make the loop end\n",
        "* Make sure there is something that changes inside the loop that will eventually allow the loop's condition to be `False`\n",
        "* Set up loop control variables with initial values _before_ the loop\n",
        "\n",
        "Loops that don't have a way of terminating are called __infinite loops__. If you accidentally do this in Thonny, you can kill the program by hitting the STOP button."
      ]
    },
    {
      "cell_type": "code",
      "execution_count": null,
      "metadata": {
        "id": "1XfkIxkzhsDE"
      },
      "outputs": [],
      "source": [
        "counter = 0\n",
        "while counter < 10:\n",
        "    print(\"counter:\",counter)\n",
        "counter += 1"
      ]
    },
    {
      "cell_type": "markdown",
      "metadata": {
        "id": "oDkV8FQfhsDE"
      },
      "source": [
        "## Loops with Lists\n",
        "\n",
        "Loops are really good for doing things with lists. For example, you use the `len()` function to find out how many items are in a list and then create a count-controlled loop to go through each item in the list, using the counter as the list index. For example, this list will print out all of the values in the rainfall_amounts list."
      ]
    },
    {
      "cell_type": "code",
      "execution_count": null,
      "metadata": {
        "id": "o0EnjXDbhsDE",
        "outputId": "e64c3f3e-cf1b-42be-a1e1-e3e48ea78b7e"
      },
      "outputs": [
        {
          "name": "stdout",
          "output_type": "stream",
          "text": [
            "Day 0 had 0.0 inches of rainfall.\n",
            "Day 1 had 0.3 inches of rainfall.\n",
            "Day 2 had 0.71 inches of rainfall.\n",
            "Day 3 had 0.0 inches of rainfall.\n",
            "Day 4 had 0.32 inches of rainfall.\n",
            "Day 5 had 1.1 inches of rainfall.\n",
            "Day 6 had 0.4 inches of rainfall.\n"
          ]
        }
      ],
      "source": [
        "rainfall = [0.0, 0.3, 0.71, 0.0, 0.32, 1.1, 0.4]\n",
        "\n",
        "counter = 0\n",
        "while counter < len(rainfall):\n",
        "    print(\"Day\",counter,\"had\",rainfall[counter],\"inches of rainfall.\")\n",
        "    counter += 1"
      ]
    },
    {
      "cell_type": "markdown",
      "metadata": {
        "id": "pYbLtBBehsDF"
      },
      "source": [
        "## Lab #7 Walkthrough\n",
        "\n",
        "[Lab #7: Loops and Lists](https://github.com/merriekay/CS65-Labs/blob/main/Lab07_LoopsLists.ipynb), due Wednesday 10/5 by 11:59pm.\n",
        "\n",
        "Questions on L6 or L7?"
      ]
    },
    {
      "cell_type": "code",
      "execution_count": null,
      "metadata": {
        "id": "bWwC4nbAhsDF"
      },
      "outputs": [],
      "source": []
    }
  ],
  "metadata": {
    "celltoolbar": "Slideshow",
    "kernelspec": {
      "display_name": "Python 3",
      "language": "python",
      "name": "python3"
    },
    "language_info": {
      "codemirror_mode": {
        "name": "ipython",
        "version": 3
      },
      "file_extension": ".py",
      "mimetype": "text/x-python",
      "name": "python",
      "nbconvert_exporter": "python",
      "pygments_lexer": "ipython3",
      "version": "3.8.3"
    },
    "colab": {
      "provenance": [],
      "include_colab_link": true
    }
  },
  "nbformat": 4,
  "nbformat_minor": 0
}