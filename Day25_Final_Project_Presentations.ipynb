{
  "cells": [
    {
      "cell_type": "markdown",
      "metadata": {
        "id": "view-in-github",
        "colab_type": "text"
      },
      "source": [
        "<a href=\"https://colab.research.google.com/github/merriekay/CS65-Notes/blob/main/Day25_Final_Project_Presentations.ipynb\" target=\"_parent\"><img src=\"https://colab.research.google.com/assets/colab-badge.svg\" alt=\"Open In Colab\"/></a>"
      ]
    },
    {
      "cell_type": "markdown",
      "metadata": {
        "id": "CpV4en8PUWKX"
      },
      "source": [
        "# Day25: Final Project Presentations\n",
        "#### CS65: Introduction to Computer Science I\n",
        "\n",
        "__Date__: Wednesday, December 7th, 2022"
      ]
    },
    {
      "cell_type": "markdown",
      "metadata": {
        "id": "5btopO-LUWKZ"
      },
      "source": [
        "## Attendance Question:"
      ]
    },
    {
      "cell_type": "markdown",
      "metadata": {
        "id": "E9MBayZLUWKa"
      },
      "source": [
        "## Admin Stuff\n",
        "\n",
        "- [Course Evaluations](https://drake.qualtrics.com/jfe/form/SV_5C7sDpd4dNygrxc):\n",
        "    - URL: https://drake.qualtrics.com/jfe/form/SV_5C7sDpd4dNygrxc \n",
        "\n",
        "    - If you didn't submit your course evals on Monday, please take some time during class today to fill it out. "
      ]
    },
    {
      "cell_type": "markdown",
      "metadata": {
        "id": "zSmuWUu6UWKa"
      },
      "source": [
        "- __Quiz #4__: I completely forgot to release this on Monday--that's my bad. I have it set to release today at 12:15pm. It will be due Monday, December 12th, by 11:59pm.\n",
        "    - This quiz is _optional_. It will only help your grade--if you take it and it would lower your grade, I will not include it in your final grade. However, if you take it and it raises your grade, I will include it in your final grade."
      ]
    },
    {
      "cell_type": "markdown",
      "metadata": {
        "id": "13OfMGvLUWKb"
      },
      "source": [
        "- I will have __final grade estimates__ (not including Q4) ready for you tomorrow. I will send an email once I post them to remind you to take a look. Please double check and make sure everything looks good, and let me know asap if anything looks funky."
      ]
    },
    {
      "cell_type": "markdown",
      "metadata": {
        "id": "VBLdRNpUUWKb"
      },
      "source": [
        "## Final Project Presentations\n",
        "\n",
        "__Details__:\n",
        "- Everyone in class will be asked to join the [Zoom session](https://drake-edu.zoom.us/j/83479615507?pwd=M0czTGptbFBzVmw5ZFl3c2lXYmRJUT09) (even though we'll all be in the same room)\n",
        "- When it is your turn to present, you'll be asked to share your screen and give up a **quick** walkthrough of your project. Mainly a demo. \n",
        "- I'll use the participation cards to select the order, and will let you know the next two people up so that you can be ready to quickly share your screen and demo your project.\n",
        "- use your own microphone so everyone can hear, but please mute as soon as you're done presenting.\n",
        "- groups only need to present once \n",
        "- try to keep it short and sweet\n",
        "\n",
        "\n"
      ]
    },
    {
      "cell_type": "markdown",
      "metadata": {
        "id": "gJO97m2-UWKb"
      },
      "source": [
        "## 🖱Clicking a Button"
      ]
    },
    {
      "cell_type": "code",
      "execution_count": null,
      "metadata": {
        "id": "OH_IzJyVUWKc"
      },
      "outputs": [],
      "source": [
        "#mouse click\n",
        "from graphics import *\n",
        "\n",
        "win = GraphWin(\"clicking a button\", 500, 500)\n",
        "win.setCoords(0,0,1,1)\n",
        "\n",
        "#start by drawing a button\n",
        "rect = Rectangle( Point(0.2,0.2),Point(0.6, 0.4))\n",
        "rect.setFill('white')\n",
        "rect.draw(win)\n",
        "\n",
        "# and adding some text, we call this a \"Call to Action\"\n",
        "cta = Text(Point(0.4, 0.3), \"Click me!\")\n",
        "cta.setSize(20)\n",
        "cta.draw(win)\n",
        "\n",
        "#now let's get a click and print it to the console\n",
        "click = win.getMouse()\n",
        "print(click)\n",
        "\n",
        "#get coordinates of click\n",
        "click_x = click.getX()\n",
        "click_y = click.getY()\n",
        "\n",
        "#get coordinates of button\n",
        "p1x = rect.getP1().getX()\n",
        "p1y = rect.getP1().getY()\n",
        "p2x = rect.getP2().getX()\n",
        "p2y = rect.getP2().getY()\n",
        "\n",
        "if click_x > p1x and click_x < p2x:     #it's within the x coordinates of the button\n",
        "    if click_y > p1y and click_y < p2y: #it's within the y coordinates of the button\n",
        "        rect.setFill('cyan') #change the color so we can see we clicked it\n",
        "        win.update()  #this updates the window\n",
        "        print(\"button clicked\")\n"
      ]
    },
    {
      "cell_type": "markdown",
      "metadata": {
        "id": "GhlGaaqRUWKd"
      },
      "source": [
        "## 🧹 Clearing the Window\n",
        "\n",
        "Do you want to start with a fresh and squeaky clean window? Here's some code to help you accomplish this.\n"
      ]
    },
    {
      "cell_type": "code",
      "execution_count": null,
      "metadata": {
        "id": "FtwquE1uUWKe"
      },
      "outputs": [],
      "source": [
        "def clear(win):\n",
        "    \"\"\"undraws all of the items that are drawn to a window\"\"\"\n",
        "    for item in win.items[:]: #want to only undraw some? then change the colon to the slice you want\n",
        "        item.undraw()\n",
        "    win.update() #this updates the window"
      ]
    }
  ],
  "metadata": {
    "celltoolbar": "Slideshow",
    "kernelspec": {
      "display_name": "Python 3",
      "language": "python",
      "name": "python3"
    },
    "language_info": {
      "codemirror_mode": {
        "name": "ipython",
        "version": 3
      },
      "file_extension": ".py",
      "mimetype": "text/x-python",
      "name": "python",
      "nbconvert_exporter": "python",
      "pygments_lexer": "ipython3",
      "version": "3.8.3"
    },
    "colab": {
      "provenance": [],
      "include_colab_link": true
    }
  },
  "nbformat": 4,
  "nbformat_minor": 0
}