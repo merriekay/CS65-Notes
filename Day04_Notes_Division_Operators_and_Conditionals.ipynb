{
  "cells": [
    {
      "cell_type": "markdown",
      "metadata": {
        "id": "view-in-github",
        "colab_type": "text"
      },
      "source": [
        "<a href=\"https://colab.research.google.com/github/merriekay/CS65-Notes/blob/main/Day04_Notes_Division_Operators_and_Conditionals.ipynb\" target=\"_parent\"><img src=\"https://colab.research.google.com/assets/colab-badge.svg\" alt=\"Open In Colab\"/></a>"
      ]
    },
    {
      "cell_type": "markdown",
      "metadata": {
        "id": "0K0Qf8eKiC15"
      },
      "source": [
        "# Day04 Notes: \n",
        "#### CS65: Introduction to Computer Science I\n",
        "## Division Operators and Conditionals\n"
      ]
    },
    {
      "cell_type": "markdown",
      "metadata": {
        "id": "j9MfOsy_iC16"
      },
      "source": [
        "## Announcements:"
      ]
    },
    {
      "cell_type": "markdown",
      "metadata": {
        "id": "Z8wEaHN2iC16"
      },
      "source": [
        "### Professional Development:\n",
        "- [Wellmark Internship (first years)](https://drake.hosted.panopto.com/Panopto/Pages/Viewer.aspx?id=bdef451f-91a0-479c-a90c-aabd00d8ed0d) [3 mins]"
      ]
    },
    {
      "cell_type": "markdown",
      "metadata": {
        "id": "dZfR4loJiC17"
      },
      "source": [
        "- Business & Technology Career Fair\n",
        "    - [Register for Handshake](https://app.joinhandshake.com/login) by tomorrow 9/15 \n",
        "    - Friday, September 16th 10-noon Olmsted 2nd floor\n",
        "    - Make your resume __visible__ on Handshake "
      ]
    },
    {
      "cell_type": "markdown",
      "metadata": {
        "id": "bXKOtTWriC17"
      },
      "source": [
        "### Grading\n",
        "- Lab #1 Grades Posted to Bb\n",
        "- Lab #2 Grades Posted to Bb"
      ]
    },
    {
      "cell_type": "markdown",
      "metadata": {
        "id": "BLi7Tt-MiC17"
      },
      "source": [
        "### You should be working on:\n",
        "- [Lab #3 PayCalculator](https://github.com/mooreCS65/CS65-F22-Labs/blob/main/Lab03_PayCalculator.ipynb) is __due tonight by 11:59pm__\n",
        "- [Lab #4 is released today](https://github.com/mooreCS65/CS65-F22-Labs/blob/main/Lab04_DivisionModulusConditional.ipynb), __due Monday by 11:59pm__"
      ]
    },
    {
      "cell_type": "markdown",
      "metadata": {
        "id": "xDZa66btiC17"
      },
      "source": [
        "## Quick Review\n",
        "\n",
        "Last class we talked about:\n",
        "- user input\n",
        "- type conversions\n",
        "- importing functions and modules\n",
        "\n",
        "### Review Q1, PollEverywhere"
      ]
    },
    {
      "cell_type": "code",
      "execution_count": null,
      "metadata": {
        "id": "rc9gbGsviC18"
      },
      "outputs": [],
      "source": [
        "base = int(input(\"base (cm): \"))\n",
        "height = int(input(\"height (cm): \"))\n",
        "area = 0.5 * base * height\n",
        "print(\"The area of the triangle is: \", area)"
      ]
    },
    {
      "cell_type": "markdown",
      "metadata": {
        "id": "x1Gi4xF5iC18"
      },
      "source": [
        "### Review Q2, PollEverywhere\n",
        "In the example below what is the:\n",
        "- module\n",
        "- function\n",
        "- argument"
      ]
    },
    {
      "cell_type": "code",
      "execution_count": null,
      "metadata": {
        "id": "eKq_FW_OiC19",
        "outputId": "09dcd058-dbc7-4afb-9b03-661abbfca85e"
      },
      "outputs": [
        {
          "name": "stdout",
          "output_type": "stream",
          "text": [
            "5 3\n"
          ]
        }
      ],
      "source": [
        "import random\n",
        "dice_roll_1 = random.randint(1,6)\n",
        "dice_roll_2 = random.randint(1,6)\n",
        "print(dice_roll_1, dice_roll_2)"
      ]
    },
    {
      "cell_type": "markdown",
      "metadata": {
        "id": "vtqrRButiC1-"
      },
      "source": [
        "## Lab #2 Walkthrough\n",
        "Your task is to write a program which computes __the fraction of the year that you will spend working on Python for this course__. \n",
        "\n",
        "To do that, we'll make the following assumptions:\n",
        "\n",
        "- The \"time spent on Python\" is defined as the amount of time that it is recommended for students to put into a course.\n",
        "- The recommended time to spend on a course is 3 hours outside of class for every hour inside class.\n",
        "- A normal semester includes 14 weeks, with 150 minutes of in-class time each week.\n",
        "- You can assume the year is a non-leap year, with 365 days."
      ]
    },
    {
      "cell_type": "code",
      "execution_count": null,
      "metadata": {
        "id": "vBYtxh8YiC1-"
      },
      "outputs": [],
      "source": [
        "# Let's start on the whiteboard, and write some pseudocode\n",
        "\n",
        "\n",
        "\n",
        "\n",
        "\n",
        "\n"
      ]
    },
    {
      "cell_type": "markdown",
      "metadata": {
        "id": "gGeu1d4OiC1-"
      },
      "source": [
        "# Division Operators"
      ]
    },
    {
      "cell_type": "markdown",
      "metadata": {
        "id": "yOnfD0H1iC1-"
      },
      "source": [
        "## Floating-point division operator\n",
        "\n",
        "The `/` operator will always give you a _float_ as a result."
      ]
    },
    {
      "cell_type": "code",
      "execution_count": null,
      "metadata": {
        "id": "8yxO4jIuiC1_"
      },
      "outputs": [],
      "source": [
        "320 / 20"
      ]
    },
    {
      "cell_type": "code",
      "execution_count": null,
      "metadata": {
        "id": "D8lSZNbeiC1_"
      },
      "outputs": [],
      "source": [
        "403.0 / 24.0"
      ]
    },
    {
      "cell_type": "markdown",
      "metadata": {
        "id": "Y7UHGmtBiC1_"
      },
      "source": [
        "## Integer division operators\n",
        "\n",
        "Sometimes, instead of getting the full floating-point expansion, you might want the quotient and remainder separately. \n",
        "\n",
        "![image.png](data:image/png;base64,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)\n",
        "\n",
        "\n",
        "The `//` is the _floor_ division operator - it gives you the quotient and _ignores_ and fractional/remainder part.\n"
      ]
    },
    {
      "cell_type": "code",
      "execution_count": null,
      "metadata": {
        "id": "GP6kJY8ViC1_"
      },
      "outputs": [],
      "source": [
        "320 // 20"
      ]
    },
    {
      "cell_type": "code",
      "execution_count": null,
      "metadata": {
        "id": "5lybxjNOiC1_"
      },
      "outputs": [],
      "source": [
        "403 // 24"
      ]
    },
    {
      "cell_type": "markdown",
      "metadata": {
        "id": "_J-DBdIPiC1_"
      },
      "source": [
        "## Modulo operator\n",
        "\n",
        "The `%` operator is the __modulo__ operator - another word for remainder - it will ignore the quotient and just give you the remainder.\n",
        "\n",
        "![image.png](data:image/png;base64,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)"
      ]
    },
    {
      "cell_type": "code",
      "execution_count": null,
      "metadata": {
        "id": "_k6t6QoXiC2A"
      },
      "outputs": [],
      "source": [
        "403 // 24"
      ]
    },
    {
      "cell_type": "code",
      "execution_count": null,
      "metadata": {
        "id": "s101RW8niC2A"
      },
      "outputs": [],
      "source": [
        "403 % 24"
      ]
    },
    {
      "cell_type": "markdown",
      "metadata": {
        "id": "wwE7mQLHiC2A"
      },
      "source": [
        "## Group Exercises\n",
        "\n",
        "Try each of the following in your interactive shell. What pattern do you notice?"
      ]
    },
    {
      "cell_type": "code",
      "execution_count": null,
      "metadata": {
        "id": "VvK2Xw1diC2A"
      },
      "outputs": [],
      "source": [
        "0 // 2\n",
        "1 // 2\n",
        "3 // 2\n",
        "4 // 2\n",
        "5 // 2\n",
        "6 // 2\n",
        "20 // 5\n",
        "21 // 5\n",
        "22 // 5\n",
        "23 // 5\n",
        "24 // 5\n",
        "25 // 5"
      ]
    },
    {
      "cell_type": "markdown",
      "metadata": {
        "id": "egZfyLUKiC2A"
      },
      "source": [
        "Try each of the following in your interactive shell. What pattern do you notice?"
      ]
    },
    {
      "cell_type": "code",
      "execution_count": null,
      "metadata": {
        "id": "8K2HONPsiC2A"
      },
      "outputs": [],
      "source": [
        "0 % 2\n",
        "1 % 2\n",
        "3 % 2\n",
        "4 % 2\n",
        "5 % 2\n",
        "6 % 2\n",
        "20 % 5\n",
        "21 % 5\n",
        "22 % 5\n",
        "23 % 5\n",
        "24 % 5\n",
        "25 % 5"
      ]
    },
    {
      "cell_type": "markdown",
      "metadata": {
        "id": "R2M1xFEbiC2B"
      },
      "source": [
        "Write down in your notes:\n",
        "* What is the difference between `//` and `/`?\n",
        "* What is the difference between `//` and `%`?\n",
        "\n",
        "Try each of the following in your interactive shell."
      ]
    },
    {
      "cell_type": "code",
      "execution_count": null,
      "metadata": {
        "id": "JExLpjaeiC2B",
        "outputId": "f3323123-27f3-4639-9856-769b1b9db39d"
      },
      "outputs": [
        {
          "name": "stdout",
          "output_type": "stream",
          "text": [
            "4.0\n"
          ]
        },
        {
          "ename": "ZeroDivisionError",
          "evalue": "division by zero",
          "output_type": "error",
          "traceback": [
            "\u001b[0;31m---------------------------------------------------------------------------\u001b[0m",
            "\u001b[0;31mZeroDivisionError\u001b[0m                         Traceback (most recent call last)",
            "\u001b[0;32m<ipython-input-14-5c56365b62c3>\u001b[0m in \u001b[0;36m<module>\u001b[0;34m\u001b[0m\n\u001b[1;32m      1\u001b[0m \u001b[0mprint\u001b[0m\u001b[0;34m(\u001b[0m\u001b[0;36m23\u001b[0m \u001b[0;34m//\u001b[0m \u001b[0;36m5.50\u001b[0m\u001b[0;34m)\u001b[0m\u001b[0;34m\u001b[0m\u001b[0;34m\u001b[0m\u001b[0m\n\u001b[0;32m----> 2\u001b[0;31m \u001b[0;36m23\u001b[0m \u001b[0;34m/\u001b[0m \u001b[0;36m0\u001b[0m\u001b[0;34m\u001b[0m\u001b[0;34m\u001b[0m\u001b[0m\n\u001b[0m",
            "\u001b[0;31mZeroDivisionError\u001b[0m: division by zero"
          ]
        }
      ],
      "source": [
        "print(23 // 5.50)\n",
        "23 / 0"
      ]
    },
    {
      "cell_type": "markdown",
      "metadata": {
        "id": "Jh5xCezyiC2B"
      },
      "source": [
        "Write down in your notes:\n",
        "* What happens when you use a float with the floor division operator?\n",
        "* What happens in Python if you try to divide by 0?"
      ]
    },
    {
      "cell_type": "markdown",
      "metadata": {
        "id": "T9SoBhJ1iC2B"
      },
      "source": [
        "## When is this useful?\n",
        "\n",
        "__Example:__ Let's say I'm programming a super computer with 64 processors to perform 1500 variations of a simulation for a physics experiment, and each of the simulations takes about the same amount of time to run. How many simulations should be given to each processor?"
      ]
    },
    {
      "cell_type": "code",
      "execution_count": null,
      "metadata": {
        "id": "7B92DE52iC2B",
        "outputId": "e9aacaef-9f04-4110-9773-941421c16114"
      },
      "outputs": [
        {
          "name": "stdout",
          "output_type": "stream",
          "text": [
            "Each processor should get 23 simulations\n",
            "and 28 processors will each get one extra\n"
          ]
        }
      ],
      "source": [
        "num_processors = 64\n",
        "num_simulations = 1500\n",
        "simulations_per_processor = num_simulations // num_processors\n",
        "leftover_simulations = num_simulations % num_processors\n",
        "print(\"Each processor should get\",simulations_per_processor,\"simulations\")\n",
        "print(\"and\",leftover_simulations,\"processors will each get one extra\")"
      ]
    },
    {
      "cell_type": "markdown",
      "metadata": {
        "id": "rnPpQAe4iC2C"
      },
      "source": [
        "Modulo is also good if you need to check if a number is even or odd"
      ]
    },
    {
      "cell_type": "code",
      "execution_count": null,
      "metadata": {
        "id": "Ee21MrWyiC2C",
        "outputId": "a2d0d4c6-221f-4768-e873-9e73d82aff8e"
      },
      "outputs": [
        {
          "data": {
            "text/plain": [
              "1"
            ]
          },
          "execution_count": 16,
          "metadata": {},
          "output_type": "execute_result"
        }
      ],
      "source": [
        "253 % 2 #odd numbers have a remainder of 1 when divided by 2"
      ]
    },
    {
      "cell_type": "code",
      "execution_count": null,
      "metadata": {
        "id": "D7HhMtw9iC2C",
        "outputId": "e9ce0d58-e540-4c85-d454-555966eb5563"
      },
      "outputs": [
        {
          "data": {
            "text/plain": [
              "0"
            ]
          },
          "execution_count": 17,
          "metadata": {},
          "output_type": "execute_result"
        }
      ],
      "source": [
        "254 % 2 #even numbers have a remainder of 0 when divided by 2"
      ]
    },
    {
      "cell_type": "markdown",
      "metadata": {
        "id": "onN9nAnXiC2C"
      },
      "source": [
        "Or, if you want to check if a number is divisible by 4 - say you're checking to see if the year is a presidential election year, Olympic year, leap year, etc., you can see if the result is 0"
      ]
    },
    {
      "cell_type": "code",
      "execution_count": null,
      "metadata": {
        "id": "jr5sjweKiC2C",
        "outputId": "60816b6a-d9cf-473a-d7cc-3aac894fc1d4"
      },
      "outputs": [
        {
          "data": {
            "text/plain": [
              "0"
            ]
          },
          "execution_count": 18,
          "metadata": {},
          "output_type": "execute_result"
        }
      ],
      "source": [
        "2024 % 4"
      ]
    },
    {
      "cell_type": "markdown",
      "metadata": {
        "id": "hC3Kvvv9iC2D"
      },
      "source": [
        "# Conditionals\n",
        "#### CS 65: Introduction to Computer Science I"
      ]
    },
    {
      "cell_type": "markdown",
      "metadata": {
        "id": "84nxOx8miC2D"
      },
      "source": [
        "## Conditional execution of code\n",
        "\n",
        "Sometimes, you want your program to do something different based on different conditions. These are called __conditional statements__.\n",
        "\n",
        "For example, consider the pay calculator. If this employer offers 50% extra pay for overtime (i.e., worked > 40 hours), how could we account for that?"
      ]
    },
    {
      "cell_type": "code",
      "execution_count": null,
      "metadata": {
        "id": "CE05EVkViC2D",
        "outputId": "6f5e75d8-205f-42fd-b7bd-a0a299c09ff0"
      },
      "outputs": [
        {
          "name": "stdout",
          "output_type": "stream",
          "text": [
            "Enter your hourly wage: 9.25\n",
            "Enter your number of hours worked: 40\n",
            "Total pay:  370.0\n"
          ]
        }
      ],
      "source": [
        "wage = float(input(\"Enter your hourly wage: \"))\n",
        "hours = float(input(\"Enter your number of hours worked: \"))\n",
        "\n",
        "#option 1: only correct if they didn't work overtime\n",
        "#pay = wage*hours\n",
        "\n",
        "#option 2: only correct if they worked overtime\n",
        "overtime_hours = hours-40\n",
        "pay = (wage*40) + (wage*1.5*overtime_hours)\n",
        "\n",
        "print(\"Total pay: \",pay)"
      ]
    },
    {
      "cell_type": "markdown",
      "metadata": {
        "id": "BMVO8D42iC2D"
      },
      "source": [
        "## Syntax for `if` statements\n",
        "\n",
        "* keyword `if`\n",
        "* a condition\n",
        "* colon `:`\n",
        "* indented _block_ of code"
      ]
    },
    {
      "cell_type": "code",
      "execution_count": null,
      "metadata": {
        "scrolled": true,
        "id": "t4HkwwksiC2D",
        "outputId": "ba050ed1-a4a5-43a0-efc1-7109d15d2af7"
      },
      "outputs": [
        {
          "name": "stdout",
          "output_type": "stream",
          "text": [
            "What is your age? 12\n",
            "Your total bill is 35.63\n"
          ]
        }
      ],
      "source": [
        "total_bill = 35.63\n",
        "age = float(input(\"What is your age? \"))\n",
        "\n",
        "if age > 65:   # notice the 'if' keyword and the colon ':'\n",
        "    print(\"Applying 10% senior discount\")\n",
        "    total_bill = total_bill * 0.9 \n",
        "    #any indented code is only runs\n",
        "    #when the condition is True\n",
        "    \n",
        "#un-indented code runs no matter what\n",
        "print(\"Your total bill is\", total_bill)"
      ]
    },
    {
      "cell_type": "markdown",
      "metadata": {
        "id": "hNJYfQl-iC2E"
      },
      "source": [
        "## Syntax for `if-else` statements\n",
        "\n",
        "* keyword `if`\n",
        "* a condition\n",
        "* colon `:`\n",
        "* indented block of code\n",
        "* keyword `else`\n",
        "* colon `:`\n",
        "* indented block of code"
      ]
    },
    {
      "cell_type": "code",
      "execution_count": null,
      "metadata": {
        "id": "VIEnNi-ziC2E",
        "outputId": "10a36b4c-50c2-42b3-c6f0-4c7d5edfa6b8"
      },
      "outputs": [
        {
          "name": "stdout",
          "output_type": "stream",
          "text": [
            "Enter your height in inches: 60\n",
            "You are tall enough for this ride.\n"
          ]
        }
      ],
      "source": [
        "height = int(input(\"Enter your height in inches: \"))\n",
        "\n",
        "if height < 60: # notice the 'if' keyword and the colon ':'\n",
        "    print(\"You are not tall enough for this ride.\")\n",
        "    #indented block of code that runs if the condition is true\n",
        "    \n",
        "else: # notice the 'else' keyword and the colon ':'\n",
        "    print(\"You are tall enough for this ride.\")\n",
        "    #indented block of code that runs if the condition is not true\n",
        "\n",
        "#notice that the 'if' and 'else' clauses match indentation"
      ]
    },
    {
      "cell_type": "markdown",
      "metadata": {
        "id": "QMJf7OYeiC2E"
      },
      "source": [
        "## Group Exercise\n",
        "\n",
        "How could we make this work using an `if-else`?"
      ]
    },
    {
      "cell_type": "code",
      "execution_count": null,
      "metadata": {
        "id": "_MmJSE_liC2E",
        "outputId": "3de6d715-d1fc-431b-9869-d65ca5bb2f5a"
      },
      "outputs": [
        {
          "name": "stdout",
          "output_type": "stream",
          "text": [
            "Enter your hourly wage: 9.25\n",
            "Enter your number of hours worked: 25\n",
            "Total pay:  231.25\n"
          ]
        }
      ],
      "source": [
        "wage = float(input(\"Enter your hourly wage: \"))\n",
        "hours = float(input(\"Enter your number of hours worked: \"))\n",
        "\n",
        "#option 1: only correct if they didn't work overtime\n",
        "pay = wage*hours\n",
        "\n",
        "#option 2: only correct if they worked overtime\n",
        "#overtime_hours = hours-40\n",
        "#pay = (wage*40) + (wage*1.5*overtime_hours)\n",
        "\n",
        "print(\"Total pay: \",pay)"
      ]
    },
    {
      "cell_type": "markdown",
      "metadata": {
        "id": "NxYVif-giC2F"
      },
      "source": [
        "## Boolean type\n",
        "\n",
        "The __Boolean__ type has two possible values: `True` and `False`\n",
        "\n",
        "`type()` of a Boolean variable will read as `bool`\n"
      ]
    },
    {
      "cell_type": "code",
      "execution_count": null,
      "metadata": {
        "id": "u6oqd6lMiC2F",
        "outputId": "8a1adcc8-a1e1-45d6-db63-7f3cc948513c"
      },
      "outputs": [
        {
          "name": "stdout",
          "output_type": "stream",
          "text": [
            "The condition it True!\n",
            "<class 'bool'>\n"
          ]
        }
      ],
      "source": [
        "bool_variable = True\n",
        "\n",
        "if bool_variable:\n",
        "    print(\"The condition it True!\")\n",
        "    print(type(bool_variable))"
      ]
    },
    {
      "cell_type": "markdown",
      "metadata": {
        "id": "ibb_W858iC2F"
      },
      "source": [
        "The _condition_ for an `if`/`if-else` statement can be anything that results in a Boolean. An expression, like `height < 60` that results in a Boolean is called a __Boolean expression__."
      ]
    },
    {
      "cell_type": "markdown",
      "metadata": {
        "id": "yx5-hlrSiC2F"
      },
      "source": [
        "## Some Boolean operators\n",
        "\n",
        "* `<` less than\n",
        "* `>` greater than\n",
        "* `<=` less than or equal\n",
        "    - note there is no $\\leq$ button on your keyboard\n",
        "* `>=` greater than or equal\n",
        "* `==` equal (comparison)\n",
        "    - note that `=` is used for assignment, they're different operators, don't confuse them!\n",
        "* `!=` not equal"
      ]
    },
    {
      "cell_type": "code",
      "execution_count": null,
      "metadata": {
        "id": "hx-3-H_2iC2F",
        "outputId": "f7c83e5d-8a99-4b2c-8207-48992e985dc7"
      },
      "outputs": [
        {
          "name": "stdout",
          "output_type": "stream",
          "text": [
            "Guess a number: 1\n",
            "Wrong!\n"
          ]
        }
      ],
      "source": [
        "secret_number = 7\n",
        "guess = int(input(\"Guess a number: \"))\n",
        "\n",
        "if guess == secret_number:\n",
        "    print(\"That was right, good guess!\")\n",
        "else:\n",
        "    print(\"Wrong!\")"
      ]
    },
    {
      "cell_type": "code",
      "execution_count": null,
      "metadata": {
        "id": "COD6OmUxiC2G",
        "outputId": "7ef2e7e1-b244-47c1-ac52-489048214af3"
      },
      "outputs": [
        {
          "name": "stdout",
          "output_type": "stream",
          "text": [
            "Enter number of people at the table: 4\n",
            "Was this a business lunch for a non-profit organization? yes\n",
            "Your total is 121.5\n"
          ]
        }
      ],
      "source": [
        "total_bill = 121.50\n",
        "party_size = int(input(\"Enter number of people at the table: \"))\n",
        "non_profit = input(\"Was this a business lunch for a non-profit organization? \")\n",
        " \n",
        "if non_profit != \"yes\":\n",
        "    print(\"Calculating 6% sales tax.\")\n",
        "    total_bill = total_bill * 1.06\n",
        "    \n",
        "if party_size >= 8:\n",
        "    print(\"Automatically adding 15% gratuity.\")\n",
        "    total_bill = total_bill * 1.15\n",
        "    \n",
        "print(\"Your total is\",total_bill)"
      ]
    },
    {
      "cell_type": "markdown",
      "metadata": {
        "id": "ZDSQezoMiC2G"
      },
      "source": [
        "### You should be working on:\n",
        "- [Lab #3 PayCalculator](https://github.com/mooreCS65/CS65-F22-Labs/blob/main/Lab03_PayCalculator.ipynb) is __due tonight by 11:59pm__\n",
        "- [Lab #4 is released today](https://github.com/mooreCS65/CS65-F22-Labs/blob/main/Lab04_DivisionModulusConditional.ipynb), __due Monday by 11:59pm__"
      ]
    },
    {
      "cell_type": "markdown",
      "metadata": {
        "id": "-l5-_8mXiC2G"
      },
      "source": []
    }
  ],
  "metadata": {
    "celltoolbar": "Slideshow",
    "kernelspec": {
      "display_name": "Python 3",
      "language": "python",
      "name": "python3"
    },
    "language_info": {
      "codemirror_mode": {
        "name": "ipython",
        "version": 3
      },
      "file_extension": ".py",
      "mimetype": "text/x-python",
      "name": "python",
      "nbconvert_exporter": "python",
      "pygments_lexer": "ipython3",
      "version": "3.8.3"
    },
    "colab": {
      "provenance": [],
      "toc_visible": true,
      "include_colab_link": true
    }
  },
  "nbformat": 4,
  "nbformat_minor": 0
}