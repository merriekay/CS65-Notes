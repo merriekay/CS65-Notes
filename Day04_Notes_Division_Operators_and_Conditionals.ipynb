{
  "cells": [
    {
      "cell_type": "markdown",
      "metadata": {
        "id": "view-in-github",
        "colab_type": "text"
      },
      "source": [
        "<a href=\"https://colab.research.google.com/github/merriekay/CS65-Notes/blob/main/Day04_Notes_Division_Operators_and_Conditionals.ipynb\" target=\"_parent\"><img src=\"https://colab.research.google.com/assets/colab-badge.svg\" alt=\"Open In Colab\"/></a>"
      ]
    },
    {
      "cell_type": "markdown",
      "metadata": {
        "id": "0K0Qf8eKiC15"
      },
      "source": [
        "# Day04 Notes: \n",
        "#### CS65: Introduction to Computer Science I\n",
        "## Division Operators and Conditionals\n"
      ]
    },
    {
      "cell_type": "markdown",
      "metadata": {
        "id": "j9MfOsy_iC16"
      },
      "source": [
        "## Announcements:"
      ]
    },
    {
      "cell_type": "markdown",
      "metadata": {
        "id": "Z8wEaHN2iC16"
      },
      "source": [
        "### Professional Development:\n",
        "- [Wellmark Internship (first years)](https://drake.hosted.panopto.com/Panopto/Pages/Viewer.aspx?id=bdef451f-91a0-479c-a90c-aabd00d8ed0d) [3 mins]"
      ]
    },
    {
      "cell_type": "markdown",
      "metadata": {
        "id": "dZfR4loJiC17"
      },
      "source": [
        "- Business & Technology Career Fair\n",
        "    - [Register for Handshake](https://app.joinhandshake.com/login) by tomorrow 9/15 \n",
        "    - Friday, September 16th 10-noon Olmsted 2nd floor\n",
        "    - Make your resume __visible__ on Handshake "
      ]
    },
    {
      "cell_type": "markdown",
      "metadata": {
        "id": "bXKOtTWriC17"
      },
      "source": [
        "### Grading\n",
        "- Lab #1 Grades Posted to Bb\n",
        "- Lab #2 Grades Posted to Bb"
      ]
    },
    {
      "cell_type": "markdown",
      "metadata": {
        "id": "BLi7Tt-MiC17"
      },
      "source": [
        "### You should be working on:\n",
        "- [Lab #3 PayCalculator](https://github.com/mooreCS65/CS65-F22-Labs/blob/main/Lab03_PayCalculator.ipynb) is __due tonight by 11:59pm__\n",
        "- [Lab #4 is released today](https://github.com/mooreCS65/CS65-F22-Labs/blob/main/Lab04_DivisionModulusConditional.ipynb), __due Monday by 11:59pm__"
      ]
    },
    {
      "cell_type": "markdown",
      "metadata": {
        "id": "xDZa66btiC17"
      },
      "source": [
        "## Quick Review\n",
        "\n",
        "Last class we talked about:\n",
        "- user input\n",
        "- type conversions\n",
        "- importing functions and modules\n",
        "\n",
        "### Review Q1, PollEverywhere"
      ]
    },
    {
      "cell_type": "code",
      "execution_count": null,
      "metadata": {
        "id": "rc9gbGsviC18"
      },
      "outputs": [],
      "source": [
        "base = int(input(\"base (cm): \"))\n",
        "height = int(input(\"height (cm): \"))\n",
        "area = 0.5 * base * height\n",
        "print(\"The area of the triangle is: \", area)"
      ]
    },
    {
      "cell_type": "markdown",
      "metadata": {
        "id": "x1Gi4xF5iC18"
      },
      "source": [
        "### Review Q2, PollEverywhere\n",
        "In the example below what is the:\n",
        "- module\n",
        "- function\n",
        "- argument"
      ]
    },
    {
      "cell_type": "code",
      "execution_count": null,
      "metadata": {
        "id": "eKq_FW_OiC19",
        "outputId": "09dcd058-dbc7-4afb-9b03-661abbfca85e"
      },
      "outputs": [
        {
          "name": "stdout",
          "output_type": "stream",
          "text": [
            "5 3\n"
          ]
        }
      ],
      "source": [
        "import random\n",
        "dice_roll_1 = random.randint(1,6)\n",
        "dice_roll_2 = random.randint(1,6)\n",
        "print(dice_roll_1, dice_roll_2)"
      ]
    },
    {
      "cell_type": "markdown",
      "metadata": {
        "id": "vtqrRButiC1-"
      },
      "source": [
        "## Lab #2 Walkthrough\n",
        "Your task is to write a program which computes __the fraction of the year that you will spend working on Python for this course__. \n",
        "\n",
        "To do that, we'll make the following assumptions:\n",
        "\n",
        "- The \"time spent on Python\" is defined as the amount of time that it is recommended for students to put into a course.\n",
        "- The recommended time to spend on a course is 3 hours outside of class for every hour inside class.\n",
        "- A normal semester includes 14 weeks, with 150 minutes of in-class time each week.\n",
        "- You can assume the year is a non-leap year, with 365 days."
      ]
    },
    {
      "cell_type": "code",
      "execution_count": null,
      "metadata": {
        "id": "vBYtxh8YiC1-"
      },
      "outputs": [],
      "source": [
        "# Let's start on the whiteboard, and write some pseudocode\n",
        "\n",
        "\n",
        "\n",
        "\n",
        "\n",
        "\n"
      ]
    },
    {
      "cell_type": "markdown",
      "metadata": {
        "id": "gGeu1d4OiC1-"
      },
      "source": [
        "# Division Operators"
      ]
    },
    {
      "cell_type": "markdown",
      "metadata": {
        "id": "yOnfD0H1iC1-"
      },
      "source": [
        "## Floating-point division operator\n",
        "\n",
        "The `/` operator will always give you a _float_ as a result."
      ]
    },
    {
      "cell_type": "code",
      "execution_count": null,
      "metadata": {
        "id": "8yxO4jIuiC1_"
      },
      "outputs": [],
      "source": [
        "320 / 20"
      ]
    },
    {
      "cell_type": "code",
      "execution_count": null,
      "metadata": {
        "id": "D8lSZNbeiC1_"
      },
      "outputs": [],
      "source": [
        "403.0 / 24.0"
      ]
    },
    {
      "cell_type": "markdown",
      "metadata": {
        "id": "Y7UHGmtBiC1_"
      },
      "source": [
        "## Integer division operators\n",
        "\n",
        "Sometimes, instead of getting the full floating-point expansion, you might want the quotient and remainder separately. \n",
        "\n",
        "![image.png](attachment:image.png)\n",
        "\n",
        "\n",
        "\n",
        "\n",
        "The `//` is the _floor_ division operator - it gives you the quotient and _ignores_ and fractional/remainder part.\n"
      ]
    },
    {
      "cell_type": "code",
      "execution_count": null,
      "metadata": {
        "id": "GP6kJY8ViC1_"
      },
      "outputs": [],
      "source": [
        "320 // 20"
      ]
    },
    {
      "cell_type": "code",
      "execution_count": null,
      "metadata": {
        "id": "5lybxjNOiC1_"
      },
      "outputs": [],
      "source": [
        "403 // 24"
      ]
    },
    {
      "cell_type": "markdown",
      "metadata": {
        "id": "_J-DBdIPiC1_"
      },
      "source": [
        "## Modulo operator\n",
        "\n",
        "The `%` operator is the __modulo__ operator - another word for remainder - it will ignore the quotient and just give you the remainder.\n",
        "\n",
        "![image.png](attachment:image.png)"
      ]
    },
    {
      "cell_type": "code",
      "execution_count": null,
      "metadata": {
        "id": "_k6t6QoXiC2A"
      },
      "outputs": [],
      "source": [
        "403 // 24"
      ]
    },
    {
      "cell_type": "code",
      "execution_count": null,
      "metadata": {
        "id": "s101RW8niC2A"
      },
      "outputs": [],
      "source": [
        "403 % 24"
      ]
    },
    {
      "cell_type": "markdown",
      "metadata": {
        "id": "wwE7mQLHiC2A"
      },
      "source": [
        "## Group Exercises\n",
        "\n",
        "Try each of the following in your interactive shell. What pattern do you notice?"
      ]
    },
    {
      "cell_type": "code",
      "execution_count": null,
      "metadata": {
        "id": "VvK2Xw1diC2A"
      },
      "outputs": [],
      "source": [
        "0 // 2\n",
        "1 // 2\n",
        "3 // 2\n",
        "4 // 2\n",
        "5 // 2\n",
        "6 // 2\n",
        "20 // 5\n",
        "21 // 5\n",
        "22 // 5\n",
        "23 // 5\n",
        "24 // 5\n",
        "25 // 5"
      ]
    },
    {
      "cell_type": "markdown",
      "metadata": {
        "id": "egZfyLUKiC2A"
      },
      "source": [
        "Try each of the following in your interactive shell. What pattern do you notice?"
      ]
    },
    {
      "cell_type": "code",
      "execution_count": null,
      "metadata": {
        "id": "8K2HONPsiC2A"
      },
      "outputs": [],
      "source": [
        "0 % 2\n",
        "1 % 2\n",
        "3 % 2\n",
        "4 % 2\n",
        "5 % 2\n",
        "6 % 2\n",
        "20 % 5\n",
        "21 % 5\n",
        "22 % 5\n",
        "23 % 5\n",
        "24 % 5\n",
        "25 % 5"
      ]
    },
    {
      "cell_type": "markdown",
      "metadata": {
        "id": "R2M1xFEbiC2B"
      },
      "source": [
        "Write down in your notes:\n",
        "* What is the difference between `//` and `/`?\n",
        "* What is the difference between `//` and `%`?\n",
        "\n",
        "Try each of the following in your interactive shell."
      ]
    },
    {
      "cell_type": "code",
      "execution_count": null,
      "metadata": {
        "id": "JExLpjaeiC2B",
        "outputId": "f3323123-27f3-4639-9856-769b1b9db39d"
      },
      "outputs": [
        {
          "name": "stdout",
          "output_type": "stream",
          "text": [
            "4.0\n"
          ]
        },
        {
          "ename": "ZeroDivisionError",
          "evalue": "division by zero",
          "output_type": "error",
          "traceback": [
            "\u001b[0;31m---------------------------------------------------------------------------\u001b[0m",
            "\u001b[0;31mZeroDivisionError\u001b[0m                         Traceback (most recent call last)",
            "\u001b[0;32m<ipython-input-14-5c56365b62c3>\u001b[0m in \u001b[0;36m<module>\u001b[0;34m\u001b[0m\n\u001b[1;32m      1\u001b[0m \u001b[0mprint\u001b[0m\u001b[0;34m(\u001b[0m\u001b[0;36m23\u001b[0m \u001b[0;34m//\u001b[0m \u001b[0;36m5.50\u001b[0m\u001b[0;34m)\u001b[0m\u001b[0;34m\u001b[0m\u001b[0;34m\u001b[0m\u001b[0m\n\u001b[0;32m----> 2\u001b[0;31m \u001b[0;36m23\u001b[0m \u001b[0;34m/\u001b[0m \u001b[0;36m0\u001b[0m\u001b[0;34m\u001b[0m\u001b[0;34m\u001b[0m\u001b[0m\n\u001b[0m",
            "\u001b[0;31mZeroDivisionError\u001b[0m: division by zero"
          ]
        }
      ],
      "source": [
        "print(23 // 5.50)\n",
        "23 / 0"
      ]
    },
    {
      "cell_type": "markdown",
      "metadata": {
        "id": "Jh5xCezyiC2B"
      },
      "source": [
        "Write down in your notes:\n",
        "* What happens when you use a float with the floor division operator?\n",
        "* What happens in Python if you try to divide by 0?"
      ]
    },
    {
      "cell_type": "markdown",
      "metadata": {
        "id": "T9SoBhJ1iC2B"
      },
      "source": [
        "## When is this useful?\n",
        "\n",
        "__Example:__ Let's say I'm programming a super computer with 64 processors to perform 1500 variations of a simulation for a physics experiment, and each of the simulations takes about the same amount of time to run. How many simulations should be given to each processor?"
      ]
    },
    {
      "cell_type": "code",
      "execution_count": null,
      "metadata": {
        "id": "7B92DE52iC2B",
        "outputId": "e9aacaef-9f04-4110-9773-941421c16114"
      },
      "outputs": [
        {
          "name": "stdout",
          "output_type": "stream",
          "text": [
            "Each processor should get 23 simulations\n",
            "and 28 processors will each get one extra\n"
          ]
        }
      ],
      "source": [
        "num_processors = 64\n",
        "num_simulations = 1500\n",
        "simulations_per_processor = num_simulations // num_processors\n",
        "leftover_simulations = num_simulations % num_processors\n",
        "print(\"Each processor should get\",simulations_per_processor,\"simulations\")\n",
        "print(\"and\",leftover_simulations,\"processors will each get one extra\")"
      ]
    },
    {
      "cell_type": "markdown",
      "metadata": {
        "id": "rnPpQAe4iC2C"
      },
      "source": [
        "Modulo is also good if you need to check if a number is even or odd"
      ]
    },
    {
      "cell_type": "code",
      "execution_count": null,
      "metadata": {
        "id": "Ee21MrWyiC2C",
        "outputId": "a2d0d4c6-221f-4768-e873-9e73d82aff8e"
      },
      "outputs": [
        {
          "data": {
            "text/plain": [
              "1"
            ]
          },
          "execution_count": 16,
          "metadata": {},
          "output_type": "execute_result"
        }
      ],
      "source": [
        "253 % 2 #odd numbers have a remainder of 1 when divided by 2"
      ]
    },
    {
      "cell_type": "code",
      "execution_count": null,
      "metadata": {
        "id": "D7HhMtw9iC2C",
        "outputId": "e9ce0d58-e540-4c85-d454-555966eb5563"
      },
      "outputs": [
        {
          "data": {
            "text/plain": [
              "0"
            ]
          },
          "execution_count": 17,
          "metadata": {},
          "output_type": "execute_result"
        }
      ],
      "source": [
        "254 % 2 #even numbers have a remainder of 0 when divided by 2"
      ]
    },
    {
      "cell_type": "markdown",
      "metadata": {
        "id": "onN9nAnXiC2C"
      },
      "source": [
        "Or, if you want to check if a number is divisible by 4 - say you're checking to see if the year is a presidential election year, Olympic year, leap year, etc., you can see if the result is 0"
      ]
    },
    {
      "cell_type": "code",
      "execution_count": null,
      "metadata": {
        "id": "jr5sjweKiC2C",
        "outputId": "60816b6a-d9cf-473a-d7cc-3aac894fc1d4"
      },
      "outputs": [
        {
          "data": {
            "text/plain": [
              "0"
            ]
          },
          "execution_count": 18,
          "metadata": {},
          "output_type": "execute_result"
        }
      ],
      "source": [
        "2024 % 4"
      ]
    },
    {
      "cell_type": "markdown",
      "metadata": {
        "id": "hC3Kvvv9iC2D"
      },
      "source": [
        "# Conditionals\n",
        "#### CS 65: Introduction to Computer Science I"
      ]
    },
    {
      "cell_type": "markdown",
      "metadata": {
        "id": "84nxOx8miC2D"
      },
      "source": [
        "## Conditional execution of code\n",
        "\n",
        "Sometimes, you want your program to do something different based on different conditions. These are called __conditional statements__.\n",
        "\n",
        "For example, consider the pay calculator. If this employer offers 50% extra pay for overtime (i.e., worked > 40 hours), how could we account for that?"
      ]
    },
    {
      "cell_type": "code",
      "execution_count": null,
      "metadata": {
        "id": "CE05EVkViC2D",
        "outputId": "6f5e75d8-205f-42fd-b7bd-a0a299c09ff0"
      },
      "outputs": [
        {
          "name": "stdout",
          "output_type": "stream",
          "text": [
            "Enter your hourly wage: 9.25\n",
            "Enter your number of hours worked: 40\n",
            "Total pay:  370.0\n"
          ]
        }
      ],
      "source": [
        "wage = float(input(\"Enter your hourly wage: \"))\n",
        "hours = float(input(\"Enter your number of hours worked: \"))\n",
        "\n",
        "#option 1: only correct if they didn't work overtime\n",
        "#pay = wage*hours\n",
        "\n",
        "#option 2: only correct if they worked overtime\n",
        "overtime_hours = hours-40\n",
        "pay = (wage*40) + (wage*1.5*overtime_hours)\n",
        "\n",
        "print(\"Total pay: \",pay)"
      ]
    },
    {
      "cell_type": "markdown",
      "metadata": {
        "id": "BMVO8D42iC2D"
      },
      "source": [
        "## Syntax for `if` statements\n",
        "\n",
        "* keyword `if`\n",
        "* a condition\n",
        "* colon `:`\n",
        "* indented _block_ of code"
      ]
    },
    {
      "cell_type": "code",
      "execution_count": null,
      "metadata": {
        "scrolled": true,
        "id": "t4HkwwksiC2D",
        "outputId": "ba050ed1-a4a5-43a0-efc1-7109d15d2af7"
      },
      "outputs": [
        {
          "name": "stdout",
          "output_type": "stream",
          "text": [
            "What is your age? 12\n",
            "Your total bill is 35.63\n"
          ]
        }
      ],
      "source": [
        "total_bill = 35.63\n",
        "age = float(input(\"What is your age? \"))\n",
        "\n",
        "if age > 65:   # notice the 'if' keyword and the colon ':'\n",
        "    print(\"Applying 10% senior discount\")\n",
        "    total_bill = total_bill * 0.9 \n",
        "    #any indented code is only runs\n",
        "    #when the condition is True\n",
        "    \n",
        "#un-indented code runs no matter what\n",
        "print(\"Your total bill is\", total_bill)"
      ]
    },
    {
      "cell_type": "markdown",
      "metadata": {
        "id": "hNJYfQl-iC2E"
      },
      "source": [
        "## Syntax for `if-else` statements\n",
        "\n",
        "* keyword `if`\n",
        "* a condition\n",
        "* colon `:`\n",
        "* indented block of code\n",
        "* keyword `else`\n",
        "* colon `:`\n",
        "* indented block of code"
      ]
    },
    {
      "cell_type": "code",
      "execution_count": null,
      "metadata": {
        "id": "VIEnNi-ziC2E",
        "outputId": "10a36b4c-50c2-42b3-c6f0-4c7d5edfa6b8"
      },
      "outputs": [
        {
          "name": "stdout",
          "output_type": "stream",
          "text": [
            "Enter your height in inches: 60\n",
            "You are tall enough for this ride.\n"
          ]
        }
      ],
      "source": [
        "height = int(input(\"Enter your height in inches: \"))\n",
        "\n",
        "if height < 60: # notice the 'if' keyword and the colon ':'\n",
        "    print(\"You are not tall enough for this ride.\")\n",
        "    #indented block of code that runs if the condition is true\n",
        "    \n",
        "else: # notice the 'else' keyword and the colon ':'\n",
        "    print(\"You are tall enough for this ride.\")\n",
        "    #indented block of code that runs if the condition is not true\n",
        "\n",
        "#notice that the 'if' and 'else' clauses match indentation"
      ]
    },
    {
      "cell_type": "markdown",
      "metadata": {
        "id": "QMJf7OYeiC2E"
      },
      "source": [
        "## Group Exercise\n",
        "\n",
        "How could we make this work using an `if-else`?"
      ]
    },
    {
      "cell_type": "code",
      "execution_count": null,
      "metadata": {
        "id": "_MmJSE_liC2E",
        "outputId": "3de6d715-d1fc-431b-9869-d65ca5bb2f5a"
      },
      "outputs": [
        {
          "name": "stdout",
          "output_type": "stream",
          "text": [
            "Enter your hourly wage: 9.25\n",
            "Enter your number of hours worked: 25\n",
            "Total pay:  231.25\n"
          ]
        }
      ],
      "source": [
        "wage = float(input(\"Enter your hourly wage: \"))\n",
        "hours = float(input(\"Enter your number of hours worked: \"))\n",
        "\n",
        "#option 1: only correct if they didn't work overtime\n",
        "pay = wage*hours\n",
        "\n",
        "#option 2: only correct if they worked overtime\n",
        "#overtime_hours = hours-40\n",
        "#pay = (wage*40) + (wage*1.5*overtime_hours)\n",
        "\n",
        "print(\"Total pay: \",pay)"
      ]
    },
    {
      "cell_type": "markdown",
      "metadata": {
        "id": "NxYVif-giC2F"
      },
      "source": [
        "## Boolean type\n",
        "\n",
        "The __Boolean__ type has two possible values: `True` and `False`\n",
        "\n",
        "`type()` of a Boolean variable will read as `bool`\n"
      ]
    },
    {
      "cell_type": "code",
      "execution_count": null,
      "metadata": {
        "id": "u6oqd6lMiC2F",
        "outputId": "8a1adcc8-a1e1-45d6-db63-7f3cc948513c"
      },
      "outputs": [
        {
          "name": "stdout",
          "output_type": "stream",
          "text": [
            "The condition it True!\n",
            "<class 'bool'>\n"
          ]
        }
      ],
      "source": [
        "bool_variable = True\n",
        "\n",
        "if bool_variable:\n",
        "    print(\"The condition it True!\")\n",
        "    print(type(bool_variable))"
      ]
    },
    {
      "cell_type": "markdown",
      "metadata": {
        "id": "ibb_W858iC2F"
      },
      "source": [
        "The _condition_ for an `if`/`if-else` statement can be anything that results in a Boolean. An expression, like `height < 60` that results in a Boolean is called a __Boolean expression__."
      ]
    },
    {
      "cell_type": "markdown",
      "metadata": {
        "id": "yx5-hlrSiC2F"
      },
      "source": [
        "## Some Boolean operators\n",
        "\n",
        "* `<` less than\n",
        "* `>` greater than\n",
        "* `<=` less than or equal\n",
        "    - note there is no $\\leq$ button on your keyboard\n",
        "* `>=` greater than or equal\n",
        "* `==` equal (comparison)\n",
        "    - note that `=` is used for assignment, they're different operators, don't confuse them!\n",
        "* `!=` not equal"
      ]
    },
    {
      "cell_type": "code",
      "execution_count": null,
      "metadata": {
        "id": "hx-3-H_2iC2F",
        "outputId": "f7c83e5d-8a99-4b2c-8207-48992e985dc7"
      },
      "outputs": [
        {
          "name": "stdout",
          "output_type": "stream",
          "text": [
            "Guess a number: 1\n",
            "Wrong!\n"
          ]
        }
      ],
      "source": [
        "secret_number = 7\n",
        "guess = int(input(\"Guess a number: \"))\n",
        "\n",
        "if guess == secret_number:\n",
        "    print(\"That was right, good guess!\")\n",
        "else:\n",
        "    print(\"Wrong!\")"
      ]
    },
    {
      "cell_type": "code",
      "execution_count": null,
      "metadata": {
        "id": "COD6OmUxiC2G",
        "outputId": "7ef2e7e1-b244-47c1-ac52-489048214af3"
      },
      "outputs": [
        {
          "name": "stdout",
          "output_type": "stream",
          "text": [
            "Enter number of people at the table: 4\n",
            "Was this a business lunch for a non-profit organization? yes\n",
            "Your total is 121.5\n"
          ]
        }
      ],
      "source": [
        "total_bill = 121.50\n",
        "party_size = int(input(\"Enter number of people at the table: \"))\n",
        "non_profit = input(\"Was this a business lunch for a non-profit organization? \")\n",
        " \n",
        "if non_profit != \"yes\":\n",
        "    print(\"Calculating 6% sales tax.\")\n",
        "    total_bill = total_bill * 1.06\n",
        "    \n",
        "if party_size >= 8:\n",
        "    print(\"Automatically adding 15% gratuity.\")\n",
        "    total_bill = total_bill * 1.15\n",
        "    \n",
        "print(\"Your total is\",total_bill)"
      ]
    },
    {
      "cell_type": "markdown",
      "metadata": {
        "id": "ZDSQezoMiC2G"
      },
      "source": [
        "### You should be working on:\n",
        "- [Lab #3 PayCalculator](https://github.com/mooreCS65/CS65-F22-Labs/blob/main/Lab03_PayCalculator.ipynb) is __due tonight by 11:59pm__\n",
        "- [Lab #4 is released today](https://github.com/mooreCS65/CS65-F22-Labs/blob/main/Lab04_DivisionModulusConditional.ipynb), __due Monday by 11:59pm__"
      ]
    },
    {
      "cell_type": "markdown",
      "metadata": {
        "id": "-l5-_8mXiC2G"
      },
      "source": []
    }
  ],
  "metadata": {
    "celltoolbar": "Slideshow",
    "kernelspec": {
      "display_name": "Python 3",
      "language": "python",
      "name": "python3"
    },
    "language_info": {
      "codemirror_mode": {
        "name": "ipython",
        "version": 3
      },
      "file_extension": ".py",
      "mimetype": "text/x-python",
      "name": "python",
      "nbconvert_exporter": "python",
      "pygments_lexer": "ipython3",
      "version": "3.8.3"
    },
    "colab": {
      "provenance": [],
      "include_colab_link": true
    }
  },
  "nbformat": 4,
  "nbformat_minor": 0
}