{
  "cells": [
    {
      "cell_type": "markdown",
      "metadata": {
        "id": "view-in-github",
        "colab_type": "text"
      },
      "source": [
        "<a href=\"https://colab.research.google.com/github/merriekay/CS65-Notes/blob/main/Day03_Notes_User_Input_Type_Conversion_and_Importing_Modules.ipynb\" target=\"_parent\"><img src=\"https://colab.research.google.com/assets/colab-badge.svg\" alt=\"Open In Colab\"/></a>"
      ]
    },
    {
      "cell_type": "markdown",
      "metadata": {
        "id": "zsK2-OzKkfUS"
      },
      "source": [
        "# Day 03 Notes: User Input, Type Conversion, Calling Functions and Importing Modules\n",
        "#### CS65 Introduction to Computer Science I\n",
        "Monday, September 12th, 2022\n",
        "\n",
        "Note to self:\n",
        "- enable captions\n",
        "- start recording"
      ]
    },
    {
      "cell_type": "markdown",
      "metadata": {
        "id": "yymtj6ankfUU"
      },
      "source": [
        "## Reminders:\n"
      ]
    },
    {
      "cell_type": "markdown",
      "metadata": {
        "id": "5JX2AsAbkfUU"
      },
      "source": [
        "### CodePost Tips\n"
      ]
    },
    {
      "cell_type": "markdown",
      "metadata": {
        "id": "Mi-8gTfTkfUV"
      },
      "source": [
        "- __The name of the file is important!__"
      ]
    },
    {
      "cell_type": "markdown",
      "metadata": {
        "id": "ZDnfxOZikfUV"
      },
      "source": [
        "- I have the autograding set up now--go back and check your Lab #1 to see how your code either passed/did not pass the tests."
      ]
    },
    {
      "cell_type": "markdown",
      "metadata": {
        "id": "FfFLtpFLkfUW"
      },
      "source": [
        "- If your code did not pass the test, fix your code and resubmit. I'll extend the deadline until tonight for re-submissions."
      ]
    },
    {
      "cell_type": "markdown",
      "metadata": {
        "id": "uQxs6icSkfUW"
      },
      "source": [
        "### You should be working on:\n",
        "- [Lab02 A Year in Python](https://github.com/mooreCS65/CS65-F22-Labs/blob/main/Lab02_AYearWithPython.ipynb), due __tonight 9/12 by 11:59 pm__\n",
        "- [Lab03](https://github.com/mooreCS65/CS65-F22-Labs/blob/main/Lab03_PayCalculator.ipynb) is released today, due Wednesday, 9/14, by 11:59pm"
      ]
    },
    {
      "cell_type": "markdown",
      "metadata": {
        "id": "k-DB8w4wkfUX"
      },
      "source": [
        "## Attendance Q:"
      ]
    },
    {
      "cell_type": "code",
      "execution_count": null,
      "metadata": {
        "id": "val6krZ2kfUX"
      },
      "outputs": [],
      "source": [
        "# Code to Display Attendance Question:\n",
        "from IPython.display import IFrame\n",
        "IFrame(\"https://embed.polleverywhere.com/multiple_choice_polls/EwTYfpur1RjIKpx8gOPbI?controls=none&short_poll=true\", width=800, height=600)"
      ]
    },
    {
      "cell_type": "markdown",
      "metadata": {
        "id": "L6gfFBvZkfUZ"
      },
      "source": [
        "# User Input and Type Conversions\n"
      ]
    },
    {
      "cell_type": "markdown",
      "metadata": {
        "id": "m6072tQykfUZ"
      },
      "source": [
        "## User Input\n",
        "\n",
        "To receive input from the user, use the built-in `input()` function.\n",
        "\n",
        "Whatever is typed before the user hits `enter`/`return`, will be saved into the variable on the left."
      ]
    },
    {
      "cell_type": "code",
      "execution_count": null,
      "metadata": {
        "id": "MzlhTRyskfUZ",
        "outputId": "ff024b9b-7e47-4565-8b6a-a302504430ae"
      },
      "outputs": [
        {
          "name": "stdout",
          "output_type": "stream",
          "text": [
            "Enter your name: 9\n",
            "Hello 9\n"
          ]
        }
      ],
      "source": [
        "name = input(\"Enter your name: \")\n",
        "print(\"Hello\",name) "
      ]
    },
    {
      "cell_type": "markdown",
      "metadata": {
        "id": "xZRGC_dnkfUa"
      },
      "source": [
        "> Show what this looks like in Thonny"
      ]
    },
    {
      "cell_type": "markdown",
      "metadata": {
        "id": "quCmL-jMkfUb"
      },
      "source": [
        "Think about the `name` variable here. What is its type? How would we check?"
      ]
    },
    {
      "cell_type": "code",
      "execution_count": null,
      "metadata": {
        "id": "_XQ1syMjkfUb",
        "outputId": "57f7c6dc-1e4c-45c0-e6b9-ba15062079b2"
      },
      "outputs": [
        {
          "data": {
            "text/plain": [
              "str"
            ]
          },
          "execution_count": 24,
          "metadata": {},
          "output_type": "execute_result"
        }
      ],
      "source": [
        "type(name)"
      ]
    },
    {
      "cell_type": "markdown",
      "metadata": {
        "id": "fq-wc-oykfUb"
      },
      "source": [
        "### Polleverywhere Question #1"
      ]
    },
    {
      "cell_type": "markdown",
      "metadata": {
        "id": "m9hEs4j7kfUc"
      },
      "source": [
        "## User input example: Fahrenheit to Celsius converter\n",
        "\n",
        "The formula for converting Fahrenheit temperatures to Celsius is $$C = (F - 32)*\\frac{5}{9}$$\n",
        "\n",
        "We could make this an interactive program with code like this:"
      ]
    },
    {
      "cell_type": "code",
      "execution_count": null,
      "metadata": {
        "id": "eKzL5AlmkfUc",
        "outputId": "271052b7-0d86-4087-8ffd-f0c6771a4738"
      },
      "outputs": [
        {
          "name": "stdout",
          "output_type": "stream",
          "text": [
            "Enter the temperature in Fahrenheit 100\n"
          ]
        },
        {
          "ename": "TypeError",
          "evalue": "unsupported operand type(s) for -: 'str' and 'int'",
          "output_type": "error",
          "traceback": [
            "\u001b[0;31m---------------------------------------------------------------------------\u001b[0m",
            "\u001b[0;31mTypeError\u001b[0m                                 Traceback (most recent call last)",
            "\u001b[0;32m<ipython-input-25-fc29a04c7392>\u001b[0m in \u001b[0;36m<module>\u001b[0;34m\u001b[0m\n\u001b[1;32m      1\u001b[0m \u001b[0mfahrenheit_temp\u001b[0m \u001b[0;34m=\u001b[0m \u001b[0minput\u001b[0m\u001b[0;34m(\u001b[0m\u001b[0;34m\"Enter the temperature in Fahrenheit \"\u001b[0m\u001b[0;34m)\u001b[0m\u001b[0;34m\u001b[0m\u001b[0;34m\u001b[0m\u001b[0m\n\u001b[0;32m----> 2\u001b[0;31m \u001b[0mcelsius_temp\u001b[0m \u001b[0;34m=\u001b[0m \u001b[0;34m(\u001b[0m\u001b[0mfahrenheit_temp\u001b[0m\u001b[0;34m-\u001b[0m\u001b[0;36m32\u001b[0m\u001b[0;34m)\u001b[0m\u001b[0;34m*\u001b[0m\u001b[0;34m(\u001b[0m\u001b[0;36m5\u001b[0m\u001b[0;34m/\u001b[0m\u001b[0;36m9\u001b[0m\u001b[0;34m)\u001b[0m\u001b[0;34m\u001b[0m\u001b[0;34m\u001b[0m\u001b[0m\n\u001b[0m\u001b[1;32m      3\u001b[0m \u001b[0mprint\u001b[0m\u001b[0;34m(\u001b[0m\u001b[0;34m\"That's\"\u001b[0m\u001b[0;34m,\u001b[0m\u001b[0mcelsius_temp\u001b[0m\u001b[0;34m,\u001b[0m\u001b[0;34m\"in Celsius\"\u001b[0m\u001b[0;34m)\u001b[0m\u001b[0;34m\u001b[0m\u001b[0;34m\u001b[0m\u001b[0m\n",
            "\u001b[0;31mTypeError\u001b[0m: unsupported operand type(s) for -: 'str' and 'int'"
          ]
        }
      ],
      "source": [
        "fahrenheit_temp = input(\"Enter the temperature in Fahrenheit \")\n",
        "celsius_temp = (fahrenheit_temp-32)*(5/9)\n",
        "print(\"That's\",celsius_temp,\"in Celsius\")"
      ]
    },
    {
      "cell_type": "markdown",
      "metadata": {
        "id": "1dkJFCoTkfUc"
      },
      "source": [
        "Read the error message! It says we can't subract an int from a string. Even though we typed a number, it treated `fahrenheit_temp` as a string.\n",
        "\n",
        "Unfortunately, that's just the way `input()` works. "
      ]
    },
    {
      "cell_type": "markdown",
      "metadata": {
        "id": "uWNUM-aVkfUd"
      },
      "source": [
        "Fortunately, there's another built-in function we can use to convert something to an integer: `int()`"
      ]
    },
    {
      "cell_type": "code",
      "execution_count": null,
      "metadata": {
        "id": "lP5jXC7_kfUd",
        "outputId": "4d6c5db5-d76c-4141-a576-4b3acf0ea485"
      },
      "outputs": [
        {
          "name": "stdout",
          "output_type": "stream",
          "text": [
            "<class 'str'>\n",
            "<class 'int'>\n"
          ]
        }
      ],
      "source": [
        "val = \"32\"\n",
        "print( type(val) )\n",
        "print( type(int(val)) )"
      ]
    },
    {
      "cell_type": "code",
      "execution_count": null,
      "metadata": {
        "id": "9t5ehl_5kfUd",
        "outputId": "7f9e7179-1b80-4b96-cbcd-dba32db1a440"
      },
      "outputs": [
        {
          "name": "stdout",
          "output_type": "stream",
          "text": [
            "Enter the temperature in Fahrenheit 100\n",
            "That's 37.77777777777778 in Celsius\n"
          ]
        }
      ],
      "source": [
        "fahrenheit_temp_str = input(\"Enter the temperature in Fahrenheit \")\n",
        "fahrenheit_temp_int = int(fahrenheit_temp_str) \n",
        "celsius_temp = (fahrenheit_temp_int-32)*(5/9)\n",
        "print(\"That's\",celsius_temp,\"in Celsius\")"
      ]
    },
    {
      "cell_type": "markdown",
      "metadata": {
        "id": "FFu8yeJ_kfUd"
      },
      "source": [
        "Or, you can do it all in one step like this:"
      ]
    },
    {
      "cell_type": "code",
      "execution_count": null,
      "metadata": {
        "id": "KCRKyi0ikfUe",
        "outputId": "967b6d46-3ad9-41e4-ae3c-42d0454c6753"
      },
      "outputs": [
        {
          "name": "stdout",
          "output_type": "stream",
          "text": [
            "Enter the temperature in Fahrenheit 72.5\n",
            "That's 22.5 in Celsius\n"
          ]
        }
      ],
      "source": [
        "fahrenheit_temp = float( input(\"Enter the temperature in Fahrenheit \") )\n",
        "celsius_temp = (fahrenheit_temp-32)*(5/9)\n",
        "print(\"That's\",celsius_temp,\"in Celsius\")"
      ]
    },
    {
      "cell_type": "markdown",
      "metadata": {
        "id": "rWKRKTEJkfUe"
      },
      "source": [
        "What would happen if the user typed a floating-point value like `72.5`?"
      ]
    },
    {
      "cell_type": "markdown",
      "metadata": {
        "id": "DMRX-U_hkfUe"
      },
      "source": [
        "## Other type conversion functions\n",
        "![image.png](data:image/png;base64,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)"
      ]
    },
    {
      "cell_type": "markdown",
      "metadata": {
        "id": "zMmh6JhbkfUe"
      },
      "source": [
        "Convert to a floating-point type with `float()`\n",
        "\n",
        "Convert to a string with `str()`"
      ]
    },
    {
      "cell_type": "markdown",
      "metadata": {
        "id": "6c2KE30gkfUf"
      },
      "source": [
        "### Conversion Examples:"
      ]
    },
    {
      "cell_type": "code",
      "execution_count": null,
      "metadata": {
        "id": "jBQWod4DkfUf",
        "outputId": "44763a75-5338-444b-8084-0f40308c5b82"
      },
      "outputs": [
        {
          "name": "stdout",
          "output_type": "stream",
          "text": [
            "Enter the temperature in Fahrenheit 75.9\n",
            "That's 24.388888888888893 in Celsius\n"
          ]
        }
      ],
      "source": [
        "fahrenheit_temp = float( input(\"Enter the temperature in Fahrenheit \") )\n",
        "celsius_temp = (fahrenheit_temp-32)*(5/9)\n",
        "print(\"That's\",celsius_temp,\"in Celsius\")"
      ]
    },
    {
      "cell_type": "code",
      "execution_count": null,
      "metadata": {
        "id": "Z3v5wQd0kfUf",
        "outputId": "ff2c4125-c39f-4610-a89d-bd5465a627d4"
      },
      "outputs": [
        {
          "ename": "TypeError",
          "evalue": "raw_input() takes from 1 to 2 positional arguments but 3 were given",
          "output_type": "error",
          "traceback": [
            "\u001b[0;31m---------------------------------------------------------------------------\u001b[0m",
            "\u001b[0;31mTypeError\u001b[0m                                 Traceback (most recent call last)",
            "\u001b[0;32m<ipython-input-33-120d707f2722>\u001b[0m in \u001b[0;36m<module>\u001b[0;34m\u001b[0m\n\u001b[1;32m      1\u001b[0m \u001b[0mtarget_number\u001b[0m \u001b[0;34m=\u001b[0m \u001b[0;36m42\u001b[0m\u001b[0;34m\u001b[0m\u001b[0;34m\u001b[0m\u001b[0m\n\u001b[0;32m----> 2\u001b[0;31m \u001b[0muser_input\u001b[0m \u001b[0;34m=\u001b[0m \u001b[0mint\u001b[0m\u001b[0;34m(\u001b[0m \u001b[0minput\u001b[0m\u001b[0;34m(\u001b[0m\u001b[0;34m\"Enter a number greater than \"\u001b[0m\u001b[0;34m,\u001b[0m\u001b[0mtarget_number\u001b[0m\u001b[0;34m)\u001b[0m \u001b[0;34m)\u001b[0m \u001b[0;31m#doesn't work\u001b[0m\u001b[0;34m\u001b[0m\u001b[0;34m\u001b[0m\u001b[0m\n\u001b[0m",
            "\u001b[0;31mTypeError\u001b[0m: raw_input() takes from 1 to 2 positional arguments but 3 were given"
          ]
        }
      ],
      "source": [
        "target_number = 42\n",
        "user_input = int( input(\"Enter a number greater than \",target_number) ) #doesn't work"
      ]
    },
    {
      "cell_type": "code",
      "execution_count": null,
      "metadata": {
        "id": "pHUoJIhPkfUf",
        "outputId": "b4745d1e-2ae2-4458-91e0-f91ee7dcb26c"
      },
      "outputs": [
        {
          "name": "stdout",
          "output_type": "stream",
          "text": [
            "Enter a number greater than 42 54\n"
          ]
        }
      ],
      "source": [
        "#above code corrected\n",
        "target_number = 42\n",
        "user_input = int( input(\"Enter a number greater than \"+str(target_number)+\" \") )"
      ]
    },
    {
      "cell_type": "markdown",
      "metadata": {
        "id": "uo8lprADkfUg"
      },
      "source": [
        "### PollEverywhere Q3"
      ]
    },
    {
      "cell_type": "markdown",
      "metadata": {
        "id": "og4tOOQ-kfUg"
      },
      "source": [
        "# Calling Functions and Importing Modules\n",
        "\n"
      ]
    },
    {
      "cell_type": "markdown",
      "metadata": {
        "id": "uYiNmovOkfUg"
      },
      "source": [
        "## Abstraction: Big idea in computer science"
      ]
    },
    {
      "cell_type": "markdown",
      "metadata": {
        "id": "qYDMNpjHkfUg"
      },
      "source": [
        "<center>\n",
        "<div>\n",
        "<img src=\"attachment:image.png\" width=\"300\"/>\n",
        "</div>\n",
        "</center>\n"
      ]
    },
    {
      "cell_type": "markdown",
      "metadata": {
        "id": "pwHuyj6DkfUg"
      },
      "source": [
        "<center>\n",
        "<div>\n",
        "<img src=\"attachment:image.png\" width=\"300\"/>\n",
        "</div>\n",
        "</center>\n"
      ]
    },
    {
      "cell_type": "markdown",
      "metadata": {
        "id": "yEOUa5TwkfUh"
      },
      "source": [
        "You don't have to know how to farm to be a chef - they work at different levels of abstraction in food production.\n",
        "\n",
        "In computer science, you build bigger, more complex things by using the building blocks others (or you) have provided.\n",
        "\n",
        "chef image credit: https://www.flickr.com/photos/nestle/3885866873"
      ]
    },
    {
      "cell_type": "markdown",
      "metadata": {
        "id": "ZR_5IoewkfUh"
      },
      "source": [
        "## Abstraction examples we've already seen\n",
        "\n",
        "We've already used several built-in _functions_ in this class: `print()`, `input()`, `type()`, `int()`, `float()`, `str()`\n",
        "* A function is an abstraction tool\n",
        "* We don't have to understand how they work in order to use them"
      ]
    },
    {
      "cell_type": "code",
      "execution_count": null,
      "metadata": {
        "id": "cN_ZTbfhkfUh",
        "outputId": "2b28a44e-7156-4a4d-9159-e8564252289a"
      },
      "outputs": [
        {
          "name": "stdout",
          "output_type": "stream",
          "text": [
            "Enter your name Meredith\n",
            "Hello Meredith\n"
          ]
        }
      ],
      "source": [
        "name = input(\"Enter your name \")\n",
        "print(\"Hello\",name)"
      ]
    },
    {
      "cell_type": "markdown",
      "metadata": {
        "id": "rwoY_DRVkfUh"
      },
      "source": [
        "`input(\"Enter your name \")` and `print(\"Hello\",name)` are __function calls__\n",
        "\n",
        "Anything you put in the parentheses, like `\"Enter your name \"`, `\"Hello\"`, and `name` are _arguments_ which are passed to the function\n",
        "\n",
        "Functions do/execute/compute something based on the arguments"
      ]
    },
    {
      "cell_type": "markdown",
      "metadata": {
        "id": "SCDKymzHkfUh"
      },
      "source": [
        "## Functions that aren't built-in\n",
        "\n",
        "One of the things that makes Python such a great language is that there are many functions you can use that aren't built in. \n",
        "\n",
        "They're written by other programmers and made available to you.\n",
        "\n",
        "In order to use them, you need an `import` statement.\n",
        "\n",
        "Something you import this way is called a __module__.\n",
        "\n",
        "When running a function from a module, you usually use the __dot notation__."
      ]
    },
    {
      "cell_type": "code",
      "execution_count": null,
      "metadata": {
        "id": "8CJon-SFkfUi",
        "outputId": "2b81023c-def4-485b-9b7a-371addccf413"
      },
      "outputs": [
        {
          "name": "stdout",
          "output_type": "stream",
          "text": [
            "100\n"
          ]
        }
      ],
      "source": [
        "import random\n",
        "print( random.randint(1,100) )"
      ]
    },
    {
      "cell_type": "markdown",
      "metadata": {
        "id": "_QZVC7b7kfUi"
      },
      "source": [
        "In `random.randint(1,100)`, `random` is the name of the module and `randint` is the name of the function we want to use from that module. `1` and `100` are __arguments__ we pass to the function that tell it what range of numbers we want our random number to be in."
      ]
    },
    {
      "cell_type": "code",
      "execution_count": null,
      "metadata": {
        "id": "mnZj5GDZkfUi",
        "outputId": "7f1f5b7a-1c18-4bda-c226-ad4c4c39927d"
      },
      "outputs": [
        {
          "name": "stdout",
          "output_type": "stream",
          "text": [
            "2022-09-12 11:56:00.648897\n"
          ]
        }
      ],
      "source": [
        "import datetime\n",
        "print( datetime.datetime.now() )"
      ]
    },
    {
      "cell_type": "markdown",
      "metadata": {
        "id": "dFAiT9P_kfUi"
      },
      "source": [
        "Notice that this uses two dots - in this case, the pattern is `modulename.typename.functionname` becaise the `datetime` modules contains many different types, and those types each support different functions.\n",
        "\n",
        "Different modules are set up to be used in slightly different ways."
      ]
    },
    {
      "cell_type": "markdown",
      "metadata": {
        "id": "7QIBob84kfUj"
      },
      "source": [
        "How do you know how to use a module?"
      ]
    },
    {
      "cell_type": "markdown",
      "metadata": {
        "id": "cDtlP4_gkfUj"
      },
      "source": [
        "Find the documentation for it on the web!\n",
        "\n",
        "https://docs.python.org/3/library/datetime.html"
      ]
    },
    {
      "cell_type": "code",
      "execution_count": null,
      "metadata": {
        "hideCode": true,
        "id": "vsPKFiTEkfUj"
      },
      "outputs": [],
      "source": [
        "from IPython.display import IFrame\n",
        "IFrame('https://docs.python.org/3/library/datetime.html',width=900,height=450)"
      ]
    },
    {
      "cell_type": "markdown",
      "metadata": {
        "id": "_8pTeffbkfUj"
      },
      "source": [
        "https://docs.python.org/3/library/random.html"
      ]
    },
    {
      "cell_type": "code",
      "execution_count": null,
      "metadata": {
        "hideCode": true,
        "id": "KVLk0VP3kfUj",
        "outputId": "f7876282-1c9d-4850-a869-a515b3c604e8"
      },
      "outputs": [
        {
          "data": {
            "text/html": [
              "\n",
              "        <iframe\n",
              "            width=\"900\"\n",
              "            height=\"450\"\n",
              "            src=\"https://docs.python.org/3/library/random.html\"\n",
              "            frameborder=\"0\"\n",
              "            allowfullscreen\n",
              "        ></iframe>\n",
              "        "
            ],
            "text/plain": [
              "<IPython.lib.display.IFrame at 0x7fed493fa6a0>"
            ]
          },
          "execution_count": 45,
          "metadata": {},
          "output_type": "execute_result"
        }
      ],
      "source": [
        "from IPython.display import IFrame\n",
        "IFrame('https://docs.python.org/3/library/random.html',width=900,height=450)"
      ]
    },
    {
      "cell_type": "markdown",
      "metadata": {
        "id": "p_2Xj2pUkfUj"
      },
      "source": [
        "## Modules can provide new functions and new types"
      ]
    },
    {
      "cell_type": "code",
      "execution_count": null,
      "metadata": {
        "id": "4hxza9txkfUk",
        "outputId": "8c64b16c-2d49-4d29-d150-22b8c1e7ec5a"
      },
      "outputs": [
        {
          "data": {
            "text/plain": [
              "module"
            ]
          },
          "execution_count": 47,
          "metadata": {},
          "output_type": "execute_result"
        }
      ],
      "source": [
        "type(datetime)"
      ]
    },
    {
      "cell_type": "code",
      "execution_count": null,
      "metadata": {
        "id": "eNajlXkfkfUk",
        "outputId": "de5eef3a-90a9-437a-a585-8a683bf1a926"
      },
      "outputs": [
        {
          "data": {
            "text/plain": [
              "type"
            ]
          },
          "execution_count": 48,
          "metadata": {},
          "output_type": "execute_result"
        }
      ],
      "source": [
        "type(datetime.datetime)"
      ]
    },
    {
      "cell_type": "code",
      "execution_count": null,
      "metadata": {
        "id": "GOlzkFBlkfUk",
        "outputId": "71f65c02-70ab-4dcb-e5d6-00dc622be318"
      },
      "outputs": [
        {
          "data": {
            "text/plain": [
              "datetime.datetime"
            ]
          },
          "execution_count": 49,
          "metadata": {},
          "output_type": "execute_result"
        }
      ],
      "source": [
        "current = datetime.datetime.now()\n",
        "type(current)"
      ]
    },
    {
      "cell_type": "markdown",
      "metadata": {
        "id": "9U1zsCgZkfUk"
      },
      "source": [
        "https://xkcd.com/353/\n",
        "\n",
        "<center>\n",
        "<div>\n",
        "<img src=\"attachment:python.png\"/>\n",
        "</div>\n",
        "</center>\n"
      ]
    },
    {
      "cell_type": "markdown",
      "metadata": {
        "id": "0gFEkV0tkfUk"
      },
      "source": [
        "## Reminders:\n"
      ]
    },
    {
      "cell_type": "markdown",
      "metadata": {
        "id": "GRdSY-vykfUk"
      },
      "source": [
        "### CodePost Tips\n"
      ]
    },
    {
      "cell_type": "markdown",
      "metadata": {
        "id": "lxe8ai8IkfUl"
      },
      "source": [
        "- __The name of the file is important!__"
      ]
    },
    {
      "cell_type": "markdown",
      "metadata": {
        "id": "nhr-SO7lkfUl"
      },
      "source": [
        "- I have the autograding set up now--go back and check your Lab #1 to see how your code either passed/did not pass the tests."
      ]
    },
    {
      "cell_type": "markdown",
      "metadata": {
        "id": "-24LN3z9kfUl"
      },
      "source": [
        "- If your code did not pass the test, fix your code and resubmit. I'll extend the deadline until tonight for re-submissions."
      ]
    },
    {
      "cell_type": "markdown",
      "metadata": {
        "id": "CamWKyb3kfUl"
      },
      "source": [
        "### You should be working on:\n",
        "- [Lab02 A Year in Python](https://github.com/mooreCS65/CS65-F22-Labs/blob/main/Lab02_AYearWithPython.ipynb), due __tonight 9/12 by 11:59 pm__\n",
        "- [Lab03](https://github.com/mooreCS65/CS65-F22-Labs/blob/main/Lab03_PayCalculator.ipynb) is released today, due Wednesday, 9/14, by 11:59pm"
      ]
    },
    {
      "cell_type": "markdown",
      "metadata": {
        "id": "P0PcwtABkfUl"
      },
      "source": [
        "## PollEverywhere Exit Questions"
      ]
    }
  ],
  "metadata": {
    "celltoolbar": "Slideshow",
    "kernelspec": {
      "display_name": "Python 3",
      "language": "python",
      "name": "python3"
    },
    "language_info": {
      "codemirror_mode": {
        "name": "ipython",
        "version": 3
      },
      "file_extension": ".py",
      "mimetype": "text/x-python",
      "name": "python",
      "nbconvert_exporter": "python",
      "pygments_lexer": "ipython3",
      "version": "3.8.3"
    },
    "colab": {
      "provenance": [],
      "toc_visible": true,
      "include_colab_link": true
    }
  },
  "nbformat": 4,
  "nbformat_minor": 0
}