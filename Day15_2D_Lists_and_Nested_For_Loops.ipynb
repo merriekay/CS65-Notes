{
  "cells": [
    {
      "cell_type": "markdown",
      "metadata": {
        "id": "view-in-github",
        "colab_type": "text"
      },
      "source": [
        "<a href=\"https://colab.research.google.com/github/merriekay/CS65-Notes/blob/main/Day15_2D_Lists_and_Nested_For_Loops.ipynb\" target=\"_parent\"><img src=\"https://colab.research.google.com/assets/colab-badge.svg\" alt=\"Open In Colab\"/></a>"
      ]
    },
    {
      "cell_type": "markdown",
      "metadata": {
        "id": "fPb9xBt3ttbR"
      },
      "source": [
        "# Day15: 2D Lists and Nested For Loops\n",
        "#### CS65: Introduction to Computer Science I\n",
        "Monday, October 31st, 2022 👻🎃💀"
      ]
    },
    {
      "cell_type": "markdown",
      "metadata": {
        "id": "hyRtOkZdttbU"
      },
      "source": [
        "## Admin Stuff:\n",
        "\n",
        "You should be working on:\n",
        "- [Lab 11: Advanced Functions](https://github.com/merriekay/CS65-Labs/blob/main/Lab_11_Advanced_Functions.ipynb) due Friday 10/28 by 11:59pm.\n",
        "    - Make sure your functions are __returning__ the solutions, not printing them\n",
        "    - I still have a lot of these missing... I'm happy to answer questions or give pushes in the right direction.\n",
        "- [Lab 12: For Loop Practice](https://github.com/merriekay/CS65-Labs/blob/main/Lab_12_For_Loop_Practice.ipynb), 1 challenge exercise __due to CodePost Monday 10/31 by 11:59pm__.\n",
        "    - File must be named `mathfunctions.py`, function must be named `factorial()`\n",
        "    - Make sure your function __returns__ the solution.\n",
        "- Quiz #3 is released today, due on Friday, November 4th, by 11:59pm"
      ]
    },
    {
      "cell_type": "markdown",
      "metadata": {
        "id": "D-wr1625ttbV"
      },
      "source": [
        "## Overview of Today:\n",
        "\n",
        "Review For Loops: \n",
        "- difference between using `for element in list:` and `for index in range(len(list)):`\n",
        "- review of the `range()` function\n",
        "\n",
        "New Material:\n",
        "- building lists with __list comprehensions__\n",
        "- Print formatting using `end=__`\n",
        "- Nested Loops\n",
        "- Nested Loops with 2D lists\n"
      ]
    },
    {
      "cell_type": "markdown",
      "metadata": {
        "id": "YPcK5pRgttbV"
      },
      "source": [
        "## Quick Review\n",
        "\n",
        "In [Day14 Notes](https://github.com/merriekay/CS65-Notes/blob/main/Day14_Functions_and_Intro_to_For_Loops.ipynb), we covered:\n",
        "- __default parameters__\n",
        "- __keyword arguments__\n",
        "- introduction to `for` loops. \n",
        "- the `range()` function"
      ]
    },
    {
      "cell_type": "code",
      "execution_count": null,
      "metadata": {
        "id": "jB84GIhittbW",
        "outputId": "c93a7547-a3d0-4a41-e5e5-71639d5b68cf"
      },
      "outputs": [
        {
          "name": "stdout",
          "output_type": "stream",
          "text": [
            "Happy Halloween! You get a... \n",
            "- Snickers\n",
            "- Jolly Rancher\n",
            "- Three Muskateers\n",
            "- Tootsie Roll\n",
            "- M&Ms\n"
          ]
        }
      ],
      "source": [
        "import random\n",
        "def trick_or_treat(candy_list, halloween=True):\n",
        "    \n",
        "    if halloween:\n",
        "        print(\"Happy Halloween! You get a... \")\n",
        "        num_pieces = random.randint(1,5)\n",
        "        \n",
        "        random.shuffle(candy_list)\n",
        "        for piece in range(num_pieces):\n",
        "            print('-',candy_list[piece])\n",
        "\n",
        "    else:\n",
        "        print(\"It's not Halloween, silly.\")\n",
        "\n",
        "types_of_candy =  [\"Reese's Pumpkin\", \"Jolly Rancher\", \"Tootsie Roll\", \"Snickers\", \"Three Muskateers\", \"M&Ms\", \"Milky Way\"]\n",
        "\n",
        "trick_or_treat(types_of_candy)"
      ]
    },
    {
      "cell_type": "markdown",
      "metadata": {
        "id": "DhvuFb8zttbY"
      },
      "source": [
        "###  Review Exercise #1: \n",
        "- are there any `default parameters` or `keyword arguments`? If so, what are they?\n",
        "- How could you change this so it __returns__ what candy you get rather than printing it?\n",
        "- Write a docstring for the above function."
      ]
    },
    {
      "cell_type": "markdown",
      "metadata": {
        "id": "86GV8uFqttbY"
      },
      "source": [
        "## Group Review Exercise #2\n",
        "What will each of the following do?"
      ]
    },
    {
      "cell_type": "code",
      "execution_count": null,
      "metadata": {
        "id": "0teqiCK5ttbY"
      },
      "outputs": [],
      "source": [
        "# 1\n",
        "for x in range(3):\n",
        "    print(x)"
      ]
    },
    {
      "cell_type": "code",
      "execution_count": null,
      "metadata": {
        "id": "DdHd_rK4ttbZ"
      },
      "outputs": [],
      "source": [
        "# 2\n",
        "animals = ['cat', 'dog', 'zebra']\n",
        "for animal in animals:\n",
        "    print(animals)"
      ]
    },
    {
      "cell_type": "code",
      "execution_count": null,
      "metadata": {
        "id": "3GYOhJyPttbZ"
      },
      "outputs": [],
      "source": [
        "# 3\n",
        "animals = ['cat', 'dog', 'zebra']\n",
        "for animal in range(len(animals)):\n",
        "    print(animal)"
      ]
    },
    {
      "cell_type": "code",
      "execution_count": null,
      "metadata": {
        "id": "-nnitjovttbZ"
      },
      "outputs": [],
      "source": [
        "# 4\n",
        "for i in range(250,-101, -50):\n",
        "    print(i)"
      ]
    },
    {
      "cell_type": "code",
      "execution_count": null,
      "metadata": {
        "id": "zFnzoHAXttba"
      },
      "outputs": [],
      "source": [
        "#5 \n",
        "for i in range(1,10):\n",
        "    print(\"This is iteration\",i)"
      ]
    },
    {
      "cell_type": "markdown",
      "metadata": {
        "id": "XYoxuYMqttba"
      },
      "source": [
        "# Where we left off:\n",
        "## Using for loops with `range()` and lists\n",
        "\n",
        "`range()` is often used with a `for` loop when you prefer to access the items using an index\n",
        "\n",
        "For example, consider this while loop we wrote in a previous lab."
      ]
    },
    {
      "cell_type": "code",
      "execution_count": null,
      "metadata": {
        "id": "ZWUd13Ktttba"
      },
      "outputs": [],
      "source": [
        "# what will this code do?\n",
        "for index in range(len(temperatures)):\n",
        "    print(index)"
      ]
    },
    {
      "cell_type": "code",
      "execution_count": null,
      "metadata": {
        "id": "ZVvHasiGttbb",
        "outputId": "dc0576fa-37dd-4e4d-987d-ebeb9d808be2"
      },
      "outputs": [
        {
          "name": "stdout",
          "output_type": "stream",
          "text": [
            "Day 3  had a negative temperature\n",
            "Day 4  had a negative temperature\n",
            "Day 5  had a negative temperature\n",
            "Day 6  had a negative temperature\n"
          ]
        }
      ],
      "source": [
        "temperatures = [30, 20, 2, -5, -15, -8, -1, 0, 5, 35]\n",
        "num_elements = len(temperatures)\n",
        "\n",
        "for index in range(num_elements):\n",
        "    if temperatures[index] < 0:\n",
        "        print(\"Day\", index, \" had a negative temperature\")"
      ]
    },
    {
      "cell_type": "markdown",
      "metadata": {
        "id": "HUkpjnVmttbb"
      },
      "source": [
        "# Group Exercise #3:\n",
        "Use a for loop with the `range()` function to print out the elements with odd indices in the following list:\n",
        "\n",
        "`types_of_candy =  [\"Reese's Pumpkin\", \"Jolly Rancher\", \"Tootsie Roll\", \"Snickers\", \"Three Muskateers\", \"M&Ms\", \"Milky Way\"]`\n",
        "\n",
        "The output should look like:\n",
        "\n",
        "`Jolly Rancher`\n",
        "\n",
        "`Snickers`\n",
        "\n",
        "`M&Ms`"
      ]
    },
    {
      "cell_type": "code",
      "execution_count": null,
      "metadata": {
        "id": "hP1aZ4B-ttbb"
      },
      "outputs": [],
      "source": [
        "types_of_candy =  [\"Reese's Pumpkin\", \"Jolly Rancher\", \"Tootsie Roll\", \"Snickers\", \"Three Muskateers\", \"M&Ms\", \"Milky Way\"]\n",
        "\n"
      ]
    },
    {
      "cell_type": "markdown",
      "metadata": {
        "id": "B_409nysttbb"
      },
      "source": [
        "## Group Exercise #4:\n",
        "\n",
        "Use a for loop with the range function to buid the list:\n",
        "\n",
        "`[-3, -2, -1, 0, 1, 2, 3, 4, 5, 6]`"
      ]
    },
    {
      "cell_type": "code",
      "execution_count": null,
      "metadata": {
        "id": "paI2TtTOttbc",
        "outputId": "72d17b9e-3e51-4f91-b10b-562af5da07db"
      },
      "outputs": [
        {
          "name": "stdout",
          "output_type": "stream",
          "text": [
            "[-3, -2, -1, 0, 1, 2, 3, 4, 5, 6]\n",
            "[-3, -2, -1, 0, 1, 2, 3, 4, 5, 6]\n"
          ]
        }
      ],
      "source": [
        "my_list = [] \n",
        "for i in range(10):\n",
        "    my_list.append(i-3)\n",
        "    \n",
        "#or\n",
        "my_list2 = []\n",
        "for i in range(-3, 7):\n",
        "    my_list2.append(i)\n",
        "print(my_list)\n",
        "print(my_list2)"
      ]
    },
    {
      "cell_type": "markdown",
      "metadata": {
        "id": "_D__q8Ozttbc"
      },
      "source": [
        "## New Material:\n"
      ]
    },
    {
      "cell_type": "markdown",
      "metadata": {
        "id": "6Siv6IH0ttbc"
      },
      "source": [
        "# List Comprehension:\n",
        "__List comprehensions__ provide a concise way to create lists.\n",
        "- It consists of brackets `[ ]` containing an expression `( )` followed by a for clause `for __ in _____`\n",
        "    - `result = [(expression) for ____ in _____]`\n",
        "\n",
        "We can create the list we just made in the previous exercise in one line."
      ]
    },
    {
      "cell_type": "code",
      "execution_count": null,
      "metadata": {
        "id": "B2bdDVHlttbc",
        "outputId": "ad206bc6-98a3-4d12-a538-7168531ea04d"
      },
      "outputs": [
        {
          "name": "stdout",
          "output_type": "stream",
          "text": [
            "[-3, -2, -1, 0, 1, 2, 3, 4, 5, 6]\n",
            "[-3, -2, -1, 0, 1, 2, 3, 4, 5, 6]\n"
          ]
        }
      ],
      "source": [
        "#list comprehnsion\n",
        "my_int_list = [(x-3) for x in range(10)]\n",
        "\n",
        "#or\n",
        "\n",
        "my_int_list2 = [(x) for x in range(-3,7)]\n",
        "print(my_list)\n",
        "print(my_list2)"
      ]
    },
    {
      "cell_type": "markdown",
      "metadata": {
        "id": "L7buXpcrttbd"
      },
      "source": [
        "# Group Exercise #4:\n",
        "\n",
        "Use list comprehension to build the following list:\n",
        "\n",
        "`[100, 75, 25, 0]`"
      ]
    },
    {
      "cell_type": "code",
      "execution_count": null,
      "metadata": {
        "id": "MwuS7DPbttbd"
      },
      "outputs": [],
      "source": []
    },
    {
      "cell_type": "markdown",
      "metadata": {
        "id": "c7uUjE5xttbd"
      },
      "source": [
        "## Print formatting Note:\n",
        "We talked about one of the arguments you can pass to `print()` a few lectures ago.\n",
        "- `sep` is the argument that dictates what separates the thing we put in a print function\n",
        "    - be deafult, `sep=' '`\n",
        "- `end` is the argument that sets what should be put at the end of a print statement.\n",
        "    - by default, `end='\\n'`\n",
        "\n",
        "\n",
        "Example:"
      ]
    },
    {
      "cell_type": "code",
      "execution_count": null,
      "metadata": {
        "id": "CW32b7pjttbd",
        "outputId": "0bf2ee01-12b2-472d-e20b-137b68b1708b"
      },
      "outputs": [
        {
          "name": "stdout",
          "output_type": "stream",
          "text": [
            "Happy Halloween! Trick or Treat!\n",
            "We went to 100 houses.\n",
            "trick or treat "
          ]
        }
      ],
      "source": [
        "num_houses = 100\n",
        "print(\"Happy Halloween!\", end =' ')\n",
        "print(\"Trick or Treat!\")\n",
        "print(\"We went to \", num_houses, ' houses.', sep='')\n",
        "\n",
        "my_list = ['trick', 'or', 'treat']\n",
        "for word in my_list:\n",
        "    print(word, end=' ')"
      ]
    },
    {
      "cell_type": "markdown",
      "metadata": {
        "id": "otQYPaxGttbd"
      },
      "source": [
        "# Nested Loops\n",
        "__Nested Loop__: A loop that is contained inside of another loop.\n",
        "\n",
        "Let's start here... what will the following loop output?"
      ]
    },
    {
      "cell_type": "code",
      "execution_count": null,
      "metadata": {
        "id": "13jcREjWttbe",
        "outputId": "f294a9d2-9de3-4f4b-a0e8-0f8bf91182a9"
      },
      "outputs": [
        {
          "name": "stdout",
          "output_type": "stream",
          "text": [
            "01234"
          ]
        }
      ],
      "source": [
        "for col in range(5):\n",
        "    print(col, end='')"
      ]
    },
    {
      "cell_type": "markdown",
      "metadata": {
        "id": "fez9CFiqttbe"
      },
      "source": [
        "Now... what will happen if we put that loop inside of another loop, like so?"
      ]
    },
    {
      "cell_type": "code",
      "execution_count": null,
      "metadata": {
        "id": "sgNha4tittbe"
      },
      "outputs": [],
      "source": [
        "for row in range(3): \n",
        "    \n",
        "    for col in range(5): #this is the same loop we just saw above\n",
        "        print(col, end=\"\")\n",
        "        \n",
        "    print()"
      ]
    },
    {
      "cell_type": "markdown",
      "metadata": {
        "id": "iBHzFv6Nttbe"
      },
      "source": [
        "### Whiteboard."
      ]
    },
    {
      "cell_type": "code",
      "execution_count": null,
      "metadata": {
        "id": "V3HryuT-ttbe",
        "outputId": "24d434bb-7504-4d64-f301-e02a103c15ad"
      },
      "outputs": [
        {
          "name": "stdout",
          "output_type": "stream",
          "text": [
            "Enter number of rows: 3\n",
            "Enter number of cols: 3\n",
            "X X X \n",
            "X X X \n",
            "X X X \n"
          ]
        }
      ],
      "source": [
        "num_rows = int(input(\"Enter number of rows: \"))\n",
        "num_cols = int(input(\"Enter number of cols: \"))\n",
        "\n",
        "for row in range(num_rows):\n",
        "    for col in range(num_cols):\n",
        "        print(\"X\", end=\" \")\n",
        "    print() #adds a new line"
      ]
    },
    {
      "cell_type": "markdown",
      "metadata": {
        "id": "0ErCtiNqttbf"
      },
      "source": [
        "## Nested Loops Key Points:\n",
        "\n",
        "- the inner loop goes through all of ites iteations for each iteration of the outer loop.\n",
        "- inner loops complete their iterations faster than outer loops. "
      ]
    },
    {
      "cell_type": "code",
      "execution_count": null,
      "metadata": {
        "id": "6hR2ES-1ttbf",
        "outputId": "14f4313f-687e-44a5-9043-d4e044dec821"
      },
      "outputs": [
        {
          "name": "stdout",
          "output_type": "stream",
          "text": [
            "1 : 0\n",
            "1 : 1\n",
            "1 : 2\n",
            "1 : 3\n",
            "1 : 4\n",
            "2 : 0\n",
            "2 : 1\n",
            "2 : 2\n",
            "2 : 3\n",
            "2 : 4\n",
            "3 : 0\n",
            "3 : 1\n",
            "3 : 2\n",
            "3 : 3\n",
            "3 : 4\n"
          ]
        }
      ],
      "source": [
        "for minute in range(1,4):\n",
        "    for second in range(5):\n",
        "        print(minute, \":\", second)"
      ]
    },
    {
      "cell_type": "markdown",
      "metadata": {
        "id": "-k90c7dZttbf"
      },
      "source": [
        "# Nested Loops work really well with Nested Lists (2D lists)\n"
      ]
    },
    {
      "cell_type": "markdown",
      "metadata": {
        "id": "t61CuU9Gttbf"
      },
      "source": [
        "## 2D List Review\n",
        "__nested list__: a list of lists, or in other words, a 2-dimensional list."
      ]
    },
    {
      "cell_type": "code",
      "execution_count": null,
      "metadata": {
        "id": "yXQfokLVttbf"
      },
      "outputs": [],
      "source": [
        "my_matrix = [[1,2,3,4,], [5,6,7,8], [9,10,11,12]]\n",
        "#or\n",
        "my_matrix = [[1,2,3,4,], \n",
        "             [5,6,7,8], \n",
        "             [9,10,11,12]]"
      ]
    },
    {
      "cell_type": "markdown",
      "metadata": {
        "id": "8Dda-iJVttbf"
      },
      "source": [
        "Accessing an element in a two-dimensional list requires two sets of brackets.\n",
        "- the first one is the index into the __row__\n",
        "- the second one is the index into the __columns__."
      ]
    },
    {
      "cell_type": "code",
      "execution_count": null,
      "metadata": {
        "id": "BfdJwTrattbg"
      },
      "outputs": [],
      "source": [
        "value = my_matrix[1][0]"
      ]
    },
    {
      "cell_type": "markdown",
      "metadata": {
        "id": "yIJ4xNqlttbg"
      },
      "source": [
        "# Group Exercise #3:\n",
        "Print out the sum of the list:\n",
        "\n",
        "`scores = [1,2,3,4]`\n",
        "\n",
        "Can you do it using a loop?"
      ]
    },
    {
      "cell_type": "markdown",
      "metadata": {
        "id": "u8luDjzQttbg"
      },
      "source": [
        "# Group Exercise #4:\n",
        "\n",
        "Use a nested for loop to print out the sum of each row of this 2D list:\n",
        "\n",
        "The output should look like: \n",
        "\n",
        "`row 0 has sum 10`\n",
        "\n",
        "`row 1 has sum 26`\n",
        "\n",
        "`row 2 has sum 42`"
      ]
    },
    {
      "cell_type": "code",
      "execution_count": null,
      "metadata": {
        "id": "1W_oCWzDttbg"
      },
      "outputs": [],
      "source": [
        "scores = [[1,2,3,4], [5,6,7,8],[9,10,11,12]]"
      ]
    },
    {
      "cell_type": "markdown",
      "metadata": {
        "id": "QZsXE2rYttbg"
      },
      "source": [
        "# Group Exercise #5:\n",
        "\n",
        "Use a nested for loop to print out the sum or each __column__ of this 2D list.\n",
        "\n",
        "The output should look like:\n",
        "\n",
        "`col 0 has sum 15`\n",
        "\n",
        "`col 1 has sum 18`\n",
        "\n",
        "`col 2 has sum 21`\n",
        "\n",
        "`col 3 has sum 24`\n",
        "\n",
        "> Hint: the inner loop runs more than the outer loop... so what might you need to switch here?"
      ]
    },
    {
      "cell_type": "markdown",
      "metadata": {
        "id": "_NjXW7mtttbh"
      },
      "source": [
        "## Admin Stuff:\n",
        "\n",
        "You should be working on:\n",
        "- [Lab 11: Advanced Functions](https://github.com/merriekay/CS65-Labs/blob/main/Lab_11_Advanced_Functions.ipynb) due Friday 10/28 by 11:59pm.\n",
        "    - Make sure your functions are __returning__ the solutions, not printing them\n",
        "    - I still have a lot of these missing... I'm happy to answer questions or give pushes in the right direction.\n",
        "- [Lab 12: For Loop Practice](https://github.com/merriekay/CS65-Labs/blob/main/Lab_12_For_Loop_Practice.ipynb), 1 challenge exercise __due to CodePost Monday 10/31 by 11:59pm__.\n",
        "    - File must be named `mathfunctions.py`, function must be named `factorial()`\n",
        "    - Make sure your function __returns__ the solution.\n",
        "- Quiz #3 is released today, due on Friday, November 4th, by 11:59pm"
      ]
    }
  ],
  "metadata": {
    "celltoolbar": "Slideshow",
    "kernelspec": {
      "display_name": "Python 3",
      "language": "python",
      "name": "python3"
    },
    "language_info": {
      "codemirror_mode": {
        "name": "ipython",
        "version": 3
      },
      "file_extension": ".py",
      "mimetype": "text/x-python",
      "name": "python",
      "nbconvert_exporter": "python",
      "pygments_lexer": "ipython3",
      "version": "3.8.3"
    },
    "colab": {
      "provenance": [],
      "include_colab_link": true
    }
  },
  "nbformat": 4,
  "nbformat_minor": 0
}