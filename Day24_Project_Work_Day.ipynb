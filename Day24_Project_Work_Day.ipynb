{
  "cells": [
    {
      "cell_type": "markdown",
      "metadata": {
        "id": "view-in-github",
        "colab_type": "text"
      },
      "source": [
        "<a href=\"https://colab.research.google.com/github/merriekay/CS65-Notes/blob/main/Day24_Project_Work_Day.ipynb\" target=\"_parent\"><img src=\"https://colab.research.google.com/assets/colab-badge.svg\" alt=\"Open In Colab\"/></a>"
      ]
    },
    {
      "cell_type": "markdown",
      "metadata": {
        "id": "Yr5-dBgzJ2KO"
      },
      "source": [
        "# Day24: Project Work Day\n",
        "#### CS65: Introduction to Computer Science I\n",
        "\n",
        "__Date__: Monday, December 5th, 2022"
      ]
    },
    {
      "cell_type": "markdown",
      "metadata": {
        "id": "eYbptZJeJ2KR"
      },
      "source": [
        "## Attendance Question:"
      ]
    },
    {
      "cell_type": "markdown",
      "metadata": {
        "id": "i39VgPVQJ2KR"
      },
      "source": [
        "## Admin Stuff\n",
        "\n",
        "[Course Evaluations](https://drake.qualtrics.com/jfe/form/SV_5C7sDpd4dNygrxc):\n",
        "- URL: https://drake.qualtrics.com/jfe/form/SV_5C7sDpd4dNygrxc \n",
        "\n",
        "\n",
        "I'll leave the room for 10 minutes, and be back at [__insert time here__]. \n",
        "\n"
      ]
    },
    {
      "cell_type": "markdown",
      "metadata": {
        "id": "TzlK13OnJ2KS"
      },
      "source": [
        "## Final Project Presentations\n",
        "\n",
        "__Details__:\n",
        "- Wednesday, December 7th, 2022\n",
        "- Everyone who can join in person, please do so. \n",
        "- Everyone in class will be asked to join the [Zoom session](https://drake-edu.zoom.us/j/83479615507?pwd=M0czTGptbFBzVmw5ZFl3c2lXYmRJUT09) (even though we'll all be in the same room)\n",
        "- When it is your turn to present, you'll be asked to share your screen and give up a **quick** walkthrough of your project. Mainly a demo. \n",
        "\n",
        "\n"
      ]
    },
    {
      "cell_type": "markdown",
      "metadata": {
        "id": "NnIiNdP3J2KS"
      },
      "source": [
        "## 💥 Collision Code\n",
        "\n",
        "If you're interested in how this works, let's go through it on the board."
      ]
    },
    {
      "cell_type": "code",
      "execution_count": null,
      "metadata": {
        "id": "LDwmJ-piJ2KT"
      },
      "outputs": [],
      "source": [
        "from graphics import *\n",
        "\n",
        "score = 0\n",
        "scored = False\n",
        "win = GraphWin(\"Moving a Circle\", 500, 500)\n",
        "win.setCoords(0,0,1,1)\n",
        "\n",
        "#i'm purposeless defining these objects with the 'smaller' point first.\n",
        "rect = Rectangle( Point(0.5,0.5),Point(0.75, 0.75))\n",
        "rect.setFill('green')\n",
        "rect.draw(win)\n",
        "\n",
        "#creates a red circle on the window\n",
        "circ = Circle(Point(0.25,0.25), 0.05)\n",
        "circ.setFill(\"red\")\n",
        "circ.draw(win)\n",
        "\n",
        "score_str = \"Score: \"+str(score)\n",
        "score_text = Text(Point(0.1,0.1), score_str)\n",
        "score_text.setSize(20)\n",
        "score_text.draw(win)\n",
        "\n",
        "def check_collision(circ, rect):\n",
        "    #https://mcsp.wartburg.edu/zelle/python/graphics/graphics/node7.html\n",
        "    #getP1() and getP2() return the circle's bounding box.\n",
        "    \n",
        "    cp1x = circ.getP1().getX()\n",
        "    cp1y = circ.getP1().getY()\n",
        "    cp2x = circ.getP2().getX()\n",
        "    cp2y = circ.getP2().getY()\n",
        "    \n",
        "    rp1x = rect.getP1().getX()\n",
        "    rp1y = rect.getP1().getY()\n",
        "    rp2x = rect.getP2().getX()\n",
        "    rp2y = rect.getP2().getY()\n",
        "    \n",
        "    #check to see if the circle collides with the rect\n",
        "    #rectangle is fixed in this case\n",
        "    if cp2x > rp1x and cp1x < rp2x:\n",
        "        if cp2y > rp1y and cp1y < rp2y:\n",
        "            print(\"Collision!\")\n",
        "            return True\n",
        "    else:\n",
        "        return False\n",
        "\n",
        "def update_score(score):\n",
        "    score +=1\n",
        "    score_str = \"Score: \"+str(score)\n",
        "    score_text.setText(score_str)\n",
        "    return score\n",
        "\n",
        "#while the user doesn't close the window... \n",
        "while win.isOpen():\n",
        "    #check if the user just pressed an arrow key\n",
        "    # and if so, move the circle in that direction.\n",
        "    key = win.getKey()\n",
        "    print(key)\n",
        "    if check_collision(circ, rect):\n",
        "        rect.setFill('cyan')\n",
        "        if scored == False:\n",
        "            score = update_score(score)\n",
        "            scored = True\n",
        "    else:\n",
        "        rect.setFill('green')\n",
        "        scored = False\n",
        "    \n",
        "    if key == 'Up' or key == 'w':\n",
        "        circ.move(-0,0.05)\n",
        "    elif key == 'Down' or key == 's':\n",
        "        circ.move(0,-0.05)\n",
        "    elif key == 'Right' or key == 'd':\n",
        "        circ.move(0.05,0)\n",
        "    elif key == 'Left' or key == 'a':\n",
        "        circ.move(-0.05,0)\n"
      ]
    },
    {
      "cell_type": "markdown",
      "metadata": {
        "id": "bUaxOC7IJ2KU"
      },
      "source": [
        "## Collision Code Explanation\n",
        "\n",
        "[Here's a link to the images](https://docs.google.com/drawings/d/1yrk1ucuAvlErz3PVNj8Zy-7ffFzsCCZ28fjZMTThIFQ/edit?usp=sharing)\n",
        "\n",
        "So, we have two shapes:\n",
        "- we can use `circ.getP1()` and `circ.getP2()` to get the bounding box around a circle\n",
        "- we can use `rect.getp1()` and `rect.getP2()` to get the corners of a rectangle. "
      ]
    },
    {
      "cell_type": "markdown",
      "metadata": {
        "id": "Iyw9Hse-J2KV"
      },
      "source": [
        "We can infer the Points on the other corners since we have the x and y components from both `P1` and `P2`, like so:"
      ]
    },
    {
      "cell_type": "markdown",
      "metadata": {
        "id": "bp2Wt4SvJ2KV"
      },
      "source": [
        "Next it's really just a matter of doing some nitty gritty if statements. I'd recommend taking it one dimension at a time. Let's start with the `x` dimension:\n",
        "\n",
        "![image.png](data:image/png;base64,iVBORw0KGgoAAAANSUhEUgAAA4QAAACwCAYAAABXTaAdAAAMbGlDQ1BJQ0MgUHJvZmlsZQAASImVVwdYU8kWnluSkJDQAhGQEnoTRHqREkILICBVsBGSQEKJMSGI2NFFBdcuIljRVRFFV1dAFhWxYFsUe18sqCjroi6KovImJKDrvvK9831z58+ZM/8pdyZ3BgDNPq5EkoNqAZArzpPGhQUxJ6SkMklPAQGMBCjQApZcnkzCio2NAlCG+r/LuxsAUfRXHRVc/xz/r6LDF8h4ACCTIE7ny3i5EDcDgG/kSaR5ABAVeosZeRIFng+xrhQGCPFaBc5U4t0KnK7ETYM2CXFsiC8DoEblcqWZAGjcg3pmPi8T8mh8gthZzBeJAdAcBbE/T8jlQ6yIfVRu7jQFLofYFtpLIIbxAK/0bzgz/8afPszP5WYOY2Veg6IWLJJJcrgz/8/S/G/JzZEP+bCGjSqUhscp8oc1vJU9LVKBqRB3i9OjYxS1hrhPxFfWHQCUIpSHJyrtUSOejA3rBxgQO/O5wZEQG0EcKs6JjlLp0zNEoRyI4WpBC0R5nASI9SFeIpCFxKtstkqnxal8oXUZUjZLpT/LlQ76Vfh6IM9OZKn43wgFHBU/plEoTEiGmAKxZb4oKRpiDYidZNnxkSqbsYVCdvSQjVQep4jfEuI4gTgsSMmP5WdIQ+NU9iW5sqF8sa1CESdahQ/mCRPClfXBTvG4g/HDXLDLAjErcYhHIJsQNZQLXxAcoswdey4QJ8arePokeUFxyrk4RZITq7LHzQU5YQq9OcRusvx41Vw8KQ8uTiU/niHJi01QxokXZnEjYpXx4CtBFGCDYMAEctjSwTSQBURt3fXd8JdyJBRwgRRkAgFwVGmGZiQPjojhMx4Ugj8gEgDZ8LygwVEByIf6z8Na5dMRZAyO5g/OyAZPIc4FkSAH/pYPzhIPe0sCT6BG9A/vXNh4MN4c2BTj/14/pP2qYUFNlEojH/LI1ByyJIYQg4nhxFCiHW6I++O+eBR8BsLmgnvh3kN5fLUnPCW0Ex4RrhM6CLenioqk30U5DnRA/lBVLdK/rQVuDTnd8SDcD7JDZpyBGwJH3A36YeEB0LM71LJVcSuqwvyO+28ZfPM2VHZkZzJKHkEOJNt+P1PDXsN9mEVR62/ro4w1fbje7OGR7/2zv6k+H/aR31tiS7BDWCt2AjuHNWH1gIkdxxqwi9hRBR5eXU8GV9eQt7jBeLIhj+gf/oberKKSMuca5y7nT8qxPEFBnmLjsadJZkpFmcI8Jgt+HQRMjpjnNIrp4uziAoDiW6P8+3rLGPyGIIzzX3VFrQD4xQwMDDR91UUVAHAY7jHKm686m/UA0AQAnJ3Hk0vzlTpc8SDAfwlNuNMMgAmwALYwHxfgAXxBIAgBESAGJIAUMAVGL4TrXApmgNlgASgGpWAlWAcqwBawHewG+8BBUA+awAlwBlwAl8F1cBeunk7wEvSAd6AfQRASQkPoiAFiilghDogL4oX4IyFIFBKHpCBpSCYiRuTIbGQhUoqsRiqQbUg18jNyBDmBnEPakdvIQ6QLeYN8RDGUiuqixqg1Ohr1QlloJJqATkYz0eloIboIXY6Wo1XoXrQOPYFeQK+jHehLtBcDmDrGwMwwR8wLY2MxWCqWgUmxuVgJVoZVYbVYI3zPV7EOrBv7gBNxOs7EHeEKDscTcR4+HZ+LL8Mr8N14HX4Kv4o/xHvwLwQawYjgQPAhcAgTCJmEGYRiQhlhJ+Ew4TTcS52Ed0QikUG0IXrCvZhCzCLOIi4jbiLuJzYT24mPib0kEsmA5EDyI8WQuKQ8UjFpA2kv6TjpCqmT1Kemrmaq5qIWqpaqJlYrUitT26N2TO2K2jO1frIW2YrsQ44h88kzySvIO8iN5EvkTnI/RZtiQ/GjJFCyKAso5ZRaymnKPcpbdXV1c3Vv9fHqIvX56uXqB9TPqj9U/0DVodpT2dRJVDl1OXUXtZl6m/qWRqNZ0wJpqbQ82nJaNe0k7QGtT4Ou4aTB0eBrzNOo1KjTuKLxSpOsaaXJ0pyiWahZpnlI85JmtxZZy1qLrcXVmqtVqXVE66ZWrzZde4x2jHau9jLtPdrntJ/rkHSsdUJ0+DqLdLbrnNR5TMfoFnQ2nUdfSN9BP03v1CXq2uhydLN0S3X36bbp9ujp6LnpJekV6FXqHdXrYGAMawaHkcNYwTjIuMH4OMJ4BGuEYMTSEbUjrox4rz9SP1BfoF+iv1//uv5HA6ZBiEG2wSqDeoP7hrihveF4wxmGmw1PG3aP1B3pO5I3smTkwZF3jFAje6M4o1lG240uGvUamxiHGUuMNxifNO42YZgEmmSZrDU5ZtJlSjf1NxWZrjU9bvqCqcdkMXOY5cxTzB4zI7NwM7nZNrM2s35zG/NE8yLz/eb3LSgWXhYZFmstWix6LE0tx1nOtqyxvGNFtvKyElqtt2q1em9tY51svdi63vq5jb4Nx6bQpsbmni3NNsB2um2V7TU7op2XXbbdJrvL9qi9u73QvtL+kgPq4OEgctjk0D6KMMp7lHhU1aibjlRHlmO+Y43jQyeGU5RTkVO906vRlqNTR68a3Tr6i7O7c47zDue7Y3TGRIwpGtM45o2LvQvPpdLlmivNNdR1nmuD62s3BzeB22a3W+5093Hui91b3D97eHpIPWo9ujwtPdM8N3re9NL1ivVa5nXWm+Ad5D3Pu8n7g4+HT57PQZ8/fR19s333+D4fazNWMHbH2Md+5n5cv21+Hf5M/zT/rf4dAWYB3ICqgEeBFoH8wJ2Bz1h2rCzWXtarIOcgadDhoPdsH/YcdnMwFhwWXBLcFqITkhhSEfIg1Dw0M7QmtCfMPWxWWHM4ITwyfFX4TY4xh8ep5vREeEbMiTgVSY2Mj6yIfBRlHyWNahyHjosYt2bcvWiraHF0fQyI4cSsibkfaxM7PfbX8cTxseMrxz+NGxM3O641nh4/NX5P/LuEoIQVCXcTbRPliS1JmkmTkqqT3icHJ69O7pgwesKcCRdSDFNEKQ2ppNSk1J2pvRNDJq6b2DnJfVLxpBuTbSYXTD43xXBKzpSjUzWncqceSiOkJaftSfvEjeFWcXvTOekb03t4bN563kt+IH8tv0vgJ1gteJbhl7E643mmX+aazC5hgLBM2C1iiypEr7PCs7Zkvc+Oyd6VPZCTnLM/Vy03LfeIWEecLT41zWRawbR2iYOkWNIx3Wf6uuk90kjpThkimyxryNOFh/qLclv5D/KH+f75lfl9M5JmHCrQLhAXXJxpP3PpzGeFoYU/zcJn8Wa1zDabvWD2wzmsOdvmInPT57bMs5i3aF7n/LD5uxdQFmQv+K3IuWh10V8Lkxc2LjJeNH/R4x/Cfqgp1iiWFt9c7Lt4yxJ8iWhJ21LXpRuWfinhl5wvdS4tK/20jLfs/I9jfiz/cWB5xvK2FR4rNq8krhSvvLEqYNXu1dqrC1c/XjNuTd1a5tqStX+tm7ruXJlb2Zb1lPXy9R3lUeUNGyw3rNzwqUJYcb0yqHL/RqONSze+38TfdGVz4ObaLcZbSrd83Craemtb2La6Kuuqsu3E7fnbn+5I2tH6k9dP1TsNd5bu/LxLvKtjd9zuU9We1dV7jPasqEFr5DVdeyftvbwveF9DrWPttv2M/aUHwAH5gRc/p/1842DkwZZDXodqf7H6ZeNh+uGSOqRuZl1PvbC+oyGlof1IxJGWRt/Gw786/bqryayp8qje0RXHKMcWHRs4Xni8t1nS3H0i88Tjlqktd09OOHnt1PhTbacjT589E3rmZCur9fhZv7NN53zOHTnvdb7+gseFuovuFw//5v7b4TaPtrpLnpcaLntfbmwf237sSsCVE1eDr565xrl24Xr09fYbiTdu3Zx0s+MW/9bz2zm3X9/Jv9N/d/49wr2S+1r3yx4YPaj63e73/R0eHUcfBj+8+Cj+0d3HvMcvn8iefOpc9JT2tOyZ6bPq5y7Pm7pCuy6/mPii86XkZX938R/af2x8Zfvqlz8D/7zYM6Gn87X09cCbZW8N3u76y+2vlt7Y3gfvct/1vy/pM+jb/cHrQ+vH5I/P+md8In0q/2z3ufFL5Jd7A7kDAxKulDt4FMBgQzMyAHizC54TUgCgw3sbZaLyLjgoiPL+OojAf8LK++KgeABQCzvFMZ7dDMAB2Kznw6M77BVH+IRAgLq6DjeVyDJcXZRcVHgTIvQNDLw1BoDUCMBn6cBA/6aBgc87YLC3AWierryDKoQI7wxbgxXo9prJ88F3oryffpPj9z1QROAGvu//BbtIkHhyQ8K9AAAAimVYSWZNTQAqAAAACAAEARoABQAAAAEAAAA+ARsABQAAAAEAAABGASgAAwAAAAEAAgAAh2kABAAAAAEAAABOAAAAAAAAAJAAAAABAAAAkAAAAAEAA5KGAAcAAAASAAAAeKACAAQAAAABAAADhKADAAQAAAABAAAAsAAAAABBU0NJSQAAAFNjcmVlbnNob3QrVmDBAAAACXBIWXMAABYlAAAWJQFJUiTwAAAB1mlUWHRYTUw6Y29tLmFkb2JlLnhtcAAAAAAAPHg6eG1wbWV0YSB4bWxuczp4PSJhZG9iZTpuczptZXRhLyIgeDp4bXB0az0iWE1QIENvcmUgNi4wLjAiPgogICA8cmRmOlJERiB4bWxuczpyZGY9Imh0dHA6Ly93d3cudzMub3JnLzE5OTkvMDIvMjItcmRmLXN5bnRheC1ucyMiPgogICAgICA8cmRmOkRlc2NyaXB0aW9uIHJkZjphYm91dD0iIgogICAgICAgICAgICB4bWxuczpleGlmPSJodHRwOi8vbnMuYWRvYmUuY29tL2V4aWYvMS4wLyI+CiAgICAgICAgIDxleGlmOlBpeGVsWURpbWVuc2lvbj4xNzY8L2V4aWY6UGl4ZWxZRGltZW5zaW9uPgogICAgICAgICA8ZXhpZjpQaXhlbFhEaW1lbnNpb24+OTAwPC9leGlmOlBpeGVsWERpbWVuc2lvbj4KICAgICAgICAgPGV4aWY6VXNlckNvbW1lbnQ+U2NyZWVuc2hvdDwvZXhpZjpVc2VyQ29tbWVudD4KICAgICAgPC9yZGY6RGVzY3JpcHRpb24+CiAgIDwvcmRmOlJERj4KPC94OnhtcG1ldGE+Cm9Xy8AAAAAcaURPVAAAAAIAAAAAAAAAWAAAACgAAABYAAAAWAAAKfihw4ajAAApxElEQVR4AeydaYxdR3bfT6/ce+O+d5MS1yaphRJHQ2mibYbkDIwZZIIBbceIEwQ2HMRJAAdGPhhwjCAIECBxkA+JAwf5YMCAYhuCM+GE4lAj0ZSojSJFkc1FEpfmLq7dzW6y2Rs79av36vV9r5uL+OqJffn+Rb6+99WtqlvvX3XqnP+punUrhl0wBSEgBISAEBACQkAICAEhIASEgBAoOwQqRAjLrs31g4WAEBACQkAICAEhIASEgBAQAh4BEUJ1BCEgBISAEBACQkAICAEhIASEQJkikEcIBwYGbGhoKCoUVVVVVlNTE7VMVrn29/db7NWu1JP6xgzgCa4xQ0VFhdXW1hrHmEHtH7/9BwcHjU/MUFlZ6ds/ZpmUhUzduXMnarHV1dXGJ2agjtQ1dkCmwDZmUPur/SX/kv+YY0q5j/+yqWRTy6aOy6nC+CRCGJBwRxFCOQRiOwRECEQIRAhECBJqpujTcicEcgiVt0NQhFCEUIRQhDCnSDVDqBnCtMwQixCKEIoQihDmlFeEExFCrRBgNUPskJYVIiKEIoQihN8CIezt7TU+MQ0YZlxiLxmDENIhSrFkNPaSMQavmHiiBMKS0dgKAUxjLxksVfuXYskgM8Rq/7hLRtX+kv/Y4z9jVGyDgLG0FPLP2I8OiBkYo6hr7FCK8Z+2j73qolTtX4rHMNLU/qVwsqr90yP/5dz+2NSMqbEfwyqF/BdjU/EbGefuppPzloyeOHHCjh07Zu3t7dF0DcortkKACKJkYxNC6hmbEKC8YhsEdFrqGrvzUs/YhLBU7R+bZNPhy739wTS2TJV7+5dCpkol/2lp/1KMqaWS/1K1/90UejGKu9zbH0zToFOpY+z2L3ebCrlJS/uXSqcyVsXW/+VuU5Vi/C+m/Zubm2358uW2ePHiMVVFHiHcvXu3vf/++54QLlq0KIoXksEr9iDLL6Hjxu68pahrWuqZJkzTVFe1f2nkP7bjgj4l+U/HmEpblaL9UbSxg+Q/vvyXAlPaXe2fDvkvRfuXYuynT6mu6ZD/x739Wf1x5swZW7JkiW3cuNF/6J+FIY8Qbtu2zfbs2WM9PT328ssv2+TJkwvT67sQEAJCQAgIASEgBISAEBACQkAIjHMEbt26Zbt27bL6+npPBrds2TJmjUcRwra2NmtqarKtW7daXV3dmJkUKQSEgBAQAkJACAgBISAEhIAQEALjF4EbN27YG2+8YV1dXdba2moihOO3rVQzISAEhIAQEAJCQAgIASEgBIRAVARECKPCqcKEgBAQAkJACAgBISAEhIAQEALpQUCEMD1tpZoKASEgBISAEBACQkAICAEhIASiIiBCGBVOFSYEhIAQEAJCQAgIASEgBISAEEgPAiKE6Wkr1VQICAEhIASEgBAQAkJACAgBIRAVARHCqHCqMCEgBISAEBACQkAICAEhIASEQHoQECFMT1uppkJACAgBISAEhIAQEAJCQAgIgagIiBBGhVOFCQEhIASEgBAQAkJACAgBISAE0oOACGF62ko1FQJCQAgIASEgBISAEBACQkAIREVAhDAqnPmFDQ4O2pUrV6yvr8+mTp1qM2bMyE+gb0JACERD4M6dO3b79m3r7Oy0rq4u6+/v93LX2Njoj7W1tdHupYKEwKNCAL1y8eJFu3nzpi1ZssRqamqsoqLiUVVH9xUCQkAICIHHAIEHJoROCQ2H37t9+3Y7fPiwYWht3brV6urqwiUdswhgjHZ2dtgXX3zplfW8efO88n5UAA05Q3mgs8t9Om2go8MqKiutuqHBatyntqHeKidMeFRV030fMQIDN274fjHYczNXk9rpTTZx9uzc9/F+Mjw8bL29vXby5EnvgBkYGDDiqqurrdL1dZwxc+bMsQnq5+O9KVW/uyBAfx4aGrJLly7Z8ePHvcNj48aNNnHiRN/H75JN0UJACAgBISAE7otAIIQ41VevXm2bN28elaeqqsoqnLGVI4Rvv/22HT161Orr6x87QsgsQ/C2hiOIoIwJxJEmnCfT+Ej3BzJ4/fp1O3v2jB079oVNnz7dnnzySf8hTSiL88L84VphPGkfNgw5Q/nWmTN2w5H43lOn7eaXX1pl7QSbsnK5TVww3xqeesomOcJa4YxnhfJBYNgZl0O3blmX6xc9znHRd+my6xe1NtR7y6atWGbTv/tdq65v8HE4EEoZ6PfJvp/s/yE+3J/vXE+mwVC+fPmy7dq1yxYsWGA4YKZMmWIdHdfdWHXMGpzjo7W11WbOnBmKyctPZLhPstxcYp0IgSIQCH2LIpL9tzCe64V9mzh0Dnqlu7vbO2MvXLjgZ71fe+01TwhR0oRQXmEfvlu8z1TwZ+jOoA0M9tvQ8KBVVVZbbbUjnBWllf+CKuirEBAC3xICjC3oTz6cM5bwwZHKR6F8EAiEEP6ycuVK27Rp06gfjwOyLAghAtHT0+OX4LC8jNkFQhAYjizPueWMaM6ZbSBdofKFLJ8+fdqXhUAxg7p48eIcIWT2gnuRL5kfpc3yUvIEoRzVGg8RcWXX39nl7T+3zk/32ITZS81pepswa5bVzppuV9/bbvN//R/brO//0CY7cqhQPgj0X7tmX/+/t+zyjjdtsLPbOQWW2pTly+zanp3Wf/WCTV66zJp/9w+szg0MNfWlXQWAscuHwIATZI/vIR65QHb4jhxOmjQpJ3t4tM44p8exY8dsw4YNnhCSHjnbt+9TJ7O9foZw+fLlxpI7ZI8ySEMIMk75yHUwsP1F/RECRSBAH+TD+E5/Y1kzfY+xn/Gec/pf6Ns8XkBcMqCXzp07ZwcPHrRp06Z5YoicJAkhZQT9gfyEPsx9KZvroc8X6qyRew3b5a6L9tXFQ3al+6LNrltgqxett7pJDSNJdCYEhMBjgQBjA0vPebSJD4QA5+ksZx8ykYFTVaF8EBAhdG0NwWMZDgo3BIzCpqZGa25u9sYksw/XnAGNQseg5ENoamqyhQsX5i2b/dLNwOHJRWEjZChfZiyYJSRwDQ/v1atXbcWKFT4vBgOs/MSJE7Zo0aKoy9sw+jv2fmR3bvXYjFdet6qJk6zKGdPO7WvXP95jt9qPW8PT623hb/62r5/+lAcCN08et6N/9IdWMXGyNax9xhrWb7Aatwz89sUz1rHnPes6cMimtT5jC//hb9hURxRjh2CosswT2cJoxZDFUJ7tlqvOnz/ff8fBgoxyrcMtd8bQRaYmT55sS5c6EuuUFvKD0cyzgywN5VoIH3zwgVd6yCDyhoyhBDGseQaLsr7++mv/XBb3bnYyj1GuIARiIMC4jh6gb9JP6cvMVLPCBj1A/4UksuQ5kDj6MP0fpwcBhwf6gv7Poxo4HOnDSUJIuefPn/dpkB9myimPOPIiP/R/dNhYhLDj5lU7ePoju9DRbr39PS5NlU2unerURIUtmbXKnpjbavWTm2JAojKEQFkgMDx8xzpvXbfz105aT1+31U/MyM+cxgXWOHVktcqjAAP9i3P1888/9/YsNi8f4np6up0OnWLLli3zujA4Th9FPXXPbw+BsieEeE3b29s9GUTB4h1BUFDQHNetW+e9rmfPnvXpIIAYkgQUOOkQmqTyRvkTIIQYswgYCjoQQu5z6tQpb5hCJpk9JA1xKH6maikP4zRGaP9ff263vjpuU1e02vx/8FOrmpIxlu84A7z3wkX78j/8kVU6w2Hhb/2ue5ZwImuWYtxWZYxjBIZd29888YUd/49/7Ajf79isH/3EpiVI3/UPP7KLb75pNw59Zsv/+E+s6YXvRv81zGZgrCJ/OFgwjDFaMZwxliFmeCrff/99TxgxjlFYyBVyxwfDGVLHLDzyygdjl08wvj/++GNvBD/xxBPeSOb5K+5L2meeecanY3YRUogs4pARIYze3GVbIKSPPodeQL8Q0AfM1mGM4bygT4e+jXOEOAgdfZsA2QuEkXzMFFJekhBync1mmCVHT5EXmSItsgIJXbVqlZcFX2jiT3dvl527dsIOnnGy4mRn6sR6mzwho+cgiLVVE2zxzGW2funfS+TSqRAQAndDoNM5WI5/3WZdjhBe6f7a65uZ0+bZVTfzPr+pxZ6Ys8rmNi6+W/b7xqO/sF/RdUH3kQknUPgOkSMNupB0yZUH2Jw4mD766CM/NqD3sG0hg+x9gX5mRU1wzFJ20pkU7kH5xIs0glC6Q1kTQjo0nZ4ZBBQmRAyCRscOy88wIhEwZg/xyj7lnrfDaERhI0zvvfeeM1pnWkvLEj8LmOwOKOi2tjZ/jyQhJA0eW2YqMBYgiggnhjEKG0MgpkHa9q//mfWePWdzfvKbNu/Hv2ZVidkT6tL2B7/nZoMOuuWCT1vN9BkSbEB5zMOQc0rcvuCeKz30ga35r39uM1/5Qd4v7j133q7sesdO/uc/sdX/6b+Nup6X+CG/ID+QPWSp2ZG/lpYW3/eOHDniSSEkjxkN5JMZfIzc73znO954xmhmZhEZeumll7zSSioklBSOF+T41KmT3gBvbV3jZ1yQeYxm5A2jGTkNS8VZborSRHkqCIEYCDDGHzly2PXpG/bcc8/5fgwBRAfs3r3bO0EwvHAs0vdCv+ber776qpeJZH+k/+7fv38UISQ9ht/evXv9KhTIIA4V5InZcfQbcWOFL84ftFOXj9qEmkn29JKN1jB5ejZZZgnp7qPbrOPmZfuNF/+lf57QuVzyiyn4mrk4ZmRhzmw5BWnv+bXgYn5N/LdMikS6xOkYybN5HiBRyFwwPtw/Z36K/G+u0LyIvC/hjrnjyNWRs9zFcFJwaVR7hXQ6lgSBgaF+azvzif31x//Dpjnnyoy6eX75NXJ18KxbrXVnyJbPXWevrfn7zr6sds1f0GAPUCtW1KC7GBs458M5KwgYI/jOeMI59iX6Efln7MGmRT8yNqEHGXuam5tzdz106JB3LqFzGTfQpzhtmaTAMUtZ4f7EB6dWrgCdpBKBsiaEKE8My3379nkheeGFF7yXFqFCiCCJdH6W/ODhRXhef/11P3sRBArFjGDgRUGpJ8O9CCFChEHM7AX3QdAQvqeffjoncMmyijmHEA703LLF//T33dLANX6TkGR5I4TwGatxuzEmDetkOp0/PggMueWVty+cdYRwz5iEsOvzg3bh/7xpX7/5F9b6p38WnRDijGGG46233vJOEIgZ/Z+APCCbyBjKC6cLygsZw2FCPGmY5cOgRm5RZqQNgYGNWf22tkOeaHJ95sxZXmFyb4xxFCHGN7KIIwjFx3MT6v8BRR1jIIDeYKVIX99t+8EPNvn+hY6h/+9ymyDhLGTpM/2beB4pYOYQ3fTyyy/nZs5DXe5FCOnb6BXu195+yhmEtb5v42yBHN6tb7/b9rd26OwntmbhdwoIoSOZbpOZnQf/xj4//aG7vsGmuJnD6qrwjCOmrPvn7dn8c1gOv4eL/jI/wJ9nv3Oeu0ZcNt7cc71k8z84c5K7ytdsGZniSJVN6a9lngnOpfdX/YVsaZz7U3dw/1xZfK9w9+Q7//nj4/2Z/+Yz+PuSPvMtl8ad+GyZ/OQNeTLlZXJwNXMtc5VrXCGWQ0jF6Uh88py0/r+7nsmVKS+cZy/7MjPnIR1l8vuyIZc/3Ctc0DEWAqcuHbP9p963w+c/sa0v/HNjiWhVpXtm3bVD/+Bte/uQW31zq8M2rfuZzayfZzVV33w1GHbpV1995fTXgJP5zpxTEwcpYw6POWG/ouvoR0H2WRXDagHIIrqP8YTVCckVadi1rJjBkYRd2+50JWVC/Fg1R7lcZ8IDksn4xTimkG4EypoQQuQwKpktYCnP888/nxMaFCsfBAnFjeGIYL3yyiteKIjHKCUv8SjbtWvX5vWGexFCErIMiOU8zGJgzCJ4GMYIaszw5b//d9Z97Atr3LDRFv32b1l19vmoQWdkd+z91E7/z//iNg1pzC4ZnYCWiHl7lTUOEei/es06D+yz83/5Z/bEH/5bm/WDH9kE96qJEDr3f2aXd/7Sbp89ZYt/5/esfu26cCnKEdljeduvfvUrvwlMS0uLVzIUjtyFgJxBCFFcyEaYwcdjyazhjh07/LJP8oel3MgjO/xyZOnpokWLPdlMKjxkFwXHDCUEc8WK5bZmzdo8pRjqoKMQKAYB+hmGG30eh2IIYVdcjClWnYT31NLXP/vsM6+bmBHHUZLsu/cihJRNfmYF+aCDcJggN3ebHSTPLw/+tR09t89eW/1Ta5mzwpM+4kP45ed/ZXtP7LKWmSv8UlJ2H4VheB2ZTeSlduSPjUhxKCUTg3gHDeO0bLiYO2ZT+e/JsSCXoCDPyHAxUpY/G/lTmCNXFPcfqQvRLlO2mMxh5Hv2aiZN7i+xhJAumzkTmS0qG5c7jKThzN8/VMLny1C87Km7nnfR58jFZHV17vtIpsKS8svxGZIlZ0oIMYy7BP/dnebiqUvmUuZqMp3PkEjp02US55WXKzebNleGL4A/ufvm3TmXLlOHkTtl82WiXZbsPXMV5cLIvfKvjsT7G2fuPJKe75kM4UretcwtRmrik7oMlzrP2vWeK27GfaJ9f+1PrWFK/juoccCcvX7K1ix43lYscLu81449c5+p09h/0W+8/g3HEY5MZgaxHVn6iUOIFW3YlTiaWHHGuAGJQ9+xKo14QpAx2gi9ikOJGULSY9MyLhEHKcReZpUcj3ZgF7NyjtcT8OjGvcaXsX+BYscbAmVPCJlFYBMYDEeWiwUvCsoboxEhASRIGwLAEh68JMRzHaWLsOAdYVv7ZLgXIWQGBE8whJD8CPLcuXP9EjmEOAygyfIe9vz837xpV9/+pfVfv+SWjf7YpixdbpXVE+y2E+4ru3Za38VzNuPlV9yOkr//sLdQvpQhMOCe0+v8/IC1//c/tSlLnrT6ZzfY1CeWuXdUdqIh7JZTJr3nL1i9G/wbn3vWJiRe1xDjp7KEpZAQIlcEZA9lhHKC5EHaMHJbWlq8skNGkR+U286dO239+vXW3JyZIeT5QxQXx0mTJrqlMMv984WFThZkD2WG4kPWUKI4ZBgHYspeDKxURroRgBCytJk+jEMxhLsRQmTjwIEDXj4gc8HQC/nuRwiZTUen4cRETlgORv8OM/ChnOTx7478Xztyfp89tWij21X0ubxdRa91XzKuH7/U5q/XuY1lMjOEgc45WuM5Dk7UTKmZK/wN1/yw4i5mEmSu8zWcFRx9fMgbrlF2Js7H+KJGrmXiwnd3zLsevmfL8CUly0+U65MkyuE7vySUF47ZeH81c9H/nmzq7NX8cn2pPsoX4tKM3CcLjc+XLCN3nr1vSBBKCKDnvhcUlMkWrob7uVKyURyynCdb9Mg3f+b+ZGKy8Rx8Xi7kXcnPz+W8wgP5Ipk7L7jmMyfLzi8td69M7sTfTBUydfLnISKTJdM07n6F17LlZ0rK5MlVKVdEts4hbUEZI9HuAteyBVxzzwwODg36ZwU3rtjk5KkxJPXHfSffs7NXj9v0qXPsGbdEe8rEb76LdyCEHFnd0tLS4skeug6HEnoQffbss896HcgERGbVTJtfaROWqIeKMT6hFxmruro63SRJo7dpcUYxjjCOYe9C/EgLkeQcQshRejMgmd5jWRNCOjVKGeFhChxCyJGOzeYuzEBAzuj4eEb4JJeM8twRz2vgccEDywxGMtyLECKcGMQsV8UDwz0QxrE8wskyH+b8Zvtpu/TWz+3iX/2FDbr7Nn33NaueVO82FfnKbl86YdNf+r7N2vxr7r1zLzxM8cqTUgTCaycubfvffqfRaU+us263BKRygnvtwkT3nkqnYFr+1b9w5yNLMWP9VBQMsgehg4gxS4KXk8BSGJwkyATxe/bs8cth8GiGJaMYvSg3lly/+OKLXv5w0OAZpVxm7Hn+EEIZFBVHPtwb7ykGM+SSfCg98qBY8X6GPLF+r8opXwQCIaTfsQQ0hEAI6Xf0c/o3/Q6PP55/9AEOSHRQcFSS916EECcK/RoHJvoJEoiSx1jkefhCx0ioy+ftH9qB0+5Z+oFb9urqn7jNLhb5dxAODA3YwfaPPFmsdLtSb1776zarYa5/N2HIq2NxCASKxnjnBr1cYXzPfOPo/vlrIc4l89eJJ4tPkTvPZhyJJyKkzyR3X0dK9/lDOT5dtkzSeKLDxcy9MjUI50RnYjI3z14lXzY+pPdVCBXz10jjS6XkkXN3mv3iYjPvfOZ6Mo3P5dNl0nK7TJxP5c7v+N+Xic7GhTSZkjLp3Tn/8/IOu7xEuZCHUfL3cO6zkjKX2p35SL9T77UeZz+6mb8fr/9H1jR1li+PPyzBPnJ2v52/3u5n4oshhBA0HEjoUGzQEMKST+KYDWQMwd7FUcp7xLFV0XVhrwrGJq6hU0+ePOH2scjYs0EnUy46FxsYZxX264IF890z0c/7MrCBFdKPQFkTQoQd5couSyhPFCaKk4B3BS/rmjVrvJJGwRLX2rrap2HN9SX3Iu9PPvnEmpubvYCFJT+hW9yNEKK0ETyEmVkRBBajlPshuBi9GAmxwp2BQfcCcvfM2Plzdsm9gsKP8LxouKrSJrc0W52b2ZzkjJFSGP6xfoPKiY9AeDH9xZ//3NhEZnjAzVo7Qjjj9dfcKyietSmLF1kNuyI6I7UUAafLhx9+6AkYigvZw/DFGEbhoIyQDQghs4Es62Y2EKcNxjS78kIecaJA/Jjxw8ESjGvigiHNEWMYuWWmH1kjL04gFGUoi+/cJ7lErxS/XWWWDwL3I4T0TXQPH/odjyHQ3+nnODsKnRN3I4QYdcjNBx+498263aLRS8wuot/o9xiBzBSOFa7cuGiH3SYY7xz5W798jddMzKybb5dvnPMzGY3OoG11y9vWL/2eJ4qFdRqrTMUVi0AgN9lyAu8Ys9jMxXsm8fkSKRKnXCr4mr3L2LHZi/l5fNJ7pw/5OBb8uuSlzHmuqMxJ7uvolAUxIylHzlySvC8hy+jI0TF3STtGwkzUsF27cckOn9tr+9vfs3/yyr+x2fULfCF3hofsinvPJ5s0Xb5xwdYufKGoGUIcoAR0Hs/7hQAhxLGE/iSecQV7F5t0+3b37mln7zFDGFYNMN6gA8+dO+scqSv9xoZs6pYkeoE0vvvuu95uRl+zSRZpNB4E5NN9LGtCSNNBzpgtwPOBRxaChoImHgOS6XCULMJy6tRJR9Rm54QLQ5LZBISRJaOFRuTdCCEzj5THVD8P6PKAL8vkMGgxBlDcKHOm+2OGO339fingHVdvQoUTZAz+2oZ6PysU814qKz0I9DrnxEB3jw0Pup3K3JLRSY6cTZg9y6rdMpBSBgxbjGWcLZwjP8gTHk/IIMYr5Iwlo8gKRi0fFBDKCTllR16UG+Qys5FGu8+DHCeVGUtacLJAPFmm3d19wynD6V6+UZTUAZmkDiz95v5ScqVs/fIp+36EECcg/Rp9Q59FFuj39O2kkRcQG4sQIgsoc2QAWSAveon+jPOD1SiUz4YS3C8pG5TLRhedN6/Z2WvH7fSVr/wGGNWVNXax67TNcjskLp6xzBbOWJo30xHqo6MQEAL5CPQN3HZy9KV77vZdq6mutXmNLTZ1Qp113LriZw95FcUs53B5aeWP3LJRp2urvvm+EehE5B09hazzyFEIEEKcpjybjD3J+IK9ytjwzjvv+DhW0OB0ggxiA2OvYouiI3GmoouTITyOwWQGExg4myCc3JexRSH9CJQ9IaQJIXzMGqC4MUZRlggEM348LIunhWU4EDaIGmkQLoQMYSBdeP4p2SUCyeMIuQu7MCGoCDPxCCVKG6OUWUoEHEEjbWxCmKybzoXAo0aAPo8soWCQB5QMSgjPJOSND4Yum8ogG8gDckc+ZAY5QR45Jz/yiVOH64UB+YTkQR7Z4AMlOnfuHE8KOUdR4qhB6TFTQ9kihIUo6vvDIMDyZ/QLTkbG+xCSS0YxqHBy0HdxXqBX0AGFRhl5kQEMOJQ3q0nIS1+l77MbNnqJvGHFCulweCJfzAqMRQhDnZi1OX35K+vtu2n9Q33W1XvNmmcsd9vmz3GbyUwNyXQUAkLgPgh093Yau43uO7XbvXqiwb/S5ZKbca+qqPLytHT2alu14Nn7lHL3y/cjhOhVZgBZ5cbSUOxcxgFW4LBcFBLJmMBOoVxD56H7IInoXcYUjnxwQpGXCQvGFcYy4ghsPINuLnQy3b3mujJeERAhTLQMyphOjhKmcweDMCxPgxiyKUBQ0hxDmkQxOhUCQuAbIoAxjJIJCigpVxBCruHpxFBGTkknBfQNQVbycYVAIISQNLzyGFX080DwxlVlVRkhIAS+MQKD7hnctjOf2q2+Huvt77HO3qt+Z9F5092M4UNsJJOswP0IIc4hnKWseGFswWHU7h57wqEEIYQA4kRlNhG9yhgEGQwB/YrzCDKJQ4sVNKw0YBk78RBOyCS7juJoZRJFId0IiBAWtF+YXUgapIWEEGEgJNMUFKOvQkAIfEMEkL2xZCpJCFE8pBkr3Te8nZILgUeKQJIQsjwaA42gvv1Im0U3FwLREGDGvX+gzzkx77htbtw/5/CZ4HZ4r3JLRHknYTHhfoSQVQTYqmwGw30heJA7CCKzfKyKYUNFloyie5ngwNEaAqtqWLLOstDwzH1z82L3rH9mCSr3Z8aQVTWsVOCZwmT+UI6O6UFAhPAB2orNJ867DVl4+SfvKgyE8AGyKokQEAJFIoAHE4XGc1EshZPBXCSgyj4uEECvfPrpp/5ZWTz0ePEVhIAQEAIPggDLPSFjBB6zSM7uoTMhehC6YK9CCMOjEywrJz+kjmOYCEneF4LI8nXGJe7D4x0Nbr+JKVOmeuLHajriefYQZxYzhNLNSQTTdy5C+ABtxvrq0PHx5IYlow+QVUmEgBAoEgGeXUBhoZjwcErpFAmoso8LBNArLNliAxkMumC4jYvKqRJCQAikFgEIIY848Uwgzqaw6Yses0htk34rFRch/FZg1k2EgBAQAkJACAgBISAEhEBpEeBdgRBCNo4Jr50o7R1V+uOAgAjh49CK+g1CQAgIASEgBISAEBACZY8AO2mzqo1n7nmVhFa1lX2XeCAARAgfCCYlEgJCQAgIASEgBISAEBAC4xsBdhTlmT+eGeR5QW32Mr7ba7zUToRwvLSE6iEEhIAQEAJCQAgIASEgBISAEPiWEXhgQuh2Isq97Xnnzp3+Beps8rB161b/QPy3XG/dTggIASEgBISAEBACQkAICAEhIASKRCAQwo6ODv+uyk2bNo0qkRnnCrfte44Q/uIXv7DDhw/7rWZFCEfhpQghIASEgBAQAkJACAgBISAEhEAqEAiEkOdPV69ebVu2bBlVb3Z5r3DbvucI4bZt26ytrc2ampo0QzgKLkUIASEgBISAEBACQkAICAEhIATSgUCSELa2to5JCPklIoTpaE/VUggIASEgBISAEBACQkAICAEh8MAIiBA+MFRKKASEgBAQAkJACAgBISAEhIAQeLwQECF8vNpTv0YICAEhIASEgBAQAkJACAgBIfDACIgQPjBUSigEhIAQEAJCQAgIASEgBISAEHi8EHhoQrh3716PBLvQTJ069fFCRb9GCAgBISAEhIAQEAJCQAgIASFQBgj09PTY9u3braqqyp577rkH21Rmx44d9s4779iZM2f81qS1tbVFQ8VWpqUIic1RoxWvuprFxlWYpgdTBEntH204yRWUFkzV/unQVaUaU9X+av+0jFWx60nfL5Vcxa5rWuqZJkzTVNeHaf++vj7/SsGWlhZ79dVX7fXXX+cnjwp5u4zyyokDBw7Y8ePHDTL4MDcuvENlZaXxiRkQMPf+xOjGK+w5xm9O/lbqOjQ0lIwq+pw6UtfYAUz5xAzl3v6lwLRU7U8/ja281P7xZUrtH39MZcwrxfgv+S+N/i+FTmWsiq3/1f5q/zTYVIx/adL/5Sz/D2NTYdf19/fbk08+aevWrbMVK1bQ5KNCHiG8fv26Xbt2zbq7u0clfNgIKl9dXf2w2cfMx48bGBgY81oxkdST+sYMdNxSdF7qGlt5DQ4OloQQqv3jOwRqampidlNfVinaHyM7tvNC8l9hpWh/xtTYDoFStD8GFn01dkjT+K/2j9/+YBpbp5ZK/6v909H+pdCppbKpqWs5j/+lkP/x1v51dXXW2Nho06ZNG1N95hFCDILY5AWDIPbgRaeF7cbuvNQztvEKnrHJK0or1gxusleo/eO3PwMCn5gBhRBjOXdhnZCp2N5MjOzYDgHqSF1jBzCN7RBS+6v9Jf9xHcKS//Ie/2VTyaaWTR1/QgB7SoQwYVWKEMohENshIEIgQiBCIEKQUDNFn8ohJIdQOTsERQhFCEUIRQhzilQzhJohTMsMsQihCKEIoQhhTnlFOBEhFCEUIYz7yJBWXWnVHTIVe8l4WlbdBbWkGcKAhDtqhlAzhJohjLupkJaMasmwlgxryXhCzRZ9qiWjWjKqGaK4M0SaZCnvSZYwKIsQBiTcUYRQhFCEUIQwMSQUfaoZYs0Qa4ZYM8RFDySJAsp9hlhLRrVkVA6BuA6BMLyIEAYk3FGEUIRQhFCEMDEkFH0qQihCKEIoQlj0QJIoQIRQG/Vhq8YMmiHUDCH9SYQwIVUihCKEIoQihIkhoehTEUIRQhFCEcKiB5JEASKEIoQihHqGNDEkRDsVIUxAKUIoQihCKEKYGBKKPhUhFCEUIRQhLHogSRQgQihCKEIoQpgYEqKdihAmoBQhFCEUIRQhTAwJRZ+KEIoQihCKEBY9kCQKECEUIRQhFCFMDAnRTkUIE1CKEIoQihCKECaGhKJPRQhFCEUIRQiLHkgSBYgQihCKEIoQJoaEaKcihAkoRQhFCEUIRQgTQ0LRpyKEIoQihCKERQ8kiQJECEUIRQhFCBNDQrTTCveC7+FQGi9ljP1iRnYv4hM7MCjGDqWoaykw5XfzLqbYoRR1LQWm/G61v9o/dv8vRV8thUzxuyX/8cd/YRofU8mUbCr6QMygMVU2NX0gdij38R8nQ0Vvb29OWom4ceOGnT9/PhrWgBzbQ0rlfOUjdwrqGbtTQFxiv5iZATb2e1jAlHrGJlq8M4hPzMBgENtDRv3U/uXd/shUbOOFGefYs86S/9LIf1raP006NU3jv9rfGYRlalOh/9X+5dv+adKpxYz/8+bNs4aGBrr7qDBx4sR8QohB3NbWZjt37hyV+GEjqHxsksWgBXGJPXiVoq7UMzbJovNS11IYr2nAtFTtj/ESG1O1f2nkPzbJYnxLU/vHdrLw+8E0LfKv9o/rZFP7l7f8l0qnlsKmoq6S/7jyn6b2T5NNVYq6PoxMYdf29fXZ5s2b7amnnrJJkyYx5OeFUYRwz549tnv3bjt06FBeQn0RAkJACAgBISAEhIAQEAJCQAgIgfQgcPv2bTtw4ID98Ic/tJ/97Gf2ve99b1TlRxHCt99+2/bv32/uuULbsGHDmCxyVCmKEAJCQAgIASEgBISAEBACQkAICIFxhUBPT49t27bNGhsb7cUXX7RNmzaNqt+YhPDo0aNWX19vW7dutbq6ulGZFCEEhIAQEAJCQAgIASEgBISAEBAC4xsB9oZ544037Pr167Zy5UoRwvHdXKqdEBACQkAICAEhIASEgBAQAkIgHgIihPGwVElCQAgIASEgBISAEBACQkAICIFUISBCmKrmUmWFgBAQAkJACAgBISAEhIAQEALxEBAhjIelShICQkAICAEhIASEgBAQAkJACKQKARHCVDWXKisEhIAQEAJCQAgIASEgBISAEIiHgAhhPCxVkhAQAkJACAgBISAEhIAQEAJCIFUIiBCmqrlUWSEgBISAEBACQkAICAEhIASEQDwERAjjYamShIAQEAJCQAgIASEgBISAEBACqUJAhDBVzaXKCgEhIASEgBAQAkJACAgBISAE4iEgQhgPS5UkBISAEBACQkAICAEhIASEgBBIFQIihKlqLlVWCAgBISAEhIAQEAJCQAgIASEQDwERwnhYqiQhIASEgBAQAkJACAgBISAEhECqEBAhTFVzqbJCQAgIASEgBISAEBACQkAICIF4CIgQxsNSJQkBISAEhIAQEAJCQAgIASEgBFKFgAhhqppLlRUCQkAICAEhIASEgBAQAkJACMRD4IEJYX9//3C47Y4dO+zIkSPW0NBgW7dutbq6unBJRyEgBISAEBACQkAICAEhIASEgBBICQKBEHZ0dNiqVats8+bNo2peU1NjFcMuhCvbtm2ztrY2a2pqEiEMoOgoBISAEBACQkAICAEhIASEgBBIGQKBEHZ1dVlra6tt2bJlzF8gQjgmLIoUAkJACAgBISAEhIAQEAJCQAikF4EHJYT/HwAA///RaqyaAAAyEElEQVTtnQlwXMeZ3z8APAECJEHwvgCC9yWKh3joPiyStuWNbdlmtjZJrTdOba5KnGyqdiuu7NZu1dZmy5tKxXGclGWn1mt7Vdr41EHJomRdFCWRFCkSvA8QIAgS4AkSBIiT6V/P9ODhIAUCb0gM8G9pODPv9ev35tevG9+/v6/7Zd10yZLppZdesrKyMissLLQtW7ZYQUFB2KV3ERABERABERABERABERABERCBDCFw9epVe/75562urs6WLl1qmzdv7vHKsyQIe+SijSIgAiIgAiIgAiIgAiIgAiKQsQQkCDO26nThIiACIiACIiACIiACIiACItA/AhKE/eOno0VABERABERABERABERABEQgYwlIEGZs1enCRUAEREAEREAEREAEREAERKB/BCQI+8dPR4uACIiACIjAXSXQ0tJijY2Nxh/wiRMn2siRI+/q+XUyERABERCBwUVAgnBw1ad+jQiIgAiIwCAm0N7ebleuXLHq6morLy+3DRs22IQJEwbxL9ZPEwEREAERSDcBCcJ0E1b5IiACIiACIhATAZYEP3r0qJ06dcp4GtTjjz/uvYQxFa9iREAEREAEhiABCcIhWOn6ySIgAiIgAnePAF49XllZWdbW1uY/Z2dn24gRI4zwT7aHfXwfPny43xe9whs3blhtbY1VVp72oaJNTU3W3NxsTzzxREoQIhBDecOGDfNlUgbbOS8vyubct0sNTdesoem6zzI2r9CG54y4XXbtEwERyGACDQ0Ndu3aNR95QD+Tm5tr48aNs7Fjx/r+gr5JafATkCAc/HWsXygCIiACInAPCfCHlhfC7Pr16160YXTNnj3bh34GsVhfX+/zIOby8vJs0qRJKQHHvpMnTzijrc7/EsRdbW1tJ0FIOYSStra2+uOZX8g5CTHFs4gQnDx58i3nHN60m1Z14aRVX66w+sYrljtyjA0fNsLGjp5gEwomW+GYSfeQok4tAplJoKnlhrW0NaUufuTw0QNikCUMIFVVVdnFixdTA0dhsIo+aObMmTZq1KjU4FLqR+jDoCMgQTjoqlQ/SAREQAREYCARqKio8PP9btxotPr6hCAsKiqyhx56yN5//31jhB4RyCj96NGjvWDECFu2bJkXhSwaQ54zZ85YYWGh33/u3Dk7cuRIN0G4e/dub9wxwr9q1SrvjSTE9PTp08Y5Fy1aZPn5+d3wtN9ssxstjfbbsl/ZydqD1trWYlPHz7aauiorzJtkC6beb8uLH7ARw0ZZdtbtPYzdCtcGERiCBBhgaW5pstorVVbXeNlysnKsrb3VxuZNcK9C35ZGDhvpxFbf2xOiLpr4HvXo8ZltIV80OoABpEuXLllZWZnvX+bPn+/7BsQhIpGBpEceecT3Gzk5Of400bLZEMrlc9d9bFPKHAIShJlTV7pSERABERCBDCSAIESUIeJWrlzpF4FB8BUUFNjbb7/tBRxC77777vOhohcuXPACDsPs4Ycf9gYZhheePww6vH2VlZXdBCFo2Hfw4EGjDAQlQpLzYqw98MADfrQ/GHdRlHUNl+xA5W5rbK73nsGJBVNt8viZ3oA9eHq3VV0qt5mFpbZ01mrLHz0ueqg+i4AI9ECAQZWyyl32SeX7dvl6rfOwT3YDLKddm2qzSQXTbNmMdbbEtSc88X1JoU/g2PCZd0LRae+ElNPP8E4oOQmvXxCFbEMMMhA1fvx4W7hwod/Hdhas+vjjj/2g0rRp03w59D+UF47nXORFWLKN8yplLgEJwsytO125CIiACIhABhBAEJ44ccKLtfXr13tBiAHF66233vKiDaNr+fLlfhsGGsfs2rXLLxozffp0Hzoafurly5f9/q4eQvYTSoo3kONDeGph4XgX+jXLh6jeahT/9IUT9qtd/9dWzH7IiifO9yGio0fk+VNWnj9uh87stuM1ZfbUsmdt0tjpfrub+ejcAvyfnGOUekt86NgePvHuD/DH80+4nmiOROGhDJ/L5Uu8+7MldvlsHd+7luC+p/LxOfUleZzeRCB9BK65kOtTtUe9tx0PYGHeRNduprm5ufV25vIpJwzPOC98sz255Is2fUKJjRqRe8cXQ1unnfMIGqIP6uquenFWXFzs+wv6HKICmG9MHgQcoeqEgRJOTptg0AmhR2QCUQUkRN7Jkyfto48+sjVr1tiUKVN8X4JInDrVDRS5sHPKYbCJwacxY8b4PAxqKWUuAQnCzK07XbkIiIAIiEAGEMBoY1VQDC88hIzGkzDQEIQkjLiSkhL/mXyEbG3bts2Hlc6aNcsbYH6n++d2gpA8UUGJN3Dx4sX+hdHXU2puvWFHznxiz+/4n/bVdf/K5k1d1slrwSIzh6r22M92ft/WzHncxucVuWISAivxb+qr+1EdZ3D2ZmRH2O42Jg/yEs5/TWyI/ouaS2Zz7z5T4j35OVFaMo/fHY6OvCc++muICsKQI3VFiQtNfu04Lxuix6UuvIftkVMlrzNZXOqby5H4P7kj+iVxdOJfdkeuIXlt3falNqQ+cLGcIpk6f2ZjoqhoDr/VX1fyE7n4mEidymNTYt8tywk5EhkSZfhtyTL9W7KMsDeZN7o1mTtcsD9tdH/iUPf7OjKG0hJX6Lf38PtDro4D3ZZIvlsdlzoPBYT8HRsTxXV8J1dtXbXtq/jAWl2I6HzXnkqnLLaC0Yl2f+7Kadt76n378Pg2e2blP7W5U5em9nFsbxPCbd++fS4a4LzrW9q8945j6S8QgR9++KExmIRXkJB0BCQRBIg65i/zuBr6IF7c5+Fep39BEB4/ftw/1gahxzbEH+WUlpb6BWeIPCDPjBkzrKSkxG/r7bUr38AjIEE48OpEVyQCIiACIjCICCAICfHE4CKMk9X7SEEQsvLnnDlzDC9h2M7iMK+99poP88R4i877+zRBiDGIoNy+fbs3Epk3uGDBgluGdF0lXNSFhb6050f29cf+xEomu9CxyLwmQt+OVn9if/fef7eiMVPcQjMjuXh+gdd/N2+2Rz4nt3th2PE5mTOpF/1O/1v97019inzolKXTl6jmjBwQ/dg5f2qP28yehOmOYd9hBAdj2BvGkRyJj+TkQP5NvBL5/MbEZrfd70nm8W/JbWQI//lMiX/8/ZAs2Zfrz0FO/yG5x9UD30O+jjyJT4myE9cRyu7Iz1GJ/3yORMGJslLn8IUntnEVyTz+jO5zIlvyPfEtlcdvDXmSJSS2dVxv4vq6XGunYzrOH84dzpn4VXxLHs85fPbE90R+NoTrS5435Elu73ZNncpLlpUs25fgN4UyfWGJI1LnYV/iP67RX1QiR+Kj23Th6lk7XL3XicH7bNmsNTatsJicqXTg9C775a4f2NPLvmbzp7k+IffOnyUaBCERAfQPePMQbCT6HOYn03fQ/vHykZ8wUCIH8PIRkRBN9EfkwbPIfGX4EmaOB5DVRxGAHI+HEQ8hg1x4FefNm+fLi5alz5lHQIIw8+pMVywCIiACIpBBBD5NEDJyj+GGYUUivAsB+c477/hFYzDAovNzPk0QcizhXfyBZ/4QngDKLykp6ZEaC8ocO1tmP3rn2/aPVn/dFkxf0cljQcjonlPb7aMTb9jvPvhvXYjbnI5yvPa6hQBzuTrvScjClJhM7cRLQZHs78iT+kwp/n+3pZ2MHXn8Z39sOD651xXoc0aEa+q8PmuyjEjZiRKS/ybPlyg/5HXfEhfqMrlt/rzJfcntIWdil7+CxNWmykuUkcrnMybO6T01iZLZ4I5r5+o4IPnOFxLfwzb3nsjk8/ityWshX8jNx+QR/jck8kW2JfP6c6XK8wclz5cqyX9PXRPfQtn+Ojk4dSa/L/FP8vguZXfkDEe5LSFP5HckNvl/3X7ek0f6cya/uc2hPP8pebzfltyXLCFxvP/C+fjQUV7ySt2maGlk4XvnfOE8Iad/d/kamq9b/Y0627QcwbfcLyRDuSGdrDlob5T9woqLFtqSmaudYJwddvX6PQhCFoahja9YscKLuCDq8BAiEvEYIhiJPKAvwquH15BFraKJ48ICVPQ3DF4RzYDIhBGi8JNPPrHz58/7z+RZt26dX+iKQS2lzCYgQZjZ9aerFwEREAERGOAEPk0QEsbFIyYw6DCsMLgYfWfk/9FHH/X7mG8Y0u0EISsDYtRhJCIwMeIoj0S4KoZgT4vKnLtSadv2/cIteNFi0wtL3DzChX4lxFPnj9jJmkN2qb7WeTEK7TPLv2wT3YIY/UtJszzxliwqmNTha5fvzhAnObuUf/knmbrmc5u94R72e5M98SVybEcJyU/urYeSEts6slB4pOCuRyT2pXL4D2Fbaqs3rjsKCZfm9ndk8ecJR4a8id/Ot46M/gqSX7vmT2SLXmOXHF04hXJvyTicNnkh4Wvi+iLn6VSuy5XKGMnjf0bn792+pY7r/Js/rX47HcbJE/934RYp0++PHpX4HOUQ3dv5/B17UtfvNrE67/7TH9rMCaV2f/HDVjxpPif0iZDRssqdtrdiu22Yt9ENwNxnE/Inh929fg+CkEfSMFdwyZIl/lgGgfDyMQeQ55TiDUS8sfgLfQFhpvQBjz32mJ+zjNgLC1WdPXvWRzAQrUBoKWIweG7D/GRCR0Po6erVq32fEvL0+uKVccARkCAccFWiCxIBERABERhMBD5NECLeEGoYYRhgzAFkwQZG9Qn1jIaLwqUnQYhRhwfg8OHDzuir9YtErFy5yoeAHTt2zId7MZ+I0FTO1dWAu+7mCVa4RTB2l7/j7ffxuUVuWfwRVnu12j1DrdnGue+Lp6+yWZPmWW5ysZnBVEf6LSIQJwFE387jv7XTl07Y0hlr3LzcjvDMivPHrPz8YbvmHkXRn0VlgiCkr2CRGFYJJd1KECLoeHYpK4vSzzDYRD9Af0KIOmHmhIcWFxd7EdnV6xc8j5WV7jml7vE5rJLMIBZho5SnlNkEei0I3chCahjk5ZdftgMHDnhX8pYtW/xNkdkYdPUiIAIiIAIikB4CzMfB4ML4igo8RNxbyVVGMb4YdWcbi78w54eQLUb2o95BrpB8lMnCDxs2bPAhWxh7eAMJE+O5hXPmlLgR/oQnj1F/RCmPoli7dm1qldOuv5ZzH3DL5GPE1lytcgtjVNnksTPdPKjlNnfKUucZnNr1EH0XARHogUCjCxmtvnjKXtv/gh9MmZg/zQ+s5GQPs6tOCDJHd9aEuf167MSnCUL6Ajx4IWSU/ISLIvwQc/QFzDdmEIn+hH4Dgccc5xBFQJ/Fi/4FwfDBBx/4fPxk+hO8kiwqQ3nkU8pcAlFBSL1u3ry524/x94P7Q5MShK+//rodOnTI3zQShN14aYMIiIAIiIAIpAjguePFH1OEXxB4QRDynXmCzAMirAtjDCGIgdaTkUUeysPA47lgwXhjO6KQ8hixD6P24fwYddH8qQuMfGDFURaRYXVEHqKdkz3cewqH54xwn+UFiKDSRxG4JQEWWmpubXJe92N2sb7GTl88aUfP7fUDLEX5U2x20XxbPHOV9efB9J8mCFlUhn4FzyEh6XgS9+zZ4/sURBzRAgjEUy48nb6CxWdYLCb0J/Q99EP0WYSiE2mAh5EH2CMaGWSqqanx5VNW6G9uCUU7BjSBIAjxGHMvbNy4sdv1+r9JbpJ7ShCyFLYEYTdO2iACIiACIiACvSYQBCGGVFhllG1+FFaj7b3mqIwiMBAJ0JbxFPK62nDZLjecd+HW+e41xvJzxyUf39L3K++NICQMnUEg+pT29jbn6Wv3Hj3CxxF77777rhd5DCLxeInoABT9EotREUZKWDvPPS124aRsI+ycbQjMEGaK+FTqOwEG9JgPSgQI0waoX4Q3C/vAO92COwhC6vVWgtDfSxKEfa9kHSkCIiACIiACXQlgMO7YscP/oSesizBRJREQARHoDQE8/iw8xZxB5hmzCAwpzCEkvJNnkNLPNDc3uciBHC8uEIMIjSAoeQwFebomBAieRLyG5OGxE8E7yD6Ox2vIdSBayKvUNwKIQTy4TAMgjJfvcIUzIozoEeo3RJf07Sy3P0qC8PZ8tFcEREAEREAE0kaA+Tv8kWdRiPDA+rSdTAWLgAgMegJBELLK6NNPP+09f4SB0s+kU1AMerC3+YEIal49RXdExXb43DUfjxoi/Hb37t1+YBBxTXgm8z158beBZ0JGpxFEvblcWrTs21zqLXdJEN4SjXaIgAiIgAiIQHoJYLzxhz0YbOk9m0oXAREY7AS6CkIeSYGnqauAGOwc7tbvw5sHc0Qd4bNR1uxjDjcJMY6nlb4eYRddxZXHgfC4ILyuc+fOTUWLUC7Cnrnhy5cv9yu6BmFPyG9IeBM5ln2cvy/CX4Iw0NS7CIiACIiACIiACIiACGQwAYQBXqX9+/fb+vXrvXcJkaAULwFEGIvssIozc/8QenjpmIvJsx/x6rFAC6G27EekUTcIRMQcUSFMFUAYIiZZuIfEYzxYaZqyEIRMK2A/gpDjqFvKKi0t9eG8hJpyjrDADyu+RsVmb3+1BGFvSSmfCIiACIiACIiACIiACAxgAggVFiZBJCA4mAPYF4/RAP6J9/zSEHWIPB7BhyBDqIW5lngFWdUVTx+CkcV4EFsIRDyIwZuIx5ZHC7Gd4xGAvNjOi3pE5HEOxOb999/vf/fBgwe9p5FFfFjgB0GKSERskof5oX0ZAJAgvOe3lS5ABERABERABERABERABEQgEwgQ+smzG5nzx2M9WGwHrx7b9+3b54UdHj08hGVlZd4ryPew8E55ebnPV1o6x4qLS7wojP5uxCBlcSwrjobn0iLsedwHjwpBwFEmZSEyuQ4WnumLd5BzSxBGa0CfRUAEREAEREAEREAEREAEROAWBHg0w4kTJ7x3bunSpU7UFXsvLN5BPIYk5gnivUPU8fnBBx/07+zDe4unD4EXhBzbSXgJKZ9nRCI6eSRRSUmJ9/yxH/GHKAzCEyGKt5AVZfEk4l3sS5Ig7As1HSMCIiACIiACIiACIiACIjDkCBDKyQrRePIQdDzvMSREIYl3BCEho4STMp8ziLWLFy/6R3bgQURQhmc4Jo6pdiGgZ7x3kXLDY0JCGCiCMYSSIhjxOs6bNy9VRriOO32XILxTYsovAiIgAiIgAiIgAiIgAiIwJAkgyA4dOpQShIi2kAj1RCgi4C5cuOBXD+0qCMN2wkGXLFniRR3zEplzWFlZ6cJF651HcJwPReWh9Hj+QiIfQpPzczxzBplLiCcxmi/k7+27BGFvSSmfCIiACIiACIiACIiACIjAkCYQPHyEfrIwDCGdhH8iBAnnJKyThWUQWYSGsmjMQw896N5Hem549lgsJj8/33v3ePA8effs2eMfMcGcQUJAmQ8YvIq882I1Uh5gz2Mqil2oKuKSxWpYUIbyuI6+JAnCvlDTMSIgAiIgAiIgAiIgAiIgAkOOAPME8dLxjEA8cywqw+MewiIyeAdXrlzpxRqP/0AgLlmy2Hnyiq2pqcktBHPShZwe8YvCEC7KCqHMSURMIvIIAx01alRKDOL5Q1Qi9piTiIcSz+CiRYu8OMSzyPlXrFjhj+tLhUgQ9oWajhEBERABERABERABERABERhyBPAE8tiJELaZnZ3lFowZ5ecNIgbxDvLIj7B4DKGdRUVFPqSTkE/mARJGumDBAu/Vq66utp07d/oyEXaEiQbPIHB5NiEriCIcWWEUgUioaXjWISuN4nVk1VG8i5R9p0mC8E6JKb8IiIAIiIAIiIAIiIAIiMCQJYAoJHT07Nlq99zHq54DXj3EICGgrP4ZFpXBK8gCMQhDEqIP4RZEYnheYViQxmeK/EN+HnaPpxHhRohoCFONzj3kHJQpQRiBp48iIAIiIAIiIAIiIAIiIAIikC4CePsQhwgzHi8RPHth8Zdjx455gbZ27Vov6PDu8Qr50nVdd1quPIR3Skz5RUAEREAEREAEREAEREAERMARQBSSoiKvqyBct25dj/n8gQPgHwnCAVAJugQREAEREAEREAEREAEREIHBQQCv4fnz5/1CMYSPMr9vICcJwoFcO7o2ERABERABERABERABERCBjCLAfECeScjKozw+gkVhBnKSIBzItaNrEwEREAEREAEREAEREAEREIE0EpAgTCNcFS0CIiACIiACIiACIiACIiACA5lArwWhmxyZmDHpfs3WrVvtwIED/vkXW7Zs8cunDuQfqWsTAREQAREQAREQAREQAREQARHoTiAIwitXrvhnHG7atKlbJr86qltBJyUIX3rpJSsrK7PCwkKTIOzGSxtEQAREQAREQAREQAREQAREICMIBEFYV1dnS5cutc2bN/d43VkShD1y0UYREAERuCMCPFiWFJ5FdEcHK7MIiMAdEWClP14s8MCLdjds2DDLzs7utET8HRWqzBlDAF9GS0uLX+5/xIgRqvOMqTld6N0mIEF4t4nrfCIgAkOWAMbJoUOHvGE6adIkmzhxogyUIXs36IenmwDtjRX+WPr90qVLfsU/2tzkyZN9hBMCQWlwE2AA7ujRo3bjxg3v9aDOGQxQEgER6ExAgrAzD30TAREQgdgJYJg2NjbamTNn7NixY5aXl2dz5861adOm3XNB2Hj2nLW5a8sZOdJGT3PLYmdlxf77VWDmEeCe4N4gjRg/3r3GZdSPwCvY0NBg+/fv994h2hyeQZaBx2NUUFBgixcv9h7D6MOkM+pH6mJvSQBvcFNTk504ccJOnTplo0aNsg0bNvj3ey0Imy5ctJarVy3LCVP63GwNTNyyHofSjputrdZYfdba3fuwMWNs1KSJd/XnSxDeVdw6mQiIQCYRCOFGGIwYk8FwZDsGR/geQtJ6CkliH5O0a2pq7Ny5c/69qKjIFi1aZNOnT/dlhPJ495O2I6KM40mcKy5Dps0Zyk3nL1iDM5Tqjx601mt1luUMptFTp9jomXMsd9ZsG+k8mEpDjIC7/xoqKqyh8pQ1nqmwpqQgHF443hmuMxL3xuxZlpObm3YwtC+EWwitDm2NE4c2wT634J1vi7QN2mhIiEEGYI4fP260t1mzZnkxgLfw5MmTvoz169f7wZnQrigvpGibZH/IE/brPT0EqFte1DfPbgsp1Ee4D7g/qPuePH54BZkHRX/Lizof7wY1Hn300ZQgpLxwHuo2lBvOw3mj28N19PW99eo117ZOWUNVud1w92WrE4SWnWOjprk+d0ax63OL3fuMvhav4zKYwA0nAhsqy62xyvW77rO7sROC0A0Y+7/Hs2fb8HHpH5CTIMzgm0iXLgIikB4CGAoYo4wwY1hiKI4ePdpGOi8aRieGCCFIJAwI8rENLwR5MGSCcYlnEKO0vLzcl4E4xECdN29eShByLsrjlZ+f78ugbK6jvr7eGyucP64Qt+vlp+zie9ut9qWXrelShd1sbfKj1e2tLTb+gSds0tObbcKG9Zbjfo/S0CBw0xnY7e4+rnr+eTv/xivWUH4kJfwYuR4+boKNW/2ITfvys5ZXUmzZ7j5PR8LQx6Cn3dD2aE/hxf3Pfrx85Ml1wpT2QdujXYb2R9ujnR0+fNgb9TNnzkw9FJq8H3/8sZ09e9ZWrFjh2yLtjO1j3Kh8ECG0yWvXrvly42x76WA2GMqkDkK9844Yoz6pc+qW/dwPJPpc6od7hDzUD/UWBgSo+wo3sHHkyBFfv4QLky8qCDme8rifQt9O2eEaEIjcD3GJwmuHD1nVT39il3a8Ye0tTZY93IUru99Bnztm/nKb+MRGm/K5z/s+F8+h0hAgQP27+/Cce3JDzdZf29W9H9gw/ua6+r/p7gu7mWWF65+06V/7xzbW9VXpThKE6Sas8kVABDKOwMWLF+2U857hScAYxQDB4JjtRup4YYRicCDgGIlmP0YoBgahoOSZMGGC/93kxSAh79SpU23Xrl3eyCgtLU0JQvLgzdizZ4/df//9hgGLcXPhwgW/ojOj23gUMVDiSOdefsWq/+Fn1u4M6wlPP2Xj7r/PhrsQumvHT9ilN9+ybOctHL9+nU3evMkLxTjOqTIGNoHWa/V27egxO/Hf/txs2EgreuQzNnnT0/6ibzhP4cUd71n1T39gk5/Z4gzXL9jY+5bH/oNoRxjzzPmqqqrybQCDPS8v17eVJUuW+sEXwkArKyttypQpfo4gRjwGPAKR9sMK6CQGaki03SD02LZ7926rra21Bx54wA/AMGDD9+LiYu9JpO1VV1f7tjp//nzfHsfdhRF6f7FD8B/qnT730KGDrh7O+740iLslS5b4OZ/UMeH2iECEOt/pm+lzCb0vKSlJiX7629AvExrM/UL/GxWE7Kd/Z2CAPnvOnDn+HuIceBXpa7mX4hKE53/7uh3+L//JGfhP2cSnN1r+ooXO6HcDfi6k9ewvnrcW19dPfuarNsX1ucNdf680+AkgBuuPnbCK575jjRXlVvjgUzb5s5tsmBsUvu7ui9rXXvMDCKXf/GOb+syX0g5EgjDtiHUCERCBTCKAOGPeCQKNxSfGjh3rR5ExIDAeVq5c6b0JGBOEgRKKhscPA4YFLDBsEH4YksxbYSSaV8KwzbP33nvPC0gMkBAyyn6O27t3rzdyEIQYMp988ok3ZPnOeYJR21+elX/7Azv3y5/bpM992QrdvJpcFwaYPWK4tbjfeOn9D+zyjrfdyOUNK/0Pf2JZkTC6/p5Xxw9cAoQQX3T35qW337Dxa9fZ1C8+6+8Lrrj1eoNd3b/PTv/dD23UjDk26cknnSd5Taw/BlFAO2BQBA8gHh0WXsIzhIHOPsQB3px9+/Z5jzvthzaKFykMqiASaSssHkOZISEY+R4Geti+bt06fyzijwEeDKJVq1Z58cA22vx9993ny4rLOx+uR+8dBOj7GABA5FOn9H14bBkQo9+kr6TeDx486PtcBD/1zAAAAwgcz2fqKvS5HE+d89q5c6e/p6KCkIEBhCN9LlEZnJd7jvsPMcg9NMOFcHJ8fxNzBmte/bWVf+evbeGf/42NX7PeRrgwbLzy9Llnf/0Lu7LjAzePO89m/sHXbeRkhev3l3kmHM8g3Lmf/dyufLLb8opn28zf/+euz53t55RyX9Tt22uH//SPbOLjm11//FUrcI+CSGeSIEwnXZUtAiKQcQQwBBklZhT64Ycf9kYChiRijxA0hB6jzQhC8jIPCcGGhxCjdPv27f4YjFe8hF0NinfffbebIAQSZWIUIUYxPjFSMJDwDGKY8D2OxB+ayh9+zy5uf8sW/eV3LHfmDMtxxlZILCRS+bf/xy5se8Wmfvn3/Ah52Kf3wUug+UqdXXXPF7bmdpv21a+50NAvdvqxDe5erP75L63FtYOJjz9mRY892ml/f79gwNPm3nnnHT/fi/s+iDrEGoY/nqAgCE+fPu3bIqHXGPLsP3DggG+DbMPrE014lGjDhBEiMhCSCxcu9O0TLxNtD08SbZnv5EcU4O3nnErpI0CfR1/HPcCAG95YBgAQhHhuGWCjT0QQ0udSbwsWLPCDZ/S5iDruHY6lzw0DZ/Tb1OOHH37YTRDyazgHqz4zx9DF57k+tsCLRLyNxc5bjAcyjnT9VIXVvv6qnfv587b8u89Z3pzSTsVe3uU81q++YpfeedMmPPUZG+EGIZUGP4HWhka7+OZvLadgvJumsdFm/bN/0ulHN9XW2L5/8w0bNXW2TfrsMzZ5YyJio1OmGL9IEMYIU0WJgAhkPgEMRowOPH6sShfmAmJcYECEcDKMGIwQws7wZIT09ttve8OGUW2Mit4KQsrHUMV4wdjlO4bQ8uXLvYEcyu/ve/2Jk1b14+es/kiZrfj+33sxGJ2zwoIzFc991yp++L/dwjJT3On6P0Le32vW8eknwDzBtobrznMx3Y1U/4FN/8pXOp2UBYiqnn/B3TdHbcozn7NpX+osGDtl7sMXBkTwuBNSTdvhvg9tDy8h7YHv0ZBPBmOCAAiirsyJWgThsmXLUldBu8WLRCgqXj/aJYIxKvQQlAgO2h7tkEEY2n9cIYOpi9GHbgQQ4kRk4PVjwA1vH4k6RyRSB9QP4o0+F0GIaAsJrx7RG6HPxUtI4vjbCUL2c99wPP05fTsP5GYQIM4QYQThBTfQceE3v7GFf/anluuuPRp5ce3wEat5+Vd2+sffd+3PDSLmdCyOFH6j3gchAXf/td9otoLlq23S5s/blM9/rtOPbHYDIoe/9S0bXjTRJjzh5vY/8Xin/XF/kSCMm6jKEwERyGgChGniScAgwCjFGAkJAwKBhzcBrwXf8QQyxy+kEJ6EB4JR7Ojx5LmVhzAcjyDFQ0nYHCFQeCzwgMSVmLdw6vvfsfOvb7V53/qvVjB/np+zEMqvefU3Vv2Ln1rr5Rpb8u3vuYXwZJwENoP5vdENgtRufdUZrlvdIga/Z8Xf+Nedfu7VsgN27K/+2m66+2fa174SuyDkfsdLxHw+5tfySIhoCm0P4cgcQNroky50FS8ObQzDH4/S+++/74+n7bAdcUdbLS8/6URFIgQ0hBtGB2sSgvScG5D5yHujuIaoqIxeiz7HS4BBAMKCqXNCN6OeuVDvCHoiNPiO8MNbHBJCHkFIKCl9blRQ3k4Qcjz3B4MI9LvcA4SVcn/EGSKMIKzZ+qKd/slzNv+P/8IK1623kW6aQUhVP/l7F1L6qruYNiv95r9zHiH3+B+lQU+g1fV5NVtfs+vHjvtw0OI//BedfvONc2dt7zd+1wof/oxN/Z1nLX/B/E774/4iQRg3UZUnAiKQ0QQwDvBU4D1Yu3ZtykuBYcF25pcwWo0nAQOCMCXmEJIwVgh5w6MRwo6iRid5biUIMUyCsUv5eEMwaFkJkdC54C2hjP6mqp/+2M7+7P/ZmKUrrWDJYjdiXexWlMyzG9Vn7Nyv/8GarzhBvGKVlf77P+o0kt3f8+r4gUsA46ThZLkd/rP/aMPGFrkQpt+xccl5gi3OGK/b/ZEzaH/oQpe+ZFM++/nYF5XBU4OXCG8RYgxPTbjnEYvspy3h/WHQBvH30EMP+Tm+eHaCh5CwUTyEDNTQphILh1T7NjljRmK1UQRDdKCGdst8srKy/a6cRu+FZECItkd7p3yl9BHAQ0dUBiG6wXNLneAdDAu88BnRxqIyeBHx4pHIR8go+UKf21sPIfcH9Y7Q5HiEKH05gpMBvbhSa70z/F970Y7+xX92q4l+wYqe2mjjVq308wgv79xl1S/8xD0GqNYtKPJF17a0qExc3Ad6OQzO8pifiu//L/eYnzMuFH+TjVv7gLW5MGieU9ly5ZKVf/ev3GJDLoTfzSEcUzonrT9JgjCteFW4CIhAphFg0QkeEUFoGiFjeOcwHPBIMBKNwcI+vBnMPSFklNFqDEzms+zYscOPUDPajXHRG0GIUYOhgyeDcjFYWVgBTyHGLYZS1AvZX6ZXnIflgltNtLGi0v22JreqXYGbxzDO2usa7HrlUTcSucgmbfy8W/xgtYsYVchof3lnyvE3nYfi2Lf/0q7tP+QeK5Fn+YsT8/CanSBktLq17pIV/8tv2riVq2N/UD0DLhjntB9CsGk/iDLaHoMvtD/aE4s8hRBDRCNtAwHAIAqCgTZIG8WzTnkIRNoXBj6GPuKONskrDLoQhojXn/aNGKUMBCYDMZSFKOzajjOlTjPhOqk3+j3m/hGVQR0jAKk/thM6zwAdwo0+F0FIv0h+6ooBAuqQVUG5R3ozh5D7in6cOieMmGPoc7kPuKcQl9R7XOnKxzvt5Pf+h7Vfa7XRs9wCNqXFNnxCodUfOmnXy4+6581Nt1m//4d6UH1cwDOonIofPef+Hv/WTWrNsTFL5rpnVNa5UNIW92iSUU4wHrEpX/qqG0h4Ou0PqpcgzKCbRpcqAiKQfgJ0ihgeGAZB1GE84B1kOysTYmAi1jBWMEqZb4RxSdgSxisCEQ9FNPQpXHlPHkLmOGHofPDBB95wDcYII98IRYxbjKA4PRVNNbXu+UevumfO/dqazlW5uYRjLHfGQst15yl6+CE/gh2uWe9DhIC7r3n0yMW337FL2992D0o+kvrhI6fMsIlPfsEvi5+OVRBpU4hCVuHFw04b4r6nbRBGisGPxw5hgADA80cehAGCEPGAsEA8FLs5ghj4ePvx/JAPIz/qFWQ/Bj/vDMTwQoQwwMM5w8AQ7Z0Qwp7acgqOPvSLAHUEf7yEYTEuxBp9KcIckc7AHOKebfS3bKP+OIa+mnuAuiPUM9RzuKd6WlSG8vEy79z5kavfqSnPJCHH9OXce5wjlNWvH+gObnHhylcPH3HPfn3JzcPd66Iwav1cwdGuz82bO9+v2jsxzXPE+vsbdHx6CDRUnrZLLlT94uu/sYYzh6292Q3SFkxwC765v8cuTHTSk0+4Z1XOS8/JI6VKEEZg6KMIiIAIIP5Y2Q4vYWVlhTMIcrzRiPHB/BYMBbwRGKl4LUgcg/GB8YARQR48ej15FXoShIhNDFyMHcJUMWA5FiMYYwYjB0HI+Xsqsy+1dtMZ3W0uFK+t8bp7ODJLtGdb1jBnTLnHT7DqaLoePN6Xa9Uxd48AYUxtbhCinVdrc+rE2c6zljM6L/HgbGcwpyPRjhAHtAXeSbQpPDfc+7QBxBpzCGmfCDWMmNbWFtdGR/g5ZAgKPIsc/+abb/r8GPjBMxiuGy8Ui5Mg9DgfYamEfzMPjXNyPPOBacd4CREhSukhEAbEEPSINPpS6oU+F68uHmPC6fHm0eci3MnD/ULdUjeEkJIv2j/eShCShz6XATfqmvuKPpuEuGTxIfKsWbPGXwPn6G/iERPtbsCDPheDH2885/B9rhuU4Nmv0dWe+3s+HZ85BPyCXu7+ZkG3m67P5b7NcnZHtvt7nMXfY0Lc3T2S7iRBmG7CKl8ERCDjCDB6jBi74ubStbS0emMyhHHyjicQgxSPBkYpXgaME4wYDEhGs9nWU8IQIWHshMViGAXnfHgDMWrC6od4SsiP4YBRzDFKIjCYCdD2COHDOKF9MRhCm+Pepw2Eeba0CwQceTCgaG+0JwQd4o82hfeIfT0lyqWtYuzT9mhrtD3Kob3RFvHaU5baXk8E49tGHVHvDLQRAorggzv1jrinX2Ufq4xS39Qx9wOf2UceHstDnXZN1CsiE9FJX019U7/cH2ynvqlf7h2ug/sL0Ul/Hr0fupar7yIw2AhIEA62GtXvEQERiI0ABgLGCaPI0VFiRpFPubmG7CdkFIMCA+JWIjC2C1JBIjBECNCegjCg/YUUBCEhoqwySpsLRj6GvlJmE6De6VdJ0T43rDLKfryGhAZzfwQBn9m/WlcvAveegAThva8DXYEIiECGEWA1ROa8YLgwzxBPg5IIiED6CSAIWZUSL85jjz3m545FBWP6r0BnuBcEwhxRBCFzrAmrVxIBEYiPgARhfCxVkgiIwBAhQCgZc4zCaDXhSkoiIALpJ0CYIHO8MF4IGSVMUIIw/dzv9Rmobwbh6HMRg6wAqyQCIhAfAQnC+FiqJBEQgSFCAC8FLzyEzGVRqOgQqXj9zHtOAEGA4cKcsLAAjEJF73m1pP0CqG8W/qHPZW4hcweVREAE4iPQa0HoYrVTM7O3bt3ql/8lTGrLli1+/kx8l6SSREAEREAEREAEREAEREAEREAE7gaBIAhZwInVmjdt2tTttH6+tltxKyUIt23b5ld7YtlmCcJuvLRBBERABERABERABERABERABDKCQBCEzNddtGiRbdy4sdt187zPLAnCbly0QQREQAREQAREQAREQAREQAQymoAEYUZXny5eBERABERABERABERABERABPpOQIKw7+x0pAiIgAiIgAiIgAiIgAiIgAhkNAEJwoyuPl28CIiACIiACIiACIiACIiACPSdgARh39npSBEQAREQAREQAREQAREQARHIaAIShBldfbp4ERABERABERABERABERABEeg7AQnCvrPTkSIgAiIgAiIgAiIgAiIgAiKQ0QQkCDO6+nTxIiACIiACIiACIiACIiACItB3AhKEfWenI0VABERABERABERABERABEQgowlIEGZ09eniRUAEREAEREAEREAEREAERKDvBCQI+85OR4qACIiACIiACIiACIiACIhARhPosyDcu3evDRs2zJ599lnLz8/PaAi6eBEQAREQAREQAREQAREQAREYigTq6+vtxRdftOvXr9vSpUtt48aN3TCMGjXKshobG2+GPdu2bbMXXnjB3nzzTXvwwQctNzc37NK7CIiACIiACIiACIiACIiACIhAhhBob2/3YnD27Nn2yCOP9E4Q1tTU2HvvvWevvPKKFRUVeU9hf3/vzZs3jYuJO2VnZ1tWVlasxXKdXG+ciWvkWuNMmcQ0HdcK0/CKk6vqP3PalOpffWqcbZ+y1P4zp/2n428qf6v093/o2lTpqP902KnpsKno/9JxrepT4+9T+1P/GzZssNWrV9u0adOo8k6pm4dw+PDhdvbsWdu/f3+njP35wg3R2tranyK6HYsxSFgr73EmrpPrjTPl5OQYrzgTNwTXynucCaZx/6FV/Q/t+m9razNecSbaPX1V3CmT2n9LS0vcP9/3qXG3/3TUP9dIXxV3ypT6T0efCkvaVNx/U1X/8ff/6aj/dNlUmVL/sqnSY1Or/geWTb1s2bIexSD9f4+CMG7xwg0Rt/FC5zVixIjY/3hxnVxvnAmecRuvdF7Nzc2xC0KuU/U/8Osfg4D6jzvRpuIWBBjZvOJMXCPXGneCKWzjTAiXuMWL6l/1r/av9h9nP0VZmdL/y6aSTS2bOv4BYQnCLj2qBKEEYSYMCEgQSBBIEEgQdPnz1e+vmSIINCA0tAcEJQglCCUIJQhTf/DkIZSHEOMl7vCmTBkQkCCUIJQglCBM/UGM6YMEoSIEMiFCRIJQglCCUIIw9WdPglCCUIJQIaOpDiGmDwoZVciwQobjXQBNIeMKGY97yoAEoQShBKEEYcrskyCUIJQglCBMdQgxfZAglCCUIJQgjKk78cVoDnH8c8glCCUIJQjTJAjdAiXxLlUZZ2+qskRABERABERABERABERABERABNJGIEuCMG1sVbAIiIAIiIAIiIAIiIAIiIAIDGgCEoQDunp0cSIgAiIgAiIgAiIgAiIgAiKQPgIShOljq5JFQAREQAREQAREQAREQAREYEATkCAc0NWjixMBERABERABERABERABERCB9BH4/zrwoJP0ZtZjAAAAAElFTkSuQmCC)\n",
        "\n",
        "So, from this, we know that there's a collision in the x direction if `cp2x > rp1x and cp1x < rp2x` \n",
        "\n",
        "Now, try the same method for the y direction."
      ]
    },
    {
      "cell_type": "code",
      "execution_count": null,
      "metadata": {
        "id": "wMsOv3boJ2KW"
      },
      "outputs": [],
      "source": []
    }
  ],
  "metadata": {
    "celltoolbar": "Slideshow",
    "kernelspec": {
      "display_name": "Python 3",
      "language": "python",
      "name": "python3"
    },
    "language_info": {
      "codemirror_mode": {
        "name": "ipython",
        "version": 3
      },
      "file_extension": ".py",
      "mimetype": "text/x-python",
      "name": "python",
      "nbconvert_exporter": "python",
      "pygments_lexer": "ipython3",
      "version": "3.8.3"
    },
    "colab": {
      "provenance": [],
      "include_colab_link": true
    }
  },
  "nbformat": 4,
  "nbformat_minor": 0
}