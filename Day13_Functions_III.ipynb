{
  "cells": [
    {
      "cell_type": "markdown",
      "metadata": {
        "id": "view-in-github",
        "colab_type": "text"
      },
      "source": [
        "<a href=\"https://colab.research.google.com/github/merriekay/CS65-Notes/blob/main/Day13_Functions_III.ipynb\" target=\"_parent\"><img src=\"https://colab.research.google.com/assets/colab-badge.svg\" alt=\"Open In Colab\"/></a>"
      ]
    },
    {
      "cell_type": "markdown",
      "metadata": {
        "id": "8kvK7RdXpgE0"
      },
      "source": [
        "# Day 13: Functions III\n",
        "## Documentation and Scope\n",
        "#### CS65: Introduction to Computer Science I\n",
        "Monday, October 24th, 2022"
      ]
    },
    {
      "cell_type": "markdown",
      "metadata": {
        "id": "BUeAtwCwpgE4"
      },
      "source": [
        "## Admin Stuff\n",
        "\n",
        "You should be working on:\n",
        "- [Lab #10: Functions](https://github.com/merriekay/CS65-Labs/blob/main/Lab10_Defining_Functions.ipynb) due tonight, Monday 10/24/22 by 11:59 pm.\n",
        "- Lab #11--trying something a bit different here, due on Friday by 11:59pm. "
      ]
    },
    {
      "cell_type": "markdown",
      "metadata": {
        "id": "AT4NPo2PpgE4"
      },
      "source": [
        "## Mid-semester Evaluation\n",
        "\n",
        "[Use this link to fill out the mid-semester evaluation](https://forms.gle/D9gk1GbdaxSx9c2j7).\n",
        "- Anonymous\n",
        "- Used as a pulse check to see how things are going and what changes I can make to improve the class."
      ]
    },
    {
      "cell_type": "markdown",
      "metadata": {
        "id": "fSbfMp7wpgE5"
      },
      "source": [
        "## Like this Computer Science stuff?\n",
        "\n",
        "Consider adding a [CS major or minor](https://catalog.drake.edu/undergraduate/collegeofartsandsciences/areas/cs/).\n",
        "\n",
        "The next step is to register for __CS66__. This Spring CS66 is offered:\n",
        "- M/W 9:30-10:45 (CRN: 12868)\n",
        "- T/R 9:30-10:45 (CRN: 9366)\n",
        "- T/R 11:00-12:15 (CRN: 3458)"
      ]
    },
    {
      "cell_type": "markdown",
      "metadata": {
        "id": "V3rl6p7XpgE5"
      },
      "source": [
        "## Function Review:\n",
        "\n",
        "So far we've covered:\n",
        "- Function syntax: `def function_name(param1, param2):`\n",
        "- Passing information to a function using __arguments__ and __parameters__\n",
        "    > Remember, \"Take your argument outisde!\"\n",
        "- Passing __multiple arguments and parameters__ to functions\n",
        "- Getting output from a function using the `return` keyword"
      ]
    },
    {
      "cell_type": "markdown",
      "metadata": {
        "id": "JMvzOWidpgE5"
      },
      "source": [
        "## Where we left off:\n",
        "\n",
        "### Group Exercise #1 (for today, #3 for last class):\n",
        "Define a new function called `tip_calculator` which accepts a numerical argument (a dollar amount for a bill at a restaurant). It should calculate how much a 15% tip would be and print the value. It's ok if the value isn't rounded to the nearest cent\n",
        "\n",
        "_Hint:_ there should be no `input` statements in your code.\n",
        "\n",
        "If I wanted to call it, I would do things like this:"
      ]
    },
    {
      "cell_type": "code",
      "execution_count": null,
      "metadata": {
        "id": "t3SI6YmQpgE6",
        "outputId": "79e949e1-4478-4a6d-b407-3d9ad49da70c"
      },
      "outputs": [
        {
          "data": {
            "text/plain": [
              "5.6925"
            ]
          },
          "execution_count": 4,
          "metadata": {},
          "output_type": "execute_result"
        }
      ],
      "source": [
        "tip_calculator(12.87) #should print 1.9305\n",
        "tip_calculator(110.20) #16.53\n",
        "tip_calculator(37.95) #5.6925"
      ]
    },
    {
      "cell_type": "code",
      "execution_count": null,
      "metadata": {
        "id": "V7S2nzXIpgE8",
        "outputId": "dc9349a2-6a82-426b-e5bd-55f941556ddb"
      },
      "outputs": [
        {
          "name": "stdout",
          "output_type": "stream",
          "text": [
            "1.9304999999999999\n",
            "16.53\n",
            "5.6925\n"
          ]
        }
      ],
      "source": [
        "def tip_calculator(bill):\n",
        "    tip = bill *0.15\n",
        "    return tip\n",
        "\n",
        "print(tip_calculator(12.87))\n",
        "test2 = tip_calculator(110.20)\n",
        "print(test2)\n",
        "print(tip_calculator(37.95))"
      ]
    },
    {
      "cell_type": "markdown",
      "metadata": {
        "id": "naY0WDogpgE8"
      },
      "source": [
        "## One step further\n",
        "Great... now, can you change the code above so that it takes two parameters:\n",
        "- one for the amount the bill was\n",
        "- one for the tip percent\n",
        "and have it return the total bill with the tip added"
      ]
    },
    {
      "cell_type": "markdown",
      "metadata": {
        "id": "kwCTgVtkpgE9"
      },
      "source": [
        "## 📖✨ Terminology Alert: `void` and `value-returning` functions\n",
        "- __void function__: a function that does not return anything\n",
        "- __value-returning function__: a function that returns a value\n",
        "    - I've also heart this referred to as a __fruitful__ function."
      ]
    },
    {
      "cell_type": "markdown",
      "metadata": {
        "id": "u5g8XKeepgE9"
      },
      "source": [
        "## Passing Different Data Types in and out of functions\n",
        "\n",
        "__Arguments__, __parameters__ and __returns__ can be all different types of data:\n",
        "- `str`, `int`, `float`, even `lists`!\n",
        "\n",
        "Here's an example of passing lists to and from a function:"
      ]
    },
    {
      "cell_type": "code",
      "execution_count": null,
      "metadata": {
        "id": "3HbUTUuApgE-",
        "outputId": "770274ae-e505-4559-f070-44f4b644c3bb"
      },
      "outputs": [
        {
          "name": "stdout",
          "output_type": "stream",
          "text": [
            "roll for initiative:\n",
            "10 -- initiative check failed\n"
          ]
        }
      ],
      "source": [
        "import random\n",
        "\n",
        "#this function takes in a number and returns a number\n",
        "def roll_die(sides):\n",
        "    roll = random.randint(1,sides)\n",
        "    return roll\n",
        "\n",
        "dex = 3\n",
        "print(\"roll for initiative:\")\n",
        "roll = roll_die(20)\n",
        "if (roll+ dex) > 14:\n",
        "    print(roll+dex, \"-- initiative check passed\")\n",
        "else:\n",
        "    print(roll+dex, \"-- initiative check failed\")"
      ]
    },
    {
      "cell_type": "code",
      "execution_count": null,
      "metadata": {
        "id": "Y1JYR90epgE-",
        "outputId": "233b3801-59a8-4729-9c6a-c4f8c5f3023e"
      },
      "outputs": [
        {
          "name": "stdout",
          "output_type": "stream",
          "text": [
            "s\n"
          ]
        }
      ],
      "source": [
        "#this function takes in a string and returns a string\n",
        "def get_last_letter(word):\n",
        "    return word[-1]\n",
        "\n",
        "print(get_last_letter('supercalifragilisticexpialidocious'))"
      ]
    },
    {
      "cell_type": "code",
      "execution_count": null,
      "metadata": {
        "id": "cWNqEET-pgE-",
        "outputId": "436dbd89-0344-49fc-85ab-fa629c22a6f3"
      },
      "outputs": [
        {
          "name": "stdout",
          "output_type": "stream",
          "text": [
            "['green', 'orange', 'yellow', 'green', 'blue', 'purple']\n"
          ]
        }
      ],
      "source": [
        "#this function takes in a list and returns a list\n",
        "def replace_red_with_green(color_list): #color_list is a list of colors\n",
        "    counter = 0 \n",
        "    while counter < len(color_list):\n",
        "        if color_list[counter] == 'red':\n",
        "            color_list[counter] = 'green'\n",
        "        counter +=1\n",
        "    return color_list #returning a list \n",
        "\n",
        "rainbow = ['red', 'orange' , 'yellow','green', 'blue', 'purple']\n",
        "\n",
        "new_colors = replace_red_with_green(rainbow) #passing a list to the function\n",
        "print(new_colors)"
      ]
    },
    {
      "cell_type": "markdown",
      "metadata": {
        "id": "ifhRkf3kpgE_"
      },
      "source": [
        "## Group Exercise #4:\n",
        "\n",
        "Change the program below so that `pay` is _returned_ from `calculate_pay()` instead of printed. \n",
        "\n",
        "Change the `user_pay_calculator()` function so that it correctly calls the new version of `calculate_pay()`"
      ]
    },
    {
      "cell_type": "code",
      "execution_count": null,
      "metadata": {
        "id": "VR44wqlYpgE_",
        "outputId": "3679ecb5-9e39-490c-ed5f-0b36d91fdca2"
      },
      "outputs": [
        {
          "name": "stdout",
          "output_type": "stream",
          "text": [
            "Enter your hourly wage: 10.25\n",
            "Enter your number of hours worked: 16\n",
            "Total pay: 164.0\n"
          ]
        }
      ],
      "source": [
        "def calculate_pay(wage,hours):\n",
        "    if hours <= 40:\n",
        "        pay = wage*hours\n",
        "    else:\n",
        "        overtime_hours = hours-40\n",
        "        pay = (wage*40) + (wage*1.5*overtime_hours)\n",
        "\n",
        "    print(\"Total pay:\",pay) #change this line\n",
        "\n",
        "def user_pay_calculator():\n",
        "    hourly_wage = float(input(\"Enter your hourly wage: \"))\n",
        "    num_hours = float(input(\"Enter your number of hours worked: \"))\n",
        "    calculate_pay(hourly_wage,num_hours) #change this line\n",
        "    \n",
        "user_pay_calculator()"
      ]
    },
    {
      "cell_type": "markdown",
      "metadata": {
        "id": "6rP79L3rpgE_"
      },
      "source": [
        "## Why should you return instead of just printing the result?\n",
        "\n",
        "Returning values gives you more flexibility in how the function can be used.\n",
        "\n",
        "Consider the pay calculator. We might want to allow a user to interact with it to check their pay; or, we might read employee information from a file so that we can process all their paychecks.\n",
        "\n",
        "<center>\n",
        "<div>\n",
        "<img src=\"attachment:employee_log_csv.png\" width=\"300\"/>\n",
        "</div>\n",
        "</center>\n",
        "\n",
        "__Good programming practice:__ don't put print and input statements inside of most functions - move all the user interaction to its own function."
      ]
    },
    {
      "cell_type": "code",
      "execution_count": null,
      "metadata": {
        "id": "KO9mUkF-pgE_"
      },
      "outputs": [],
      "source": [
        "import csv\n",
        "\n",
        "#make sure to include the calculate_pay() function you wrote above\n",
        "\n",
        "def process_payroll(employee_hours_logged_filename):\n",
        "    \n",
        "    with open(employee_hours_logged_filename) as hours_log_file:\n",
        "        employees_log = csv.reader(hours_log_file)\n",
        "        employees_log = list(employees_log)\n",
        "    \n",
        "    counter = 0\n",
        "    while counter < len(employees_log):\n",
        "        print(employees_log[counter][0],\":\",calculate_pay(float(employees_log[counter][1]),float(employees_log[counter][2])))\n",
        "        counter += 1\n",
        "   \n",
        "process_payroll(\"emp_hours_log_2021_June20-26.csv\")"
      ]
    },
    {
      "cell_type": "markdown",
      "metadata": {
        "id": "qBOTWALTpgFA"
      },
      "source": [
        "# Documenting Functions\n",
        "## The `help()` function\n",
        "\n",
        "Python provides a built-in `help()` function that shows you how to use other functions. You can check it out in the interactive shell in Thonny like this:"
      ]
    },
    {
      "cell_type": "code",
      "execution_count": null,
      "metadata": {
        "id": "4JrFnMCZpgFA",
        "outputId": "f660b722-079d-49af-c918-325fc9d03808"
      },
      "outputs": [
        {
          "name": "stdout",
          "output_type": "stream",
          "text": [
            "Help on built-in function len in module builtins:\n",
            "\n",
            "len(obj, /)\n",
            "    Return the number of items in a container.\n",
            "\n"
          ]
        }
      ],
      "source": [
        "help(len)"
      ]
    },
    {
      "cell_type": "markdown",
      "metadata": {
        "id": "-aM2caSOpgFA"
      },
      "source": [
        "Go ahead and try it yourself on other functions we've used. Here are a few: `int`, `print`, `type`, `random.randint`, etc.\n",
        "\n",
        "To use it with a method, you need to use dot notation with an appropriate object, but as above, just use the name and not parentheses."
      ]
    },
    {
      "cell_type": "code",
      "execution_count": null,
      "metadata": {
        "id": "G8FAiB1opgFA",
        "outputId": "20c6ee64-f497-49e2-c1fb-480ad6417ff6"
      },
      "outputs": [
        {
          "name": "stdout",
          "output_type": "stream",
          "text": [
            "Help on built-in function index:\n",
            "\n",
            "index(value, start=0, stop=9223372036854775807, /) method of builtins.list instance\n",
            "    Return first index of value.\n",
            "    \n",
            "    Raises ValueError if the value is not present.\n",
            "\n"
          ]
        }
      ],
      "source": [
        "help([].index)"
      ]
    },
    {
      "cell_type": "markdown",
      "metadata": {
        "id": "GmJaRtnzpgFA"
      },
      "source": [
        "## Docstrings\n",
        "\n",
        "You can (and should!) support this with your functions too.\n",
        "\n",
        "To do it, add a __docstring__, a multiline comment starting as the first line in your function.\n",
        "> Remember, a multiline comment uses `\"\"\"` on the top and bottom line of your comment\n",
        "\n",
        "Things typically included:\n",
        "* __Description__: a description of the function's purpose\n",
        "* __Parameters__: a description of each parameter - so that they know what to pass as arguments\n",
        "* __Returns__: a description of the return value, if any - so they know how to use what they get back"
      ]
    },
    {
      "cell_type": "code",
      "execution_count": null,
      "metadata": {
        "id": "BHHaUN-QpgFB"
      },
      "outputs": [],
      "source": [
        "def f_to_c(fahrenheit_temp):\n",
        "    \"\"\"\n",
        "    Convert a temperature from Fahrenheit to its Celsius equivalent.\n",
        "    \n",
        "    Paremeters:\n",
        "        fahrenheit_temp: a float, the Fahrenheit temperature to be converted\n",
        "        \n",
        "    Returns:\n",
        "        a float, the temperature converted into Celsius\n",
        "    \"\"\"\n",
        "    celsius_temp = (fahrenheit_temp-32)*(5/9)\n",
        "    return celsius_temp"
      ]
    },
    {
      "cell_type": "code",
      "execution_count": null,
      "metadata": {
        "id": "9LPItlhtpgFB",
        "outputId": "c2185736-99c6-4398-b316-ffb48d94b287"
      },
      "outputs": [
        {
          "name": "stdout",
          "output_type": "stream",
          "text": [
            "Help on function f_to_c in module __main__:\n",
            "\n",
            "f_to_c(fahrenheit_temp)\n",
            "    Convert a temperature from Fahrenheit to its Celsius equivalent.\n",
            "    \n",
            "    Paremeters:\n",
            "        fahrenheit_temp: a float, the Fahrenheit temperature to be converted\n",
            "        \n",
            "    Returns:\n",
            "        a float, the temperature converted into Celsius\n",
            "\n"
          ]
        }
      ],
      "source": [
        "help(f_to_c)"
      ]
    },
    {
      "cell_type": "markdown",
      "metadata": {
        "id": "8oFI7dy7pgFB"
      },
      "source": [
        "## Group Exercise #3\n",
        "\n",
        "Write the docstring for the following function. Make sure that is includes:\n",
        "- description\n",
        "- parameters\n",
        "- returns"
      ]
    },
    {
      "cell_type": "code",
      "execution_count": null,
      "metadata": {
        "id": "k27hnZB9pgFB"
      },
      "outputs": [],
      "source": [
        "def roll_die(sides):\n",
        "    \"\"\"\n",
        "    Insert Docstring text here\n",
        "    \n",
        "    \"\"\"\n",
        "    roll = random.randint(1,sides)\n",
        "    return roll\n",
        "\n",
        "help(roll_die)"
      ]
    },
    {
      "cell_type": "markdown",
      "metadata": {
        "id": "rM1w0rc8pgFB"
      },
      "source": [
        "# 📖✨ Terminology Alert: `scope`, `local`, `global`\n",
        "\n",
        "A variable's __scope__ is the part of the program that the variable is visible to.\n",
        "\n",
        "In Python, a scope can be __local__ to a function or __global__ (visible everywhere).\n",
        "\n",
        "Furthermore, scope may also be limited within a function - e.g., you can't use a variable before you've assigned something to it\n",
        "\n",
        "Parameters are local to the function they're defined in."
      ]
    },
    {
      "cell_type": "code",
      "execution_count": null,
      "metadata": {
        "id": "CrhRFgpApgFC",
        "outputId": "7b5d601f-4146-4378-e391-3a7e12e6447e"
      },
      "outputs": [
        {
          "name": "stdout",
          "output_type": "stream",
          "text": [
            "Enter your hourly wage: 10\n",
            "Enter your number of hours worked: 20\n",
            "Your total pay is 200.0\n"
          ]
        }
      ],
      "source": [
        "import csv\n",
        "\n",
        "def calculate_pay(wage,hours):\n",
        "    if hours <= 40:\n",
        "        pay = wage*hours\n",
        "    else:\n",
        "        overtime_hours = hours-40\n",
        "        pay = (wage*40) + (wage*1.5*overtime_hours)\n",
        "\n",
        "    return pay\n",
        "\n",
        "\n",
        "def user_pay_calculator():\n",
        "    hourly_wage = float(input(\"Enter your hourly wage: \"))\n",
        "    num_hours = float(input(\"Enter your number of hours worked: \"))\n",
        "    #calculate_pay(hourly_wage,num_hours)\n",
        "    #print(pay) #won't work\n",
        "    print(\"Your total pay is\",calculate_pay(hourly_wage,num_hours))\n",
        "    \n",
        "user_pay_calculator()"
      ]
    },
    {
      "cell_type": "markdown",
      "metadata": {
        "id": "JoQnmajipgFC"
      },
      "source": [
        "`wage`, `hours`, `overtime_hours`, `pay` are all local to the `calculate_pay()` function\n",
        "\n",
        "You can't use `pay` inside user_pay_calculator()\n",
        "\n",
        "Similarly, `hourly_wage` couldn't be used in `calculate_pay()`"
      ]
    },
    {
      "cell_type": "markdown",
      "metadata": {
        "id": "ApFzoYrepgFC"
      },
      "source": [
        "## Global variables\n",
        "\n",
        "Global variables are weird"
      ]
    },
    {
      "cell_type": "code",
      "execution_count": null,
      "metadata": {
        "id": "3Oq765vtpgFC",
        "outputId": "ae1af64c-0601-4099-b903-a189ef299073"
      },
      "outputs": [
        {
          "name": "stdout",
          "output_type": "stream",
          "text": [
            "350\n",
            "350\n"
          ]
        }
      ],
      "source": [
        "num_students = 350 #this variable is global because it is defined outside of a function\n",
        "\n",
        "def first_grade_classroom():\n",
        "    print(num_students)\n",
        "    \n",
        "def second_grade_classroom():\n",
        "    print(num_students)\n",
        "    \n",
        "first_grade_classroom()\n",
        "second_grade_classroom()"
      ]
    },
    {
      "cell_type": "code",
      "execution_count": null,
      "metadata": {
        "id": "ey78g4sRpgFC",
        "outputId": "c3b1a592-6dab-4584-86f4-0d99a3a640c6"
      },
      "outputs": [
        {
          "name": "stdout",
          "output_type": "stream",
          "text": [
            "30\n",
            "350\n"
          ]
        }
      ],
      "source": [
        "num_students = 350 #this variable is global because it is defined outside of a function\n",
        "\n",
        "def first_grade_classroom():\n",
        "    num_students = 30  #this is actually now a local variable with the same name as the global variable!\n",
        "    print(num_students)\n",
        "    \n",
        "def second_grade_classroom():\n",
        "    print(num_students)\n",
        "    \n",
        "first_grade_classroom()\n",
        "second_grade_classroom()"
      ]
    },
    {
      "cell_type": "markdown",
      "metadata": {
        "id": "o-s4RGbZpgFD"
      },
      "source": [
        "If you really want to change a global variable inside a function, you have to use the `global` keyword."
      ]
    },
    {
      "cell_type": "code",
      "execution_count": null,
      "metadata": {
        "id": "lMxSxuOOpgFD",
        "outputId": "c5355503-b38f-4be3-ab91-33ca5fb7a40a"
      },
      "outputs": [
        {
          "name": "stdout",
          "output_type": "stream",
          "text": [
            "30\n",
            "30\n"
          ]
        }
      ],
      "source": [
        "num_students = 350 #this variable is global because it is defined outside of a function\n",
        "\n",
        "def first_grade_classroom():\n",
        "    global num_students #here, we tell it to really use the global variable\n",
        "    num_students = 30\n",
        "    print(num_students)\n",
        "    \n",
        "def second_grade_classroom():\n",
        "    print(num_students)\n",
        "    \n",
        "first_grade_classroom()\n",
        "second_grade_classroom()"
      ]
    },
    {
      "cell_type": "markdown",
      "metadata": {
        "id": "nfpjMYAXpgFD"
      },
      "source": [
        "But, you really _shouldn't_ do this. Changing global variables inside of functions makes programs _extremely difficult_ to debug.\n",
        "\n",
        "If you need the same variable in multiple functions, it is better to pass it as an argument or return it."
      ]
    },
    {
      "cell_type": "markdown",
      "metadata": {
        "id": "y241Yn2kpgFD"
      },
      "source": [
        "## Constants\n",
        "\n",
        "It's best to have all your code be in functions, except\n",
        "* Constant values you might need that never change (by convention, use all caps for names)\n",
        "* Maybe a single function call to launch the program."
      ]
    },
    {
      "cell_type": "code",
      "execution_count": null,
      "metadata": {
        "id": "LS7yASbepgFD"
      },
      "outputs": [],
      "source": [
        "import csv\n",
        "\n",
        "OVERTIME_THRESHOLD = 40\n",
        "\n",
        "def calculate_pay(wage,hours):\n",
        "    if hours <= OVERTIME_THRESHOLD:\n",
        "        pay = wage*hours\n",
        "    else:\n",
        "        overtime_hours = hours-OVERTIME_THRESHOLD\n",
        "        pay = (wage*OVERTIME_THRESHOLD) + (wage*1.5*overtime_hours)\n",
        "\n",
        "    return pay\n",
        "\n",
        "\n",
        "def user_pay_calculator():\n",
        "    hourly_wage = float(input(\"Enter your hourly wage: \"))\n",
        "    num_hours = float(input(\"Enter your number of hours worked: \"))\n",
        "    print(\"Your total pay is\",calculate_pay(hourly_wage,num_hours))\n",
        "    \n",
        "user_pay_calculator()"
      ]
    },
    {
      "cell_type": "markdown",
      "metadata": {
        "id": "S7Jupq_MpgFD"
      },
      "source": [
        "## Want some more practice?\n",
        "\n",
        "Give these a try:\n",
        "- define a function called `greeting()`. This function should first prompt the user for theirn ame and then print 'Hello' followed by the name that was entered. Can you do this with passing an argument to greeting? Try calling the function two times. \n",
        "- write a function called `coin_flip()` which should simulate a coin flip. 50% of the time it should print 'Heads', 50% of the time it should print 'Tails'. Try using a loop to call `coin_flip()` 10 times.\n",
        "- write a function called `roll_die()` that takes one parameter for the number of sides on the die, have it print out a random number between 1 and the parameter (inclusive). Can you change this so it _returns_ the value rather than printing?\n",
        "\n"
      ]
    },
    {
      "cell_type": "code",
      "execution_count": null,
      "metadata": {
        "id": "KfkI4QkOpgFE"
      },
      "outputs": [],
      "source": []
    }
  ],
  "metadata": {
    "celltoolbar": "Slideshow",
    "kernelspec": {
      "display_name": "Python 3",
      "language": "python",
      "name": "python3"
    },
    "language_info": {
      "codemirror_mode": {
        "name": "ipython",
        "version": 3
      },
      "file_extension": ".py",
      "mimetype": "text/x-python",
      "name": "python",
      "nbconvert_exporter": "python",
      "pygments_lexer": "ipython3",
      "version": "3.8.3"
    },
    "colab": {
      "provenance": [],
      "include_colab_link": true
    }
  },
  "nbformat": 4,
  "nbformat_minor": 0
}